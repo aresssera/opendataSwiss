{
  "cells": [
    {
      "cell_type": "code",
      "execution_count": 1,
      "metadata": {
        "colab": {
          "base_uri": "https://localhost:8080/"
        },
        "id": "L3zneAOAg85k",
        "outputId": "ec23bda6-0727-482b-9a4a-846f8ef542f6"
      },
      "outputs": [
        {
          "output_type": "stream",
          "name": "stdout",
          "text": [
            "Looking in indexes: https://pypi.org/simple, https://us-python.pkg.dev/colab-wheels/public/simple/\n",
            "Collecting urlextract\n",
            "  Downloading urlextract-1.8.0-py3-none-any.whl (21 kB)\n",
            "Requirement already satisfied: idna in /usr/local/lib/python3.10/dist-packages (from urlextract) (3.4)\n",
            "Collecting uritools (from urlextract)\n",
            "  Downloading uritools-4.0.1-py3-none-any.whl (10 kB)\n",
            "Requirement already satisfied: platformdirs in /usr/local/lib/python3.10/dist-packages (from urlextract) (3.3.0)\n",
            "Requirement already satisfied: filelock in /usr/local/lib/python3.10/dist-packages (from urlextract) (3.12.0)\n",
            "Installing collected packages: uritools, urlextract\n",
            "Successfully installed uritools-4.0.1 urlextract-1.8.0\n"
          ]
        }
      ],
      "source": [
        "! pip install urlextract"
      ]
    },
    {
      "cell_type": "code",
      "source": [
        "import requests     # 2.18.4\n",
        "import json         # 2.0.9\n",
        "import pandas as pd # 0.23.0\n",
        "import numpy as np\n",
        "import ast\n",
        "import time\n",
        "import re\n",
        "from urlextract import URLExtract as extract\n",
        "extractor = extract()\n",
        "\n",
        "import requests as r\n",
        "import urllib3"
      ],
      "metadata": {
        "id": "LxhWeEqIhg2N"
      },
      "execution_count": 7,
      "outputs": []
    },
    {
      "cell_type": "code",
      "source": [
        "# BFE Abnahme\n",
        "packages = 'https://ckan.ogdch-abnahme.clients.liip.ch/api/3/action/package_search?fq=organization:(bundesamt-fur-energie-bfe)&rows=500'\n",
        "\n",
        "# BFE PROD\n",
        "#packages = 'https://ckan.opendata.swiss/api/3/action/package_search?fq=organization:(bundesamt-fur-energie-bfe)&rows=500'\n",
        "\n",
        "# Make the HTTP request\n",
        "response = requests.get(packages)\n",
        "\n",
        "# Use the json module to load CKAN's response into a dictionary\n",
        "response_dict = json.loads(response.content)\n",
        "\n",
        "# Check the contents of the response\n",
        "assert response_dict['success'] is True  # make sure if response is OK\n",
        "\n",
        "# Get a list of all publications and their information (each publication is a dictionary)\n",
        "data = response_dict['result']['results'].copy()\n",
        "\n",
        "# get all upper keys\n",
        "allKeys = []\n",
        "\n",
        "# store information about each dataset in a frame\n",
        "df = pd.DataFrame(data)[['id','title','url', 'relations', 'resources']]\n",
        "df"
      ],
      "metadata": {
        "colab": {
          "base_uri": "https://localhost:8080/",
          "height": 424
        },
        "id": "Su7vk91fhm1R",
        "outputId": "b8ed7c6c-a942-4074-ec76-b5d0d842a625"
      },
      "execution_count": 3,
      "outputs": [
        {
          "output_type": "execute_result",
          "data": {
            "text/plain": [
              "                                       id  \\\n",
              "0    a02f2157-1cfd-436e-909d-2e197a86f6bd   \n",
              "1    02512543-1db1-4992-9aa7-b8eaf90069ab   \n",
              "2    44f9dd93-6bd0-4d56-8650-e472b44b72b0   \n",
              "3    b4117aac-fc84-43de-8c0f-a74e0dd98247   \n",
              "4    75b319b5-a7bc-40fc-80e9-579b02e46c02   \n",
              "..                                    ...   \n",
              "131  ff382622-8419-4b66-a157-1e47b9653883   \n",
              "132  a37cb9ae-50f9-4fa5-a48c-95e2c5f0625b   \n",
              "133  73d41982-f474-409a-a129-418678921128   \n",
              "134  e839fa78-ba22-4772-be16-0843b99b7161   \n",
              "135  38b82bb1-f119-4bca-9b04-439055272ab1   \n",
              "\n",
              "                                                 title  \\\n",
              "0    {'fr': 'test_relations_01', 'de': 'test_relati...   \n",
              "1    {'fr': '', 'de': 'Erdbebengefährdung für die S...   \n",
              "2    {'fr': 'Offres d’encouragement de l’innovation...   \n",
              "3    {'fr': '', 'de': '', 'en': 'test_relations', '...   \n",
              "4    {'fr': '', 'de': 'Kennzahlen Shared Mobility',...   \n",
              "..                                                 ...   \n",
              "131  {'fr': 'Chiffres-clés concernant l’infrastruct...   \n",
              "132  {'fr': 'Aptitude des toitures à utiliser l’éne...   \n",
              "133  {'fr': 'Etude sur l'électricité hivernale d'or...   \n",
              "134  {'fr': 'Résultats de la modélisation PE2050+ :...   \n",
              "135  {'fr': 'Etudes de potentiel et publications su...   \n",
              "\n",
              "                                                   url  \\\n",
              "0            https://www.bfe.admin.ch/bfe/de/home.html   \n",
              "1    https://www.bfe.admin.ch/bfe/de/home/versorgun...   \n",
              "2                         http://www.bfe.admin.ch/ogd4   \n",
              "3                             https://www.bfe.admin.ch   \n",
              "4        https://bfe.admin.ch/shared-mobility-angebote   \n",
              "..                                                 ...   \n",
              "131  http://www.uvek-gis.admin.ch/BFE/storymaps/MO_...   \n",
              "132  https://www.bfe.admin.ch/bfe/de/home/versorgun...   \n",
              "133  https://www.bfe.admin.ch/bfe/de/home/politik/e...   \n",
              "134  https://www.bfe.admin.ch/bfe/de/home/politik/e...   \n",
              "135                                                      \n",
              "\n",
              "                                             relations  \\\n",
              "0    [{'url': 'http://de.wikipedia.org/wiki/Pizza',...   \n",
              "1    [{'url': 'http://doi.org/10.5169/seals-73629',...   \n",
              "2                                                   {}   \n",
              "3    [[{'url': 'https://www.bfe.admin.ch/bfe/de/hom...   \n",
              "4    [[{'url': 'https://www.sharedmobility.ch/info'...   \n",
              "..                                                 ...   \n",
              "131                                                 {}   \n",
              "132                                                 {}   \n",
              "133  [{'url': 'https://www.bfe.admin.ch/bfe/de/home...   \n",
              "134  [{'url': 'https://www.uvek-gis.admin.ch/BFE/st...   \n",
              "135                                                 {}   \n",
              "\n",
              "                                             resources  \n",
              "0    [{'byte_size': 0, 'coverage': '', 'cache_last_...  \n",
              "1    [{'byte_size': 0, 'coverage': '', 'cache_last_...  \n",
              "2    [{'byte_size': 0, 'coverage': '', 'cache_last_...  \n",
              "3    [{'byte_size': 0, 'coverage': '', 'cache_last_...  \n",
              "4    [{'byte_size': 0, 'cache_last_updated': None, ...  \n",
              "..                                                 ...  \n",
              "131  [{'byte_size': 0, 'cache_last_updated': None, ...  \n",
              "132  [{'byte_size': 0, 'cache_last_updated': None, ...  \n",
              "133  [{'byte_size': 5819680686, 'cache_last_updated...  \n",
              "134  [{'byte_size': 0, 'cache_last_updated': None, ...  \n",
              "135  [{'byte_size': 0, 'cache_last_updated': None, ...  \n",
              "\n",
              "[136 rows x 5 columns]"
            ],
            "text/html": [
              "\n",
              "  <div id=\"df-6f5318cc-35c7-40ac-b4ae-207d78980f73\">\n",
              "    <div class=\"colab-df-container\">\n",
              "      <div>\n",
              "<style scoped>\n",
              "    .dataframe tbody tr th:only-of-type {\n",
              "        vertical-align: middle;\n",
              "    }\n",
              "\n",
              "    .dataframe tbody tr th {\n",
              "        vertical-align: top;\n",
              "    }\n",
              "\n",
              "    .dataframe thead th {\n",
              "        text-align: right;\n",
              "    }\n",
              "</style>\n",
              "<table border=\"1\" class=\"dataframe\">\n",
              "  <thead>\n",
              "    <tr style=\"text-align: right;\">\n",
              "      <th></th>\n",
              "      <th>id</th>\n",
              "      <th>title</th>\n",
              "      <th>url</th>\n",
              "      <th>relations</th>\n",
              "      <th>resources</th>\n",
              "    </tr>\n",
              "  </thead>\n",
              "  <tbody>\n",
              "    <tr>\n",
              "      <th>0</th>\n",
              "      <td>a02f2157-1cfd-436e-909d-2e197a86f6bd</td>\n",
              "      <td>{'fr': 'test_relations_01', 'de': 'test_relati...</td>\n",
              "      <td>https://www.bfe.admin.ch/bfe/de/home.html</td>\n",
              "      <td>[{'url': 'http://de.wikipedia.org/wiki/Pizza',...</td>\n",
              "      <td>[{'byte_size': 0, 'coverage': '', 'cache_last_...</td>\n",
              "    </tr>\n",
              "    <tr>\n",
              "      <th>1</th>\n",
              "      <td>02512543-1db1-4992-9aa7-b8eaf90069ab</td>\n",
              "      <td>{'fr': '', 'de': 'Erdbebengefährdung für die S...</td>\n",
              "      <td>https://www.bfe.admin.ch/bfe/de/home/versorgun...</td>\n",
              "      <td>[{'url': 'http://doi.org/10.5169/seals-73629',...</td>\n",
              "      <td>[{'byte_size': 0, 'coverage': '', 'cache_last_...</td>\n",
              "    </tr>\n",
              "    <tr>\n",
              "      <th>2</th>\n",
              "      <td>44f9dd93-6bd0-4d56-8650-e472b44b72b0</td>\n",
              "      <td>{'fr': 'Offres d’encouragement de l’innovation...</td>\n",
              "      <td>http://www.bfe.admin.ch/ogd4</td>\n",
              "      <td>{}</td>\n",
              "      <td>[{'byte_size': 0, 'coverage': '', 'cache_last_...</td>\n",
              "    </tr>\n",
              "    <tr>\n",
              "      <th>3</th>\n",
              "      <td>b4117aac-fc84-43de-8c0f-a74e0dd98247</td>\n",
              "      <td>{'fr': '', 'de': '', 'en': 'test_relations', '...</td>\n",
              "      <td>https://www.bfe.admin.ch</td>\n",
              "      <td>[[{'url': 'https://www.bfe.admin.ch/bfe/de/hom...</td>\n",
              "      <td>[{'byte_size': 0, 'coverage': '', 'cache_last_...</td>\n",
              "    </tr>\n",
              "    <tr>\n",
              "      <th>4</th>\n",
              "      <td>75b319b5-a7bc-40fc-80e9-579b02e46c02</td>\n",
              "      <td>{'fr': '', 'de': 'Kennzahlen Shared Mobility',...</td>\n",
              "      <td>https://bfe.admin.ch/shared-mobility-angebote</td>\n",
              "      <td>[[{'url': 'https://www.sharedmobility.ch/info'...</td>\n",
              "      <td>[{'byte_size': 0, 'cache_last_updated': None, ...</td>\n",
              "    </tr>\n",
              "    <tr>\n",
              "      <th>...</th>\n",
              "      <td>...</td>\n",
              "      <td>...</td>\n",
              "      <td>...</td>\n",
              "      <td>...</td>\n",
              "      <td>...</td>\n",
              "    </tr>\n",
              "    <tr>\n",
              "      <th>131</th>\n",
              "      <td>ff382622-8419-4b66-a157-1e47b9653883</td>\n",
              "      <td>{'fr': 'Chiffres-clés concernant l’infrastruct...</td>\n",
              "      <td>http://www.uvek-gis.admin.ch/BFE/storymaps/MO_...</td>\n",
              "      <td>{}</td>\n",
              "      <td>[{'byte_size': 0, 'cache_last_updated': None, ...</td>\n",
              "    </tr>\n",
              "    <tr>\n",
              "      <th>132</th>\n",
              "      <td>a37cb9ae-50f9-4fa5-a48c-95e2c5f0625b</td>\n",
              "      <td>{'fr': 'Aptitude des toitures à utiliser l’éne...</td>\n",
              "      <td>https://www.bfe.admin.ch/bfe/de/home/versorgun...</td>\n",
              "      <td>{}</td>\n",
              "      <td>[{'byte_size': 0, 'cache_last_updated': None, ...</td>\n",
              "    </tr>\n",
              "    <tr>\n",
              "      <th>133</th>\n",
              "      <td>73d41982-f474-409a-a129-418678921128</td>\n",
              "      <td>{'fr': 'Etude sur l'électricité hivernale d'or...</td>\n",
              "      <td>https://www.bfe.admin.ch/bfe/de/home/politik/e...</td>\n",
              "      <td>[{'url': 'https://www.bfe.admin.ch/bfe/de/home...</td>\n",
              "      <td>[{'byte_size': 5819680686, 'cache_last_updated...</td>\n",
              "    </tr>\n",
              "    <tr>\n",
              "      <th>134</th>\n",
              "      <td>e839fa78-ba22-4772-be16-0843b99b7161</td>\n",
              "      <td>{'fr': 'Résultats de la modélisation PE2050+ :...</td>\n",
              "      <td>https://www.bfe.admin.ch/bfe/de/home/politik/e...</td>\n",
              "      <td>[{'url': 'https://www.uvek-gis.admin.ch/BFE/st...</td>\n",
              "      <td>[{'byte_size': 0, 'cache_last_updated': None, ...</td>\n",
              "    </tr>\n",
              "    <tr>\n",
              "      <th>135</th>\n",
              "      <td>38b82bb1-f119-4bca-9b04-439055272ab1</td>\n",
              "      <td>{'fr': 'Etudes de potentiel et publications su...</td>\n",
              "      <td></td>\n",
              "      <td>{}</td>\n",
              "      <td>[{'byte_size': 0, 'cache_last_updated': None, ...</td>\n",
              "    </tr>\n",
              "  </tbody>\n",
              "</table>\n",
              "<p>136 rows × 5 columns</p>\n",
              "</div>\n",
              "      <button class=\"colab-df-convert\" onclick=\"convertToInteractive('df-6f5318cc-35c7-40ac-b4ae-207d78980f73')\"\n",
              "              title=\"Convert this dataframe to an interactive table.\"\n",
              "              style=\"display:none;\">\n",
              "        \n",
              "  <svg xmlns=\"http://www.w3.org/2000/svg\" height=\"24px\"viewBox=\"0 0 24 24\"\n",
              "       width=\"24px\">\n",
              "    <path d=\"M0 0h24v24H0V0z\" fill=\"none\"/>\n",
              "    <path d=\"M18.56 5.44l.94 2.06.94-2.06 2.06-.94-2.06-.94-.94-2.06-.94 2.06-2.06.94zm-11 1L8.5 8.5l.94-2.06 2.06-.94-2.06-.94L8.5 2.5l-.94 2.06-2.06.94zm10 10l.94 2.06.94-2.06 2.06-.94-2.06-.94-.94-2.06-.94 2.06-2.06.94z\"/><path d=\"M17.41 7.96l-1.37-1.37c-.4-.4-.92-.59-1.43-.59-.52 0-1.04.2-1.43.59L10.3 9.45l-7.72 7.72c-.78.78-.78 2.05 0 2.83L4 21.41c.39.39.9.59 1.41.59.51 0 1.02-.2 1.41-.59l7.78-7.78 2.81-2.81c.8-.78.8-2.07 0-2.86zM5.41 20L4 18.59l7.72-7.72 1.47 1.35L5.41 20z\"/>\n",
              "  </svg>\n",
              "      </button>\n",
              "      \n",
              "  <style>\n",
              "    .colab-df-container {\n",
              "      display:flex;\n",
              "      flex-wrap:wrap;\n",
              "      gap: 12px;\n",
              "    }\n",
              "\n",
              "    .colab-df-convert {\n",
              "      background-color: #E8F0FE;\n",
              "      border: none;\n",
              "      border-radius: 50%;\n",
              "      cursor: pointer;\n",
              "      display: none;\n",
              "      fill: #1967D2;\n",
              "      height: 32px;\n",
              "      padding: 0 0 0 0;\n",
              "      width: 32px;\n",
              "    }\n",
              "\n",
              "    .colab-df-convert:hover {\n",
              "      background-color: #E2EBFA;\n",
              "      box-shadow: 0px 1px 2px rgba(60, 64, 67, 0.3), 0px 1px 3px 1px rgba(60, 64, 67, 0.15);\n",
              "      fill: #174EA6;\n",
              "    }\n",
              "\n",
              "    [theme=dark] .colab-df-convert {\n",
              "      background-color: #3B4455;\n",
              "      fill: #D2E3FC;\n",
              "    }\n",
              "\n",
              "    [theme=dark] .colab-df-convert:hover {\n",
              "      background-color: #434B5C;\n",
              "      box-shadow: 0px 1px 3px 1px rgba(0, 0, 0, 0.15);\n",
              "      filter: drop-shadow(0px 1px 2px rgba(0, 0, 0, 0.3));\n",
              "      fill: #FFFFFF;\n",
              "    }\n",
              "  </style>\n",
              "\n",
              "      <script>\n",
              "        const buttonEl =\n",
              "          document.querySelector('#df-6f5318cc-35c7-40ac-b4ae-207d78980f73 button.colab-df-convert');\n",
              "        buttonEl.style.display =\n",
              "          google.colab.kernel.accessAllowed ? 'block' : 'none';\n",
              "\n",
              "        async function convertToInteractive(key) {\n",
              "          const element = document.querySelector('#df-6f5318cc-35c7-40ac-b4ae-207d78980f73');\n",
              "          const dataTable =\n",
              "            await google.colab.kernel.invokeFunction('convertToInteractive',\n",
              "                                                     [key], {});\n",
              "          if (!dataTable) return;\n",
              "\n",
              "          const docLinkHtml = 'Like what you see? Visit the ' +\n",
              "            '<a target=\"_blank\" href=https://colab.research.google.com/notebooks/data_table.ipynb>data table notebook</a>'\n",
              "            + ' to learn more about interactive tables.';\n",
              "          element.innerHTML = '';\n",
              "          dataTable['output_type'] = 'display_data';\n",
              "          await google.colab.output.renderOutput(dataTable, element);\n",
              "          const docLink = document.createElement('div');\n",
              "          docLink.innerHTML = docLinkHtml;\n",
              "          element.appendChild(docLink);\n",
              "        }\n",
              "      </script>\n",
              "    </div>\n",
              "  </div>\n",
              "  "
            ]
          },
          "metadata": {},
          "execution_count": 3
        }
      ]
    },
    {
      "cell_type": "code",
      "source": [
        "print(df['relations'].loc[2])\n",
        "print(type(df['relations'].loc[2]))"
      ],
      "metadata": {
        "colab": {
          "base_uri": "https://localhost:8080/"
        },
        "id": "CzGpAjX6hqPQ",
        "outputId": "b5d1d9de-b5bd-49f4-9e88-9d581882dae8"
      },
      "execution_count": 4,
      "outputs": [
        {
          "output_type": "stream",
          "name": "stdout",
          "text": [
            "{}\n",
            "<class 'dict'>\n"
          ]
        }
      ]
    },
    {
      "cell_type": "code",
      "source": [
        "print(df['relations'].loc[4])\n",
        "print(type(df['relations'].loc[4]))"
      ],
      "metadata": {
        "colab": {
          "base_uri": "https://localhost:8080/"
        },
        "id": "MAnQVTMVhs8_",
        "outputId": "de9a2104-bfd4-48c6-bf30-8943c8dc3f47"
      },
      "execution_count": 5,
      "outputs": [
        {
          "output_type": "stream",
          "name": "stdout",
          "text": [
            "[\"[{'url': 'https://www.sharedmobility.ch/info', 'label': 'Dokumentation von sharedmobility.ch'}]\"]\n",
            "<class 'list'>\n"
          ]
        }
      ]
    },
    {
      "cell_type": "code",
      "source": [
        "print(df['relations'].loc[0])\n",
        "print(type(df['relations'].loc[0]))"
      ],
      "metadata": {
        "id": "vwyznvJ1h5V-",
        "outputId": "2dca00ee-dc01-4ac0-d337-26320177fd72",
        "colab": {
          "base_uri": "https://localhost:8080/"
        }
      },
      "execution_count": 6,
      "outputs": [
        {
          "output_type": "stream",
          "name": "stdout",
          "text": [
            "[{'url': 'http://de.wikipedia.org/wiki/Pizza', 'label': 'relation1'}, {'url': 'www.wikipedia.org/wiki/Margarethe_von_Italien', 'label': 'relation2'}]\n",
            "<class 'list'>\n"
          ]
        }
      ]
    },
    {
      "cell_type": "markdown",
      "source": [
        "--------------------------------------------------------------------------------"
      ],
      "metadata": {
        "id": "SJXeJ6gEZeGG"
      }
    },
    {
      "cell_type": "markdown",
      "source": [
        "[{'url': 'https://de.wikipedia.org/wiki/Pizza', 'label': 'relation1'}, {'url': 'https://en.wikipedia.org/wiki/Main_Page', 'label': 'relation2'}]"
      ],
      "metadata": {
        "id": "ZTAdsP_Pa4X5"
      }
    },
    {
      "cell_type": "code",
      "source": [
        "urllib3.disable_warnings(urllib3.exceptions.InsecureRequestWarning)\n",
        "\n",
        "s = r.Session()\n",
        "\n",
        "proxies = None\n",
        "\n",
        "private_api_key = 'cc1c806e-1fd9-4180-a6bf-7a5304ca503a'\n",
        "\n",
        "patch_url = 'https://ckan.ogdch-abnahme.clients.liip.ch/api/3/action/package_patch'\n",
        "\n",
        "header = {'Authorization': private_api_key}"
      ],
      "metadata": {
        "id": "yokqKp7kZNmV"
      },
      "execution_count": 8,
      "outputs": []
    },
    {
      "cell_type": "code",
      "source": [
        "df.iloc[0]"
      ],
      "metadata": {
        "id": "n8-JZB9KZTdY",
        "outputId": "61e4a223-ec6e-46af-807c-1e1b048dd364",
        "colab": {
          "base_uri": "https://localhost:8080/"
        }
      },
      "execution_count": 9,
      "outputs": [
        {
          "output_type": "execute_result",
          "data": {
            "text/plain": [
              "id                        a02f2157-1cfd-436e-909d-2e197a86f6bd\n",
              "title        {'fr': 'test_relations_01', 'de': 'test_relati...\n",
              "url                  https://www.bfe.admin.ch/bfe/de/home.html\n",
              "relations    [{'url': 'http://de.wikipedia.org/wiki/Pizza',...\n",
              "resources    [{'byte_size': 0, 'coverage': '', 'cache_last_...\n",
              "Name: 0, dtype: object"
            ]
          },
          "metadata": {},
          "execution_count": 9
        }
      ]
    },
    {
      "cell_type": "code",
      "source": [
        "data = {'id': 'a02f2157-1cfd-436e-909d-2e197a86f6bd',\n",
        "        'relations': [{'url': 'https://de.wikipedia.org/wiki/Pizza', 'label': 'relation1'}, {'url': 'https://en.wikipedia.org/wiki/Main_Page', 'label': 'relation2'}]}\n",
        "    \n",
        "print(data)\n",
        "    \n",
        "x = s.post(patch_url,data=data,proxies=proxies,headers=header,verify=False)\n",
        "print(x.status_code)"
      ],
      "metadata": {
        "id": "WpJ9WMpZZTmg",
        "outputId": "f2ec48dc-9433-4961-d057-bff07c31e77d",
        "colab": {
          "base_uri": "https://localhost:8080/"
        }
      },
      "execution_count": 10,
      "outputs": [
        {
          "output_type": "stream",
          "name": "stdout",
          "text": [
            "{'id': 'a02f2157-1cfd-436e-909d-2e197a86f6bd', 'relations': [{'url': 'https://de.wikipedia.org/wiki/Pizza', 'label': 'relation1'}, {'url': 'https://en.wikipedia.org/wiki/Main_Page', 'label': 'relation2'}]}\n",
            "200\n"
          ]
        }
      ]
    },
    {
      "cell_type": "code",
      "source": [],
      "metadata": {
        "id": "2Y8qS5BHbQXV"
      },
      "execution_count": null,
      "outputs": []
    }
  ],
  "metadata": {
    "kernelspec": {
      "display_name": "Python 3 (ipykernel)",
      "language": "python",
      "name": "python3"
    },
    "language_info": {
      "codemirror_mode": {
        "name": "ipython",
        "version": 3
      },
      "file_extension": ".py",
      "mimetype": "text/x-python",
      "name": "python",
      "nbconvert_exporter": "python",
      "pygments_lexer": "ipython3",
      "version": "3.10.4"
    },
    "orig_nbformat": 4,
    "vscode": {
      "interpreter": {
        "hash": "3ad933181bd8a04b432d3370b9dc3b0662ad032c4dfaa4e4f1596c548f763858"
      }
    },
    "colab": {
      "provenance": []
    }
  },
  "nbformat": 4,
  "nbformat_minor": 0
}