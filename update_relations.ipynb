{
 "cells": [
  {
   "attachments": {},
   "cell_type": "markdown",
   "metadata": {},
   "source": [
    "Get all datasets and the according attribute values which contain (at least) one link without _https_ which also works with the replaced protocol."
   ]
  }
 }
