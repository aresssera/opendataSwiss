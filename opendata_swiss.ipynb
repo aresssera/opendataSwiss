{
  "cells": [
    {
      "cell_type": "markdown",
      "source": [
        "If using colab, install necessary libraries"
      ],
      "metadata": {
        "id": "G65ERHsPuyWr"
      },
      "id": "G65ERHsPuyWr"
    },
    {
      "cell_type": "code",
      "source": [
        "! pip install urlextract"
      ],
      "metadata": {
        "colab": {
          "base_uri": "https://localhost:8080/"
        },
        "id": "2F9_Wyhhux-p",
        "outputId": "2033ef49-247e-4fac-af61-5161639aafcf"
      },
      "id": "2F9_Wyhhux-p",
      "execution_count": 1,
      "outputs": [
        {
          "output_type": "stream",
          "name": "stdout",
          "text": [
            "Looking in indexes: https://pypi.org/simple, https://us-python.pkg.dev/colab-wheels/public/simple/\n",
            "Collecting urlextract\n",
            "  Downloading urlextract-1.8.0-py3-none-any.whl (21 kB)\n",
            "Requirement already satisfied: filelock in /usr/local/lib/python3.9/dist-packages (from urlextract) (3.11.0)\n",
            "Requirement already satisfied: idna in /usr/local/lib/python3.9/dist-packages (from urlextract) (3.4)\n",
            "Collecting uritools\n",
            "  Downloading uritools-4.0.1-py3-none-any.whl (10 kB)\n",
            "Requirement already satisfied: platformdirs in /usr/local/lib/python3.9/dist-packages (from urlextract) (3.2.0)\n",
            "Installing collected packages: uritools, urlextract\n",
            "Successfully installed uritools-4.0.1 urlextract-1.8.0\n"
          ]
        }
      ]
    },
    {
      "cell_type": "code",
      "source": [
        "import requests     # 2.18.4\n",
        "import json         # 2.0.9\n",
        "import pandas as pd # 0.23.0\n",
        "import numpy as np\n",
        "import ast\n",
        "import time\n",
        "from urlextract import URLExtract as extract\n",
        "extractor = extract()"
      ],
      "metadata": {
        "id": "65Qr9ip3uvh4"
      },
      "id": "65Qr9ip3uvh4",
      "execution_count": 38,
      "outputs": []
    },
    {
      "cell_type": "code",
      "execution_count": 39,
      "id": "28fc1f20",
      "metadata": {
        "colab": {
          "base_uri": "https://localhost:8080/",
          "height": 849
        },
        "id": "28fc1f20",
        "outputId": "06800fee-daba-42fe-dff0-be748c17cf13"
      },
      "outputs": [
        {
          "output_type": "execute_result",
          "data": {
            "text/plain": [
              "                                       id  \\\n",
              "0    6cf5d98c-e259-4c40-a54b-a93b539eb79b   \n",
              "1    70faeac6-d660-492d-bc5b-dfdfa707007e   \n",
              "2    0a6ef29d-86b6-416f-99c3-5e6d26f1f506   \n",
              "3    46ee8db4-c4e9-436a-ad39-bb67102bffec   \n",
              "4    bb13b62d-6cd1-4602-acc1-bbe2aba197b0   \n",
              "..                                    ...   \n",
              "100  a37cb9ae-50f9-4fa5-a48c-95e2c5f0625b   \n",
              "101  979f37ed-fcb5-4400-802b-be0bb2833ea4   \n",
              "102  73d41982-f474-409a-a129-418678921128   \n",
              "103  e839fa78-ba22-4772-be16-0843b99b7161   \n",
              "104  38b82bb1-f119-4bca-9b04-439055272ab1   \n",
              "\n",
              "                                                 title  \\\n",
              "0    {'fr': 'Réseaux thermiques: offre de chaleur o...   \n",
              "1    {'fr': 'Réseaux thermiques: demande concernant...   \n",
              "2    {'fr': 'Situation et domaines attenants confor...   \n",
              "3    {'fr': 'Plan sectoriel des lignes de transport...   \n",
              "4    {'fr': 'Réseaux thermiques: demande concernant...   \n",
              "..                                                 ...   \n",
              "100  {'fr': 'Aptitude des toitures à utiliser l’éne...   \n",
              "101  {'fr': 'Statistiques heddomadaires: production...   \n",
              "102  {'fr': 'Etude sur l'électricité hivernale d'or...   \n",
              "103  {'fr': 'Résultats de la modélisation PE2050+ :...   \n",
              "104  {'fr': 'Etudes de potentiel et publications su...   \n",
              "\n",
              "                                                   url  \\\n",
              "0    https://www.bfe.admin.ch/waerme-und-kaelteangebot   \n",
              "1    https://www.bfe.admin.ch/waerme-kaeltenachfrag...   \n",
              "2    https://www.bfe.admin.ch/konsultationsbereiche...   \n",
              "3    https://www.bfe.admin.ch/sp-uebertragungsleitu...   \n",
              "4    https://www.bfe.admin.ch/waerme-kaeltenachfrag...   \n",
              "..                                                 ...   \n",
              "100  https://www.bfe.admin.ch/bfe/de/home/versorgun...   \n",
              "101                      http://www.bfe.admin.ch/ogd51   \n",
              "102  https://www.bfe.admin.ch/bfe/de/home/politik/e...   \n",
              "103  https://www.bfe.admin.ch/bfe/de/home/politik/e...   \n",
              "104                                                      \n",
              "\n",
              "                                             relations  \\\n",
              "0    [{'url': 'https://www.geocat.ch/geonetwork/srv...   \n",
              "1    [{'url': 'https://www.geocat.ch/geonetwork/srv...   \n",
              "2    [{'url': 'https://www.geocat.ch/geonetwork/srv...   \n",
              "3    [{'url': 'https://www.geocat.ch/geonetwork/srv...   \n",
              "4    [{'url': 'https://www.geocat.ch/geonetwork/srv...   \n",
              "..                                                 ...   \n",
              "100                                                 {}   \n",
              "101  [{'url': 'https://www.bfe.admin.ch/bfe/de/home...   \n",
              "102  [{'url': 'https://www.bfe.admin.ch/bfe/de/home...   \n",
              "103  [{'url': 'https://www.uvek-gis.admin.ch/BFE/st...   \n",
              "104                                                 {}   \n",
              "\n",
              "                                             resources  \n",
              "0    [{'protocol': 'WWW:DOWNLOAD:Text (.csv), comma...  \n",
              "1    [{'protocol': 'WWW:DOWNLOAD:Geopackage (ogc)',...  \n",
              "2    [{'protocol': 'OGC:WMS', 'cache_last_updated':...  \n",
              "3    [{'protocol': 'WWW:DOWNLOAD:Geopackage (ogc)',...  \n",
              "4    [{'protocol': 'WWW:DOWNLOAD:Geopackage (ogc)',...  \n",
              "..                                                 ...  \n",
              "100  [{'byte_size': 0, 'cache_last_updated': None, ...  \n",
              "101  [{'byte_size': 0, 'cache_last_updated': None, ...  \n",
              "102  [{'byte_size': 5819680686, 'cache_last_updated...  \n",
              "103  [{'byte_size': 0, 'cache_last_updated': None, ...  \n",
              "104  [{'byte_size': 0, 'cache_last_updated': None, ...  \n",
              "\n",
              "[105 rows x 5 columns]"
            ],
            "text/html": [
              "\n",
              "  <div id=\"df-3652def5-5f13-49e3-8c38-2edbd7105ae1\">\n",
              "    <div class=\"colab-df-container\">\n",
              "      <div>\n",
              "<style scoped>\n",
              "    .dataframe tbody tr th:only-of-type {\n",
              "        vertical-align: middle;\n",
              "    }\n",
              "\n",
              "    .dataframe tbody tr th {\n",
              "        vertical-align: top;\n",
              "    }\n",
              "\n",
              "    .dataframe thead th {\n",
              "        text-align: right;\n",
              "    }\n",
              "</style>\n",
              "<table border=\"1\" class=\"dataframe\">\n",
              "  <thead>\n",
              "    <tr style=\"text-align: right;\">\n",
              "      <th></th>\n",
              "      <th>id</th>\n",
              "      <th>title</th>\n",
              "      <th>url</th>\n",
              "      <th>relations</th>\n",
              "      <th>resources</th>\n",
              "    </tr>\n",
              "  </thead>\n",
              "  <tbody>\n",
              "    <tr>\n",
              "      <th>0</th>\n",
              "      <td>6cf5d98c-e259-4c40-a54b-a93b539eb79b</td>\n",
              "      <td>{'fr': 'Réseaux thermiques: offre de chaleur o...</td>\n",
              "      <td>https://www.bfe.admin.ch/waerme-und-kaelteangebot</td>\n",
              "      <td>[{'url': 'https://www.geocat.ch/geonetwork/srv...</td>\n",
              "      <td>[{'protocol': 'WWW:DOWNLOAD:Text (.csv), comma...</td>\n",
              "    </tr>\n",
              "    <tr>\n",
              "      <th>1</th>\n",
              "      <td>70faeac6-d660-492d-bc5b-dfdfa707007e</td>\n",
              "      <td>{'fr': 'Réseaux thermiques: demande concernant...</td>\n",
              "      <td>https://www.bfe.admin.ch/waerme-kaeltenachfrag...</td>\n",
              "      <td>[{'url': 'https://www.geocat.ch/geonetwork/srv...</td>\n",
              "      <td>[{'protocol': 'WWW:DOWNLOAD:Geopackage (ogc)',...</td>\n",
              "    </tr>\n",
              "    <tr>\n",
              "      <th>2</th>\n",
              "      <td>0a6ef29d-86b6-416f-99c3-5e6d26f1f506</td>\n",
              "      <td>{'fr': 'Situation et domaines attenants confor...</td>\n",
              "      <td>https://www.bfe.admin.ch/konsultationsbereiche...</td>\n",
              "      <td>[{'url': 'https://www.geocat.ch/geonetwork/srv...</td>\n",
              "      <td>[{'protocol': 'OGC:WMS', 'cache_last_updated':...</td>\n",
              "    </tr>\n",
              "    <tr>\n",
              "      <th>3</th>\n",
              "      <td>46ee8db4-c4e9-436a-ad39-bb67102bffec</td>\n",
              "      <td>{'fr': 'Plan sectoriel des lignes de transport...</td>\n",
              "      <td>https://www.bfe.admin.ch/sp-uebertragungsleitu...</td>\n",
              "      <td>[{'url': 'https://www.geocat.ch/geonetwork/srv...</td>\n",
              "      <td>[{'protocol': 'WWW:DOWNLOAD:Geopackage (ogc)',...</td>\n",
              "    </tr>\n",
              "    <tr>\n",
              "      <th>4</th>\n",
              "      <td>bb13b62d-6cd1-4602-acc1-bbe2aba197b0</td>\n",
              "      <td>{'fr': 'Réseaux thermiques: demande concernant...</td>\n",
              "      <td>https://www.bfe.admin.ch/waerme-kaeltenachfrag...</td>\n",
              "      <td>[{'url': 'https://www.geocat.ch/geonetwork/srv...</td>\n",
              "      <td>[{'protocol': 'WWW:DOWNLOAD:Geopackage (ogc)',...</td>\n",
              "    </tr>\n",
              "    <tr>\n",
              "      <th>...</th>\n",
              "      <td>...</td>\n",
              "      <td>...</td>\n",
              "      <td>...</td>\n",
              "      <td>...</td>\n",
              "      <td>...</td>\n",
              "    </tr>\n",
              "    <tr>\n",
              "      <th>100</th>\n",
              "      <td>a37cb9ae-50f9-4fa5-a48c-95e2c5f0625b</td>\n",
              "      <td>{'fr': 'Aptitude des toitures à utiliser l’éne...</td>\n",
              "      <td>https://www.bfe.admin.ch/bfe/de/home/versorgun...</td>\n",
              "      <td>{}</td>\n",
              "      <td>[{'byte_size': 0, 'cache_last_updated': None, ...</td>\n",
              "    </tr>\n",
              "    <tr>\n",
              "      <th>101</th>\n",
              "      <td>979f37ed-fcb5-4400-802b-be0bb2833ea4</td>\n",
              "      <td>{'fr': 'Statistiques heddomadaires: production...</td>\n",
              "      <td>http://www.bfe.admin.ch/ogd51</td>\n",
              "      <td>[{'url': 'https://www.bfe.admin.ch/bfe/de/home...</td>\n",
              "      <td>[{'byte_size': 0, 'cache_last_updated': None, ...</td>\n",
              "    </tr>\n",
              "    <tr>\n",
              "      <th>102</th>\n",
              "      <td>73d41982-f474-409a-a129-418678921128</td>\n",
              "      <td>{'fr': 'Etude sur l'électricité hivernale d'or...</td>\n",
              "      <td>https://www.bfe.admin.ch/bfe/de/home/politik/e...</td>\n",
              "      <td>[{'url': 'https://www.bfe.admin.ch/bfe/de/home...</td>\n",
              "      <td>[{'byte_size': 5819680686, 'cache_last_updated...</td>\n",
              "    </tr>\n",
              "    <tr>\n",
              "      <th>103</th>\n",
              "      <td>e839fa78-ba22-4772-be16-0843b99b7161</td>\n",
              "      <td>{'fr': 'Résultats de la modélisation PE2050+ :...</td>\n",
              "      <td>https://www.bfe.admin.ch/bfe/de/home/politik/e...</td>\n",
              "      <td>[{'url': 'https://www.uvek-gis.admin.ch/BFE/st...</td>\n",
              "      <td>[{'byte_size': 0, 'cache_last_updated': None, ...</td>\n",
              "    </tr>\n",
              "    <tr>\n",
              "      <th>104</th>\n",
              "      <td>38b82bb1-f119-4bca-9b04-439055272ab1</td>\n",
              "      <td>{'fr': 'Etudes de potentiel et publications su...</td>\n",
              "      <td></td>\n",
              "      <td>{}</td>\n",
              "      <td>[{'byte_size': 0, 'cache_last_updated': None, ...</td>\n",
              "    </tr>\n",
              "  </tbody>\n",
              "</table>\n",
              "<p>105 rows × 5 columns</p>\n",
              "</div>\n",
              "      <button class=\"colab-df-convert\" onclick=\"convertToInteractive('df-3652def5-5f13-49e3-8c38-2edbd7105ae1')\"\n",
              "              title=\"Convert this dataframe to an interactive table.\"\n",
              "              style=\"display:none;\">\n",
              "        \n",
              "  <svg xmlns=\"http://www.w3.org/2000/svg\" height=\"24px\"viewBox=\"0 0 24 24\"\n",
              "       width=\"24px\">\n",
              "    <path d=\"M0 0h24v24H0V0z\" fill=\"none\"/>\n",
              "    <path d=\"M18.56 5.44l.94 2.06.94-2.06 2.06-.94-2.06-.94-.94-2.06-.94 2.06-2.06.94zm-11 1L8.5 8.5l.94-2.06 2.06-.94-2.06-.94L8.5 2.5l-.94 2.06-2.06.94zm10 10l.94 2.06.94-2.06 2.06-.94-2.06-.94-.94-2.06-.94 2.06-2.06.94z\"/><path d=\"M17.41 7.96l-1.37-1.37c-.4-.4-.92-.59-1.43-.59-.52 0-1.04.2-1.43.59L10.3 9.45l-7.72 7.72c-.78.78-.78 2.05 0 2.83L4 21.41c.39.39.9.59 1.41.59.51 0 1.02-.2 1.41-.59l7.78-7.78 2.81-2.81c.8-.78.8-2.07 0-2.86zM5.41 20L4 18.59l7.72-7.72 1.47 1.35L5.41 20z\"/>\n",
              "  </svg>\n",
              "      </button>\n",
              "      \n",
              "  <style>\n",
              "    .colab-df-container {\n",
              "      display:flex;\n",
              "      flex-wrap:wrap;\n",
              "      gap: 12px;\n",
              "    }\n",
              "\n",
              "    .colab-df-convert {\n",
              "      background-color: #E8F0FE;\n",
              "      border: none;\n",
              "      border-radius: 50%;\n",
              "      cursor: pointer;\n",
              "      display: none;\n",
              "      fill: #1967D2;\n",
              "      height: 32px;\n",
              "      padding: 0 0 0 0;\n",
              "      width: 32px;\n",
              "    }\n",
              "\n",
              "    .colab-df-convert:hover {\n",
              "      background-color: #E2EBFA;\n",
              "      box-shadow: 0px 1px 2px rgba(60, 64, 67, 0.3), 0px 1px 3px 1px rgba(60, 64, 67, 0.15);\n",
              "      fill: #174EA6;\n",
              "    }\n",
              "\n",
              "    [theme=dark] .colab-df-convert {\n",
              "      background-color: #3B4455;\n",
              "      fill: #D2E3FC;\n",
              "    }\n",
              "\n",
              "    [theme=dark] .colab-df-convert:hover {\n",
              "      background-color: #434B5C;\n",
              "      box-shadow: 0px 1px 3px 1px rgba(0, 0, 0, 0.15);\n",
              "      filter: drop-shadow(0px 1px 2px rgba(0, 0, 0, 0.3));\n",
              "      fill: #FFFFFF;\n",
              "    }\n",
              "  </style>\n",
              "\n",
              "      <script>\n",
              "        const buttonEl =\n",
              "          document.querySelector('#df-3652def5-5f13-49e3-8c38-2edbd7105ae1 button.colab-df-convert');\n",
              "        buttonEl.style.display =\n",
              "          google.colab.kernel.accessAllowed ? 'block' : 'none';\n",
              "\n",
              "        async function convertToInteractive(key) {\n",
              "          const element = document.querySelector('#df-3652def5-5f13-49e3-8c38-2edbd7105ae1');\n",
              "          const dataTable =\n",
              "            await google.colab.kernel.invokeFunction('convertToInteractive',\n",
              "                                                     [key], {});\n",
              "          if (!dataTable) return;\n",
              "\n",
              "          const docLinkHtml = 'Like what you see? Visit the ' +\n",
              "            '<a target=\"_blank\" href=https://colab.research.google.com/notebooks/data_table.ipynb>data table notebook</a>'\n",
              "            + ' to learn more about interactive tables.';\n",
              "          element.innerHTML = '';\n",
              "          dataTable['output_type'] = 'display_data';\n",
              "          await google.colab.output.renderOutput(dataTable, element);\n",
              "          const docLink = document.createElement('div');\n",
              "          docLink.innerHTML = docLinkHtml;\n",
              "          element.appendChild(docLink);\n",
              "        }\n",
              "      </script>\n",
              "    </div>\n",
              "  </div>\n",
              "  "
            ]
          },
          "metadata": {},
          "execution_count": 39
        }
      ],
      "source": [
        "# BFE Abnahme\n",
        "packages = 'https://ckan.ogdch-abnahme.clients.liip.ch/api/3/action/package_search?fq=organization:(bundesamt-fur-energie-bfe)&rows=500'\n",
        "\n",
        "# Make the HTTP request\n",
        "response = requests.get(packages)\n",
        "\n",
        "# Use the json module to load CKAN's response into a dictionary\n",
        "response_dict = json.loads(response.content)\n",
        "\n",
        "# Check the contents of the response\n",
        "assert response_dict['success'] is True  # make sure if response is OK\n",
        "\n",
        "# Get a list of all publications and their information (each publication is a dictionary)\n",
        "data = response_dict['result']['results'].copy()\n",
        "\n",
        "# get all upper keys\n",
        "allKeys = []\n",
        "\n",
        "# store information about each dataset in a frame\n",
        "df = pd.DataFrame(data)[['id','title','url', 'relations', 'resources']]\n",
        "df"
      ]
    },
    {
      "cell_type": "markdown",
      "source": [
        "---------------------------------------------------------------------------"
      ],
      "metadata": {
        "id": "WL2FPXqCHEiT"
      },
      "id": "WL2FPXqCHEiT"
    },
    {
      "cell_type": "markdown",
      "source": [
        "Functions"
      ],
      "metadata": {
        "id": "TCqevDC8HCVY"
      },
      "id": "TCqevDC8HCVY"
    },
    {
      "cell_type": "code",
      "execution_count": 4,
      "id": "64bb451f",
      "metadata": {
        "id": "64bb451f"
      },
      "outputs": [],
      "source": [
        "def check_url(url):\n",
        "    try:\n",
        "        time.sleep(1)\n",
        "        # head or get --> head is not working consistantly\n",
        "        \n",
        "        # redirect not working on every machine and not everytime... but this link technically works\n",
        "        if url == 'https://bfe.admin.ch/shared-mobility-angebote':\n",
        "            return True\n",
        "        \n",
        "        get = requests.get(url)\n",
        "        \n",
        "        if get.status_code < 400:\n",
        "            return True\n",
        "        else:\n",
        "            return False\n",
        "        \n",
        "    except requests.exceptions.RequestException as e:\n",
        "        print(e)\n",
        "        raise SystemExit(f\"{url}: is NOT reachable \\nErr: {e}\")"
      ]
    },
    {
      "cell_type": "code",
      "execution_count": 5,
      "id": "c74de837",
      "metadata": {
        "id": "c74de837"
      },
      "outputs": [],
      "source": [
        "def addHTTPS(url):\n",
        "    adjusted = url.replace(\"http:\", \"https:\" )\n",
        "    adjusted = adjusted.replace(\"www\", \"https://www\" )\n",
        "    \n",
        "    return adjusted.replace(\"https://https://www\", \"https://www\" )"
      ]
    },
    {
      "cell_type": "code",
      "execution_count": 6,
      "id": "acce5a75",
      "metadata": {
        "id": "acce5a75"
      },
      "outputs": [],
      "source": [
        "def addHTTP(url):\n",
        "    adjusted = url.replace(\"www\", \"http://www\")\n",
        "    return adjusted.replace(\"http://http://www\", \"http://www\")"
      ]
    },
    {
      "cell_type": "code",
      "execution_count": 10,
      "id": "de752a34",
      "metadata": {
        "id": "de752a34"
      },
      "outputs": [],
      "source": [
        "def getURLs(original_string, urls):\n",
        "    \n",
        "    links = []\n",
        "\n",
        "    badLinks       = []\n",
        "\n",
        "    adjustedString = '' \n",
        "    for s in original_string:\n",
        "      adjustedString = adjustedString + s\n",
        "\n",
        "\n",
        "    needsToBeListed = False\n",
        "\n",
        "    \n",
        "    for url in urls:\n",
        "      \n",
        "      url_modified    = ''\n",
        "      # only store links which are faulty or need a protocol update (https)\n",
        "      \n",
        "      \n",
        "      # if https already used\n",
        "      if 'https' in url:\n",
        "        working = check_url(url)\n",
        "        \n",
        "        if not working:\n",
        "          badLinks.append([url, '-'])\n",
        "          #needsToBeListed = True\n",
        "          \n",
        "      # if https not in link\n",
        "      else:\n",
        "        \n",
        "        url_modified = addHTTPS(url)\n",
        "        working = check_url(url_modified)\n",
        "        \n",
        "        if working:\n",
        "          needsToBeListed = True\n",
        "          # replace in adjusted_string\n",
        "          adjustedString = adjustedString.replace(url, url_modified)\n",
        "          \n",
        "        else:\n",
        "          # does not change http: urls\n",
        "          url_modified = addHTTP(url)\n",
        "          working = check_url(url)\n",
        "          \n",
        "          if not working:\n",
        "            badLinks.append([url, '-'])\n",
        "                    \n",
        "        \n",
        "    if needsToBeListed:\n",
        "      links.append([original_string, adjustedString])\n",
        "\n",
        "    if len(badLinks) != 0:\n",
        "      links = links + badLinks\n",
        "\n",
        "    return links"
      ]
    },
    {
      "cell_type": "code",
      "execution_count": 14,
      "id": "c12e01d8",
      "metadata": {
        "id": "c12e01d8"
      },
      "outputs": [],
      "source": [
        "def checkString(string):\n",
        "  \n",
        "  urls = extractor.find_urls(string)\n",
        "  \n",
        "  # first remove elements which are not actual links\n",
        "  urls = [url for url in urls if ('http' in url) or ('www' in url)]\n",
        "\n",
        "  # if the same url appears multiple times\n",
        "  urls = list(set(urls))\n",
        "  \n",
        "  return getURLs(string, urls)"
      ]
    },
    {
      "cell_type": "code",
      "execution_count": 15,
      "id": "f6ce1bb2",
      "metadata": {
        "id": "f6ce1bb2"
      },
      "outputs": [],
      "source": [
        "urls = ['http://www.google.ch', 'https://www.google.ch', 'www.google.ch', 'https://data.geo.admin.ch/ch.bfe.windenergie-geschwindigkeit_h150/windenergie-geschwindigkeit_h150/windenergie-geschwindigkeit_h150_2056.fgdb.zip']\n",
        "test = getURLs(str(urls), urls)"
      ]
    },
    {
      "cell_type": "code",
      "source": [
        "for i in test:\n",
        "  print(i)"
      ],
      "metadata": {
        "colab": {
          "base_uri": "https://localhost:8080/"
        },
        "id": "8Ed-MtR3JB_o",
        "outputId": "72ba9752-ebd5-4674-d772-a7add70bfaf7"
      },
      "id": "8Ed-MtR3JB_o",
      "execution_count": 16,
      "outputs": [
        {
          "output_type": "stream",
          "name": "stdout",
          "text": [
            "[\"['http://www.google.ch', 'https://www.google.ch', 'www.google.ch', 'https://data.geo.admin.ch/ch.bfe.windenergie-geschwindigkeit_h150/windenergie-geschwindigkeit_h150/windenergie-geschwindigkeit_h150_2056.fgdb.zip']\", \"['https://https://www.google.ch', 'https://https://www.google.ch', 'https://www.google.ch', 'https://data.geo.admin.ch/ch.bfe.windenergie-geschwindigkeit_h150/windenergie-geschwindigkeit_h150/windenergie-geschwindigkeit_h150_2056.fgdb.zip']\"]\n",
            "['https://data.geo.admin.ch/ch.bfe.windenergie-geschwindigkeit_h150/windenergie-geschwindigkeit_h150/windenergie-geschwindigkeit_h150_2056.fgdb.zip', '-']\n"
          ]
        }
      ]
    },
    {
      "cell_type": "code",
      "execution_count": 18,
      "id": "3a802325",
      "metadata": {
        "id": "3a802325",
        "outputId": "8a18cdea-b9ac-4bbe-9671-f0da8a941045",
        "colab": {
          "base_uri": "https://localhost:8080/"
        }
      },
      "outputs": [
        {
          "output_type": "execute_result",
          "data": {
            "text/plain": [
              "True"
            ]
          },
          "metadata": {},
          "execution_count": 18
        }
      ],
      "source": [
        "check_url('https://www.bfe.admin.ch/waerme-kaeltenachfrage-wohnen-und-dl')"
      ]
    },
    {
      "cell_type": "markdown",
      "source": [
        "------------------------------------------------------------------------------------------------------------------------------------------------------"
      ],
      "metadata": {
        "id": "Z8bzgbivJHfm"
      },
      "id": "Z8bzgbivJHfm"
    },
    {
      "cell_type": "markdown",
      "source": [
        "For _url_ and _relations_"
      ],
      "metadata": {
        "id": "h97oCrJ0JHjD"
      },
      "id": "h97oCrJ0JHjD"
    },
    {
      "cell_type": "code",
      "execution_count": 41,
      "id": "b4f4e25c",
      "metadata": {
        "colab": {
          "base_uri": "https://localhost:8080/",
          "height": 468
        },
        "id": "b4f4e25c",
        "outputId": "9eb61b90-f5c1-40fa-fac8-e6a3d5fc2ab6"
      },
      "outputs": [
        {
          "output_type": "stream",
          "name": "stdout",
          "text": [
            "0\n",
            "['https://www.bfe.admin.ch/waerme-und-kaelteangebot']\n",
            "['https://www.geocat.ch/geonetwork/srv/ger/catalog.search#/metadata/b6c8d9c6-a2ca-435a-af0a-6a8ac94199fc']\n",
            "1\n",
            "['https://www.bfe.admin.ch/waerme-kaeltenachfrage-wohnen-und-dl']\n"
          ]
        },
        {
          "output_type": "error",
          "ename": "KeyboardInterrupt",
          "evalue": "ignored",
          "traceback": [
            "\u001b[0;31m---------------------------------------------------------------------------\u001b[0m",
            "\u001b[0;31mKeyboardInterrupt\u001b[0m                         Traceback (most recent call last)",
            "\u001b[0;32m<ipython-input-41-b88047112d05>\u001b[0m in \u001b[0;36m<cell line: 5>\u001b[0;34m()\u001b[0m\n\u001b[1;32m     26\u001b[0m         \u001b[0;32melse\u001b[0m\u001b[0;34m:\u001b[0m\u001b[0;34m\u001b[0m\u001b[0;34m\u001b[0m\u001b[0m\n\u001b[1;32m     27\u001b[0m             \u001b[0;32mif\u001b[0m \u001b[0mtype\u001b[0m\u001b[0;34m(\u001b[0m\u001b[0mval\u001b[0m\u001b[0;34m)\u001b[0m \u001b[0;34m==\u001b[0m \u001b[0mstr\u001b[0m\u001b[0;34m:\u001b[0m\u001b[0;34m\u001b[0m\u001b[0;34m\u001b[0m\u001b[0m\n\u001b[0;32m---> 28\u001b[0;31m                 \u001b[0mliste\u001b[0m \u001b[0;34m=\u001b[0m \u001b[0mcheckString\u001b[0m\u001b[0;34m(\u001b[0m\u001b[0mval\u001b[0m\u001b[0;34m)\u001b[0m\u001b[0;34m\u001b[0m\u001b[0;34m\u001b[0m\u001b[0m\n\u001b[0m\u001b[1;32m     29\u001b[0m             \u001b[0;32melse\u001b[0m\u001b[0;34m:\u001b[0m\u001b[0;34m\u001b[0m\u001b[0;34m\u001b[0m\u001b[0m\n\u001b[1;32m     30\u001b[0m                 \u001b[0mliste\u001b[0m \u001b[0;34m=\u001b[0m \u001b[0mcheckString\u001b[0m\u001b[0;34m(\u001b[0m\u001b[0mstr\u001b[0m\u001b[0;34m(\u001b[0m\u001b[0mval\u001b[0m\u001b[0;34m)\u001b[0m\u001b[0;34m)\u001b[0m\u001b[0;34m\u001b[0m\u001b[0;34m\u001b[0m\u001b[0m\n",
            "\u001b[0;32m<ipython-input-14-d7426df25803>\u001b[0m in \u001b[0;36mcheckString\u001b[0;34m(string)\u001b[0m\n\u001b[1;32m      9\u001b[0m   \u001b[0murls\u001b[0m \u001b[0;34m=\u001b[0m \u001b[0mlist\u001b[0m\u001b[0;34m(\u001b[0m\u001b[0mset\u001b[0m\u001b[0;34m(\u001b[0m\u001b[0murls\u001b[0m\u001b[0;34m)\u001b[0m\u001b[0;34m)\u001b[0m\u001b[0;34m\u001b[0m\u001b[0;34m\u001b[0m\u001b[0m\n\u001b[1;32m     10\u001b[0m \u001b[0;34m\u001b[0m\u001b[0m\n\u001b[0;32m---> 11\u001b[0;31m   \u001b[0;32mreturn\u001b[0m \u001b[0mgetURLs\u001b[0m\u001b[0;34m(\u001b[0m\u001b[0mstring\u001b[0m\u001b[0;34m,\u001b[0m \u001b[0murls\u001b[0m\u001b[0;34m)\u001b[0m\u001b[0;34m\u001b[0m\u001b[0;34m\u001b[0m\u001b[0m\n\u001b[0m",
            "\u001b[0;32m<ipython-input-32-10e96ab481f6>\u001b[0m in \u001b[0;36mgetURLs\u001b[0;34m(original_string, urls)\u001b[0m\n\u001b[1;32m     23\u001b[0m       \u001b[0;31m# if https already used\u001b[0m\u001b[0;34m\u001b[0m\u001b[0;34m\u001b[0m\u001b[0m\n\u001b[1;32m     24\u001b[0m       \u001b[0;32mif\u001b[0m \u001b[0;34m'https'\u001b[0m \u001b[0;32min\u001b[0m \u001b[0murl\u001b[0m\u001b[0;34m:\u001b[0m\u001b[0;34m\u001b[0m\u001b[0;34m\u001b[0m\u001b[0m\n\u001b[0;32m---> 25\u001b[0;31m         \u001b[0mworking\u001b[0m \u001b[0;34m=\u001b[0m \u001b[0mcheckLink\u001b[0m\u001b[0;34m(\u001b[0m\u001b[0murl\u001b[0m\u001b[0;34m)\u001b[0m\u001b[0;34m\u001b[0m\u001b[0;34m\u001b[0m\u001b[0m\n\u001b[0m\u001b[1;32m     26\u001b[0m \u001b[0;34m\u001b[0m\u001b[0m\n\u001b[1;32m     27\u001b[0m         \u001b[0;32mif\u001b[0m \u001b[0;32mnot\u001b[0m \u001b[0mworking\u001b[0m\u001b[0;34m:\u001b[0m\u001b[0;34m\u001b[0m\u001b[0;34m\u001b[0m\u001b[0m\n",
            "\u001b[0;32m<ipython-input-19-d837ccacc1a8>\u001b[0m in \u001b[0;36mcheckLink\u001b[0;34m(link)\u001b[0m\n\u001b[1;32m      8\u001b[0m \u001b[0;34m\u001b[0m\u001b[0m\n\u001b[1;32m      9\u001b[0m   \u001b[0;32mtry\u001b[0m\u001b[0;34m:\u001b[0m\u001b[0;34m\u001b[0m\u001b[0;34m\u001b[0m\u001b[0m\n\u001b[0;32m---> 10\u001b[0;31m       \u001b[0mhtml\u001b[0m \u001b[0;34m=\u001b[0m \u001b[0murlopen\u001b[0m\u001b[0;34m(\u001b[0m\u001b[0mlink\u001b[0m\u001b[0;34m)\u001b[0m\u001b[0;34m\u001b[0m\u001b[0;34m\u001b[0m\u001b[0m\n\u001b[0m\u001b[1;32m     11\u001b[0m \u001b[0;34m\u001b[0m\u001b[0m\n\u001b[1;32m     12\u001b[0m   \u001b[0;31m# except block to catch\u001b[0m\u001b[0;34m\u001b[0m\u001b[0;34m\u001b[0m\u001b[0m\n",
            "\u001b[0;32m/usr/lib/python3.9/urllib/request.py\u001b[0m in \u001b[0;36murlopen\u001b[0;34m(url, data, timeout, cafile, capath, cadefault, context)\u001b[0m\n\u001b[1;32m    212\u001b[0m     \u001b[0;32melse\u001b[0m\u001b[0;34m:\u001b[0m\u001b[0;34m\u001b[0m\u001b[0;34m\u001b[0m\u001b[0m\n\u001b[1;32m    213\u001b[0m         \u001b[0mopener\u001b[0m \u001b[0;34m=\u001b[0m \u001b[0m_opener\u001b[0m\u001b[0;34m\u001b[0m\u001b[0;34m\u001b[0m\u001b[0m\n\u001b[0;32m--> 214\u001b[0;31m     \u001b[0;32mreturn\u001b[0m \u001b[0mopener\u001b[0m\u001b[0;34m.\u001b[0m\u001b[0mopen\u001b[0m\u001b[0;34m(\u001b[0m\u001b[0murl\u001b[0m\u001b[0;34m,\u001b[0m \u001b[0mdata\u001b[0m\u001b[0;34m,\u001b[0m \u001b[0mtimeout\u001b[0m\u001b[0;34m)\u001b[0m\u001b[0;34m\u001b[0m\u001b[0;34m\u001b[0m\u001b[0m\n\u001b[0m\u001b[1;32m    215\u001b[0m \u001b[0;34m\u001b[0m\u001b[0m\n\u001b[1;32m    216\u001b[0m \u001b[0;32mdef\u001b[0m \u001b[0minstall_opener\u001b[0m\u001b[0;34m(\u001b[0m\u001b[0mopener\u001b[0m\u001b[0;34m)\u001b[0m\u001b[0;34m:\u001b[0m\u001b[0;34m\u001b[0m\u001b[0;34m\u001b[0m\u001b[0m\n",
            "\u001b[0;32m/usr/lib/python3.9/urllib/request.py\u001b[0m in \u001b[0;36mopen\u001b[0;34m(self, fullurl, data, timeout)\u001b[0m\n\u001b[1;32m    521\u001b[0m         \u001b[0;32mfor\u001b[0m \u001b[0mprocessor\u001b[0m \u001b[0;32min\u001b[0m \u001b[0mself\u001b[0m\u001b[0;34m.\u001b[0m\u001b[0mprocess_response\u001b[0m\u001b[0;34m.\u001b[0m\u001b[0mget\u001b[0m\u001b[0;34m(\u001b[0m\u001b[0mprotocol\u001b[0m\u001b[0;34m,\u001b[0m \u001b[0;34m[\u001b[0m\u001b[0;34m]\u001b[0m\u001b[0;34m)\u001b[0m\u001b[0;34m:\u001b[0m\u001b[0;34m\u001b[0m\u001b[0;34m\u001b[0m\u001b[0m\n\u001b[1;32m    522\u001b[0m             \u001b[0mmeth\u001b[0m \u001b[0;34m=\u001b[0m \u001b[0mgetattr\u001b[0m\u001b[0;34m(\u001b[0m\u001b[0mprocessor\u001b[0m\u001b[0;34m,\u001b[0m \u001b[0mmeth_name\u001b[0m\u001b[0;34m)\u001b[0m\u001b[0;34m\u001b[0m\u001b[0;34m\u001b[0m\u001b[0m\n\u001b[0;32m--> 523\u001b[0;31m             \u001b[0mresponse\u001b[0m \u001b[0;34m=\u001b[0m \u001b[0mmeth\u001b[0m\u001b[0;34m(\u001b[0m\u001b[0mreq\u001b[0m\u001b[0;34m,\u001b[0m \u001b[0mresponse\u001b[0m\u001b[0;34m)\u001b[0m\u001b[0;34m\u001b[0m\u001b[0;34m\u001b[0m\u001b[0m\n\u001b[0m\u001b[1;32m    524\u001b[0m \u001b[0;34m\u001b[0m\u001b[0m\n\u001b[1;32m    525\u001b[0m         \u001b[0;32mreturn\u001b[0m \u001b[0mresponse\u001b[0m\u001b[0;34m\u001b[0m\u001b[0;34m\u001b[0m\u001b[0m\n",
            "\u001b[0;32m/usr/lib/python3.9/urllib/request.py\u001b[0m in \u001b[0;36mhttp_response\u001b[0;34m(self, request, response)\u001b[0m\n\u001b[1;32m    630\u001b[0m         \u001b[0;31m# request was successfully received, understood, and accepted.\u001b[0m\u001b[0;34m\u001b[0m\u001b[0;34m\u001b[0m\u001b[0m\n\u001b[1;32m    631\u001b[0m         \u001b[0;32mif\u001b[0m \u001b[0;32mnot\u001b[0m \u001b[0;34m(\u001b[0m\u001b[0;36m200\u001b[0m \u001b[0;34m<=\u001b[0m \u001b[0mcode\u001b[0m \u001b[0;34m<\u001b[0m \u001b[0;36m300\u001b[0m\u001b[0;34m)\u001b[0m\u001b[0;34m:\u001b[0m\u001b[0;34m\u001b[0m\u001b[0;34m\u001b[0m\u001b[0m\n\u001b[0;32m--> 632\u001b[0;31m             response = self.parent.error(\n\u001b[0m\u001b[1;32m    633\u001b[0m                 'http', request, response, code, msg, hdrs)\n\u001b[1;32m    634\u001b[0m \u001b[0;34m\u001b[0m\u001b[0m\n",
            "\u001b[0;32m/usr/lib/python3.9/urllib/request.py\u001b[0m in \u001b[0;36merror\u001b[0;34m(self, proto, *args)\u001b[0m\n\u001b[1;32m    553\u001b[0m             \u001b[0mhttp_err\u001b[0m \u001b[0;34m=\u001b[0m \u001b[0;36m0\u001b[0m\u001b[0;34m\u001b[0m\u001b[0;34m\u001b[0m\u001b[0m\n\u001b[1;32m    554\u001b[0m         \u001b[0margs\u001b[0m \u001b[0;34m=\u001b[0m \u001b[0;34m(\u001b[0m\u001b[0mdict\u001b[0m\u001b[0;34m,\u001b[0m \u001b[0mproto\u001b[0m\u001b[0;34m,\u001b[0m \u001b[0mmeth_name\u001b[0m\u001b[0;34m)\u001b[0m \u001b[0;34m+\u001b[0m \u001b[0margs\u001b[0m\u001b[0;34m\u001b[0m\u001b[0;34m\u001b[0m\u001b[0m\n\u001b[0;32m--> 555\u001b[0;31m         \u001b[0mresult\u001b[0m \u001b[0;34m=\u001b[0m \u001b[0mself\u001b[0m\u001b[0;34m.\u001b[0m\u001b[0m_call_chain\u001b[0m\u001b[0;34m(\u001b[0m\u001b[0;34m*\u001b[0m\u001b[0margs\u001b[0m\u001b[0;34m)\u001b[0m\u001b[0;34m\u001b[0m\u001b[0;34m\u001b[0m\u001b[0m\n\u001b[0m\u001b[1;32m    556\u001b[0m         \u001b[0;32mif\u001b[0m \u001b[0mresult\u001b[0m\u001b[0;34m:\u001b[0m\u001b[0;34m\u001b[0m\u001b[0;34m\u001b[0m\u001b[0m\n\u001b[1;32m    557\u001b[0m             \u001b[0;32mreturn\u001b[0m \u001b[0mresult\u001b[0m\u001b[0;34m\u001b[0m\u001b[0;34m\u001b[0m\u001b[0m\n",
            "\u001b[0;32m/usr/lib/python3.9/urllib/request.py\u001b[0m in \u001b[0;36m_call_chain\u001b[0;34m(self, chain, kind, meth_name, *args)\u001b[0m\n\u001b[1;32m    492\u001b[0m         \u001b[0;32mfor\u001b[0m \u001b[0mhandler\u001b[0m \u001b[0;32min\u001b[0m \u001b[0mhandlers\u001b[0m\u001b[0;34m:\u001b[0m\u001b[0;34m\u001b[0m\u001b[0;34m\u001b[0m\u001b[0m\n\u001b[1;32m    493\u001b[0m             \u001b[0mfunc\u001b[0m \u001b[0;34m=\u001b[0m \u001b[0mgetattr\u001b[0m\u001b[0;34m(\u001b[0m\u001b[0mhandler\u001b[0m\u001b[0;34m,\u001b[0m \u001b[0mmeth_name\u001b[0m\u001b[0;34m)\u001b[0m\u001b[0;34m\u001b[0m\u001b[0;34m\u001b[0m\u001b[0m\n\u001b[0;32m--> 494\u001b[0;31m             \u001b[0mresult\u001b[0m \u001b[0;34m=\u001b[0m \u001b[0mfunc\u001b[0m\u001b[0;34m(\u001b[0m\u001b[0;34m*\u001b[0m\u001b[0margs\u001b[0m\u001b[0;34m)\u001b[0m\u001b[0;34m\u001b[0m\u001b[0;34m\u001b[0m\u001b[0m\n\u001b[0m\u001b[1;32m    495\u001b[0m             \u001b[0;32mif\u001b[0m \u001b[0mresult\u001b[0m \u001b[0;32mis\u001b[0m \u001b[0;32mnot\u001b[0m \u001b[0;32mNone\u001b[0m\u001b[0;34m:\u001b[0m\u001b[0;34m\u001b[0m\u001b[0;34m\u001b[0m\u001b[0m\n\u001b[1;32m    496\u001b[0m                 \u001b[0;32mreturn\u001b[0m \u001b[0mresult\u001b[0m\u001b[0;34m\u001b[0m\u001b[0;34m\u001b[0m\u001b[0m\n",
            "\u001b[0;32m/usr/lib/python3.9/urllib/request.py\u001b[0m in \u001b[0;36mhttp_error_302\u001b[0;34m(self, req, fp, code, msg, headers)\u001b[0m\n\u001b[1;32m    745\u001b[0m         \u001b[0mfp\u001b[0m\u001b[0;34m.\u001b[0m\u001b[0mclose\u001b[0m\u001b[0;34m(\u001b[0m\u001b[0;34m)\u001b[0m\u001b[0;34m\u001b[0m\u001b[0;34m\u001b[0m\u001b[0m\n\u001b[1;32m    746\u001b[0m \u001b[0;34m\u001b[0m\u001b[0m\n\u001b[0;32m--> 747\u001b[0;31m         \u001b[0;32mreturn\u001b[0m \u001b[0mself\u001b[0m\u001b[0;34m.\u001b[0m\u001b[0mparent\u001b[0m\u001b[0;34m.\u001b[0m\u001b[0mopen\u001b[0m\u001b[0;34m(\u001b[0m\u001b[0mnew\u001b[0m\u001b[0;34m,\u001b[0m \u001b[0mtimeout\u001b[0m\u001b[0;34m=\u001b[0m\u001b[0mreq\u001b[0m\u001b[0;34m.\u001b[0m\u001b[0mtimeout\u001b[0m\u001b[0;34m)\u001b[0m\u001b[0;34m\u001b[0m\u001b[0;34m\u001b[0m\u001b[0m\n\u001b[0m\u001b[1;32m    748\u001b[0m \u001b[0;34m\u001b[0m\u001b[0m\n\u001b[1;32m    749\u001b[0m     \u001b[0mhttp_error_301\u001b[0m \u001b[0;34m=\u001b[0m \u001b[0mhttp_error_303\u001b[0m \u001b[0;34m=\u001b[0m \u001b[0mhttp_error_307\u001b[0m \u001b[0;34m=\u001b[0m \u001b[0mhttp_error_302\u001b[0m\u001b[0;34m\u001b[0m\u001b[0;34m\u001b[0m\u001b[0m\n",
            "\u001b[0;32m/usr/lib/python3.9/urllib/request.py\u001b[0m in \u001b[0;36mopen\u001b[0;34m(self, fullurl, data, timeout)\u001b[0m\n\u001b[1;32m    515\u001b[0m \u001b[0;34m\u001b[0m\u001b[0m\n\u001b[1;32m    516\u001b[0m         \u001b[0msys\u001b[0m\u001b[0;34m.\u001b[0m\u001b[0maudit\u001b[0m\u001b[0;34m(\u001b[0m\u001b[0;34m'urllib.Request'\u001b[0m\u001b[0;34m,\u001b[0m \u001b[0mreq\u001b[0m\u001b[0;34m.\u001b[0m\u001b[0mfull_url\u001b[0m\u001b[0;34m,\u001b[0m \u001b[0mreq\u001b[0m\u001b[0;34m.\u001b[0m\u001b[0mdata\u001b[0m\u001b[0;34m,\u001b[0m \u001b[0mreq\u001b[0m\u001b[0;34m.\u001b[0m\u001b[0mheaders\u001b[0m\u001b[0;34m,\u001b[0m \u001b[0mreq\u001b[0m\u001b[0;34m.\u001b[0m\u001b[0mget_method\u001b[0m\u001b[0;34m(\u001b[0m\u001b[0;34m)\u001b[0m\u001b[0;34m)\u001b[0m\u001b[0;34m\u001b[0m\u001b[0;34m\u001b[0m\u001b[0m\n\u001b[0;32m--> 517\u001b[0;31m         \u001b[0mresponse\u001b[0m \u001b[0;34m=\u001b[0m \u001b[0mself\u001b[0m\u001b[0;34m.\u001b[0m\u001b[0m_open\u001b[0m\u001b[0;34m(\u001b[0m\u001b[0mreq\u001b[0m\u001b[0;34m,\u001b[0m \u001b[0mdata\u001b[0m\u001b[0;34m)\u001b[0m\u001b[0;34m\u001b[0m\u001b[0;34m\u001b[0m\u001b[0m\n\u001b[0m\u001b[1;32m    518\u001b[0m \u001b[0;34m\u001b[0m\u001b[0m\n\u001b[1;32m    519\u001b[0m         \u001b[0;31m# post-process response\u001b[0m\u001b[0;34m\u001b[0m\u001b[0;34m\u001b[0m\u001b[0m\n",
            "\u001b[0;32m/usr/lib/python3.9/urllib/request.py\u001b[0m in \u001b[0;36m_open\u001b[0;34m(self, req, data)\u001b[0m\n\u001b[1;32m    532\u001b[0m \u001b[0;34m\u001b[0m\u001b[0m\n\u001b[1;32m    533\u001b[0m         \u001b[0mprotocol\u001b[0m \u001b[0;34m=\u001b[0m \u001b[0mreq\u001b[0m\u001b[0;34m.\u001b[0m\u001b[0mtype\u001b[0m\u001b[0;34m\u001b[0m\u001b[0;34m\u001b[0m\u001b[0m\n\u001b[0;32m--> 534\u001b[0;31m         result = self._call_chain(self.handle_open, protocol, protocol +\n\u001b[0m\u001b[1;32m    535\u001b[0m                                   '_open', req)\n\u001b[1;32m    536\u001b[0m         \u001b[0;32mif\u001b[0m \u001b[0mresult\u001b[0m\u001b[0;34m:\u001b[0m\u001b[0;34m\u001b[0m\u001b[0;34m\u001b[0m\u001b[0m\n",
            "\u001b[0;32m/usr/lib/python3.9/urllib/request.py\u001b[0m in \u001b[0;36m_call_chain\u001b[0;34m(self, chain, kind, meth_name, *args)\u001b[0m\n\u001b[1;32m    492\u001b[0m         \u001b[0;32mfor\u001b[0m \u001b[0mhandler\u001b[0m \u001b[0;32min\u001b[0m \u001b[0mhandlers\u001b[0m\u001b[0;34m:\u001b[0m\u001b[0;34m\u001b[0m\u001b[0;34m\u001b[0m\u001b[0m\n\u001b[1;32m    493\u001b[0m             \u001b[0mfunc\u001b[0m \u001b[0;34m=\u001b[0m \u001b[0mgetattr\u001b[0m\u001b[0;34m(\u001b[0m\u001b[0mhandler\u001b[0m\u001b[0;34m,\u001b[0m \u001b[0mmeth_name\u001b[0m\u001b[0;34m)\u001b[0m\u001b[0;34m\u001b[0m\u001b[0;34m\u001b[0m\u001b[0m\n\u001b[0;32m--> 494\u001b[0;31m             \u001b[0mresult\u001b[0m \u001b[0;34m=\u001b[0m \u001b[0mfunc\u001b[0m\u001b[0;34m(\u001b[0m\u001b[0;34m*\u001b[0m\u001b[0margs\u001b[0m\u001b[0;34m)\u001b[0m\u001b[0;34m\u001b[0m\u001b[0;34m\u001b[0m\u001b[0m\n\u001b[0m\u001b[1;32m    495\u001b[0m             \u001b[0;32mif\u001b[0m \u001b[0mresult\u001b[0m \u001b[0;32mis\u001b[0m \u001b[0;32mnot\u001b[0m \u001b[0;32mNone\u001b[0m\u001b[0;34m:\u001b[0m\u001b[0;34m\u001b[0m\u001b[0;34m\u001b[0m\u001b[0m\n\u001b[1;32m    496\u001b[0m                 \u001b[0;32mreturn\u001b[0m \u001b[0mresult\u001b[0m\u001b[0;34m\u001b[0m\u001b[0;34m\u001b[0m\u001b[0m\n",
            "\u001b[0;32m/usr/lib/python3.9/urllib/request.py\u001b[0m in \u001b[0;36mhttps_open\u001b[0;34m(self, req)\u001b[0m\n\u001b[1;32m   1387\u001b[0m \u001b[0;34m\u001b[0m\u001b[0m\n\u001b[1;32m   1388\u001b[0m         \u001b[0;32mdef\u001b[0m \u001b[0mhttps_open\u001b[0m\u001b[0;34m(\u001b[0m\u001b[0mself\u001b[0m\u001b[0;34m,\u001b[0m \u001b[0mreq\u001b[0m\u001b[0;34m)\u001b[0m\u001b[0;34m:\u001b[0m\u001b[0;34m\u001b[0m\u001b[0;34m\u001b[0m\u001b[0m\n\u001b[0;32m-> 1389\u001b[0;31m             return self.do_open(http.client.HTTPSConnection, req,\n\u001b[0m\u001b[1;32m   1390\u001b[0m                 context=self._context, check_hostname=self._check_hostname)\n\u001b[1;32m   1391\u001b[0m \u001b[0;34m\u001b[0m\u001b[0m\n",
            "\u001b[0;32m/usr/lib/python3.9/urllib/request.py\u001b[0m in \u001b[0;36mdo_open\u001b[0;34m(self, http_class, req, **http_conn_args)\u001b[0m\n\u001b[1;32m   1348\u001b[0m             \u001b[0;32mexcept\u001b[0m \u001b[0mOSError\u001b[0m \u001b[0;32mas\u001b[0m \u001b[0merr\u001b[0m\u001b[0;34m:\u001b[0m \u001b[0;31m# timeout error\u001b[0m\u001b[0;34m\u001b[0m\u001b[0;34m\u001b[0m\u001b[0m\n\u001b[1;32m   1349\u001b[0m                 \u001b[0;32mraise\u001b[0m \u001b[0mURLError\u001b[0m\u001b[0;34m(\u001b[0m\u001b[0merr\u001b[0m\u001b[0;34m)\u001b[0m\u001b[0;34m\u001b[0m\u001b[0;34m\u001b[0m\u001b[0m\n\u001b[0;32m-> 1350\u001b[0;31m             \u001b[0mr\u001b[0m \u001b[0;34m=\u001b[0m \u001b[0mh\u001b[0m\u001b[0;34m.\u001b[0m\u001b[0mgetresponse\u001b[0m\u001b[0;34m(\u001b[0m\u001b[0;34m)\u001b[0m\u001b[0;34m\u001b[0m\u001b[0;34m\u001b[0m\u001b[0m\n\u001b[0m\u001b[1;32m   1351\u001b[0m         \u001b[0;32mexcept\u001b[0m\u001b[0;34m:\u001b[0m\u001b[0;34m\u001b[0m\u001b[0;34m\u001b[0m\u001b[0m\n\u001b[1;32m   1352\u001b[0m             \u001b[0mh\u001b[0m\u001b[0;34m.\u001b[0m\u001b[0mclose\u001b[0m\u001b[0;34m(\u001b[0m\u001b[0;34m)\u001b[0m\u001b[0;34m\u001b[0m\u001b[0;34m\u001b[0m\u001b[0m\n",
            "\u001b[0;32m/usr/lib/python3.9/http/client.py\u001b[0m in \u001b[0;36mgetresponse\u001b[0;34m(self)\u001b[0m\n\u001b[1;32m   1375\u001b[0m         \u001b[0;32mtry\u001b[0m\u001b[0;34m:\u001b[0m\u001b[0;34m\u001b[0m\u001b[0;34m\u001b[0m\u001b[0m\n\u001b[1;32m   1376\u001b[0m             \u001b[0;32mtry\u001b[0m\u001b[0;34m:\u001b[0m\u001b[0;34m\u001b[0m\u001b[0;34m\u001b[0m\u001b[0m\n\u001b[0;32m-> 1377\u001b[0;31m                 \u001b[0mresponse\u001b[0m\u001b[0;34m.\u001b[0m\u001b[0mbegin\u001b[0m\u001b[0;34m(\u001b[0m\u001b[0;34m)\u001b[0m\u001b[0;34m\u001b[0m\u001b[0;34m\u001b[0m\u001b[0m\n\u001b[0m\u001b[1;32m   1378\u001b[0m             \u001b[0;32mexcept\u001b[0m \u001b[0mConnectionError\u001b[0m\u001b[0;34m:\u001b[0m\u001b[0;34m\u001b[0m\u001b[0;34m\u001b[0m\u001b[0m\n\u001b[1;32m   1379\u001b[0m                 \u001b[0mself\u001b[0m\u001b[0;34m.\u001b[0m\u001b[0mclose\u001b[0m\u001b[0;34m(\u001b[0m\u001b[0;34m)\u001b[0m\u001b[0;34m\u001b[0m\u001b[0;34m\u001b[0m\u001b[0m\n",
            "\u001b[0;32m/usr/lib/python3.9/http/client.py\u001b[0m in \u001b[0;36mbegin\u001b[0;34m(self)\u001b[0m\n\u001b[1;32m    318\u001b[0m         \u001b[0;31m# read until we get a non-100 response\u001b[0m\u001b[0;34m\u001b[0m\u001b[0;34m\u001b[0m\u001b[0m\n\u001b[1;32m    319\u001b[0m         \u001b[0;32mwhile\u001b[0m \u001b[0;32mTrue\u001b[0m\u001b[0;34m:\u001b[0m\u001b[0;34m\u001b[0m\u001b[0;34m\u001b[0m\u001b[0m\n\u001b[0;32m--> 320\u001b[0;31m             \u001b[0mversion\u001b[0m\u001b[0;34m,\u001b[0m \u001b[0mstatus\u001b[0m\u001b[0;34m,\u001b[0m \u001b[0mreason\u001b[0m \u001b[0;34m=\u001b[0m \u001b[0mself\u001b[0m\u001b[0;34m.\u001b[0m\u001b[0m_read_status\u001b[0m\u001b[0;34m(\u001b[0m\u001b[0;34m)\u001b[0m\u001b[0;34m\u001b[0m\u001b[0;34m\u001b[0m\u001b[0m\n\u001b[0m\u001b[1;32m    321\u001b[0m             \u001b[0;32mif\u001b[0m \u001b[0mstatus\u001b[0m \u001b[0;34m!=\u001b[0m \u001b[0mCONTINUE\u001b[0m\u001b[0;34m:\u001b[0m\u001b[0;34m\u001b[0m\u001b[0;34m\u001b[0m\u001b[0m\n\u001b[1;32m    322\u001b[0m                 \u001b[0;32mbreak\u001b[0m\u001b[0;34m\u001b[0m\u001b[0;34m\u001b[0m\u001b[0m\n",
            "\u001b[0;32m/usr/lib/python3.9/http/client.py\u001b[0m in \u001b[0;36m_read_status\u001b[0;34m(self)\u001b[0m\n\u001b[1;32m    279\u001b[0m \u001b[0;34m\u001b[0m\u001b[0m\n\u001b[1;32m    280\u001b[0m     \u001b[0;32mdef\u001b[0m \u001b[0m_read_status\u001b[0m\u001b[0;34m(\u001b[0m\u001b[0mself\u001b[0m\u001b[0;34m)\u001b[0m\u001b[0;34m:\u001b[0m\u001b[0;34m\u001b[0m\u001b[0;34m\u001b[0m\u001b[0m\n\u001b[0;32m--> 281\u001b[0;31m         \u001b[0mline\u001b[0m \u001b[0;34m=\u001b[0m \u001b[0mstr\u001b[0m\u001b[0;34m(\u001b[0m\u001b[0mself\u001b[0m\u001b[0;34m.\u001b[0m\u001b[0mfp\u001b[0m\u001b[0;34m.\u001b[0m\u001b[0mreadline\u001b[0m\u001b[0;34m(\u001b[0m\u001b[0m_MAXLINE\u001b[0m \u001b[0;34m+\u001b[0m \u001b[0;36m1\u001b[0m\u001b[0;34m)\u001b[0m\u001b[0;34m,\u001b[0m \u001b[0;34m\"iso-8859-1\"\u001b[0m\u001b[0;34m)\u001b[0m\u001b[0;34m\u001b[0m\u001b[0;34m\u001b[0m\u001b[0m\n\u001b[0m\u001b[1;32m    282\u001b[0m         \u001b[0;32mif\u001b[0m \u001b[0mlen\u001b[0m\u001b[0;34m(\u001b[0m\u001b[0mline\u001b[0m\u001b[0;34m)\u001b[0m \u001b[0;34m>\u001b[0m \u001b[0m_MAXLINE\u001b[0m\u001b[0;34m:\u001b[0m\u001b[0;34m\u001b[0m\u001b[0;34m\u001b[0m\u001b[0m\n\u001b[1;32m    283\u001b[0m             \u001b[0;32mraise\u001b[0m \u001b[0mLineTooLong\u001b[0m\u001b[0;34m(\u001b[0m\u001b[0;34m\"status line\"\u001b[0m\u001b[0;34m)\u001b[0m\u001b[0;34m\u001b[0m\u001b[0;34m\u001b[0m\u001b[0m\n",
            "\u001b[0;32m/usr/lib/python3.9/socket.py\u001b[0m in \u001b[0;36mreadinto\u001b[0;34m(self, b)\u001b[0m\n\u001b[1;32m    702\u001b[0m         \u001b[0;32mwhile\u001b[0m \u001b[0;32mTrue\u001b[0m\u001b[0;34m:\u001b[0m\u001b[0;34m\u001b[0m\u001b[0;34m\u001b[0m\u001b[0m\n\u001b[1;32m    703\u001b[0m             \u001b[0;32mtry\u001b[0m\u001b[0;34m:\u001b[0m\u001b[0;34m\u001b[0m\u001b[0;34m\u001b[0m\u001b[0m\n\u001b[0;32m--> 704\u001b[0;31m                 \u001b[0;32mreturn\u001b[0m \u001b[0mself\u001b[0m\u001b[0;34m.\u001b[0m\u001b[0m_sock\u001b[0m\u001b[0;34m.\u001b[0m\u001b[0mrecv_into\u001b[0m\u001b[0;34m(\u001b[0m\u001b[0mb\u001b[0m\u001b[0;34m)\u001b[0m\u001b[0;34m\u001b[0m\u001b[0;34m\u001b[0m\u001b[0m\n\u001b[0m\u001b[1;32m    705\u001b[0m             \u001b[0;32mexcept\u001b[0m \u001b[0mtimeout\u001b[0m\u001b[0;34m:\u001b[0m\u001b[0;34m\u001b[0m\u001b[0;34m\u001b[0m\u001b[0m\n\u001b[1;32m    706\u001b[0m                 \u001b[0mself\u001b[0m\u001b[0;34m.\u001b[0m\u001b[0m_timeout_occurred\u001b[0m \u001b[0;34m=\u001b[0m \u001b[0;32mTrue\u001b[0m\u001b[0;34m\u001b[0m\u001b[0;34m\u001b[0m\u001b[0m\n",
            "\u001b[0;32m/usr/lib/python3.9/ssl.py\u001b[0m in \u001b[0;36mrecv_into\u001b[0;34m(self, buffer, nbytes, flags)\u001b[0m\n\u001b[1;32m   1240\u001b[0m                   \u001b[0;34m\"non-zero flags not allowed in calls to recv_into() on %s\"\u001b[0m \u001b[0;34m%\u001b[0m\u001b[0;34m\u001b[0m\u001b[0;34m\u001b[0m\u001b[0m\n\u001b[1;32m   1241\u001b[0m                   self.__class__)\n\u001b[0;32m-> 1242\u001b[0;31m             \u001b[0;32mreturn\u001b[0m \u001b[0mself\u001b[0m\u001b[0;34m.\u001b[0m\u001b[0mread\u001b[0m\u001b[0;34m(\u001b[0m\u001b[0mnbytes\u001b[0m\u001b[0;34m,\u001b[0m \u001b[0mbuffer\u001b[0m\u001b[0;34m)\u001b[0m\u001b[0;34m\u001b[0m\u001b[0;34m\u001b[0m\u001b[0m\n\u001b[0m\u001b[1;32m   1243\u001b[0m         \u001b[0;32melse\u001b[0m\u001b[0;34m:\u001b[0m\u001b[0;34m\u001b[0m\u001b[0;34m\u001b[0m\u001b[0m\n\u001b[1;32m   1244\u001b[0m             \u001b[0;32mreturn\u001b[0m \u001b[0msuper\u001b[0m\u001b[0;34m(\u001b[0m\u001b[0;34m)\u001b[0m\u001b[0;34m.\u001b[0m\u001b[0mrecv_into\u001b[0m\u001b[0;34m(\u001b[0m\u001b[0mbuffer\u001b[0m\u001b[0;34m,\u001b[0m \u001b[0mnbytes\u001b[0m\u001b[0;34m,\u001b[0m \u001b[0mflags\u001b[0m\u001b[0;34m)\u001b[0m\u001b[0;34m\u001b[0m\u001b[0;34m\u001b[0m\u001b[0m\n",
            "\u001b[0;32m/usr/lib/python3.9/ssl.py\u001b[0m in \u001b[0;36mread\u001b[0;34m(self, len, buffer)\u001b[0m\n\u001b[1;32m   1098\u001b[0m         \u001b[0;32mtry\u001b[0m\u001b[0;34m:\u001b[0m\u001b[0;34m\u001b[0m\u001b[0;34m\u001b[0m\u001b[0m\n\u001b[1;32m   1099\u001b[0m             \u001b[0;32mif\u001b[0m \u001b[0mbuffer\u001b[0m \u001b[0;32mis\u001b[0m \u001b[0;32mnot\u001b[0m \u001b[0;32mNone\u001b[0m\u001b[0;34m:\u001b[0m\u001b[0;34m\u001b[0m\u001b[0;34m\u001b[0m\u001b[0m\n\u001b[0;32m-> 1100\u001b[0;31m                 \u001b[0;32mreturn\u001b[0m \u001b[0mself\u001b[0m\u001b[0;34m.\u001b[0m\u001b[0m_sslobj\u001b[0m\u001b[0;34m.\u001b[0m\u001b[0mread\u001b[0m\u001b[0;34m(\u001b[0m\u001b[0mlen\u001b[0m\u001b[0;34m,\u001b[0m \u001b[0mbuffer\u001b[0m\u001b[0;34m)\u001b[0m\u001b[0;34m\u001b[0m\u001b[0;34m\u001b[0m\u001b[0m\n\u001b[0m\u001b[1;32m   1101\u001b[0m             \u001b[0;32melse\u001b[0m\u001b[0;34m:\u001b[0m\u001b[0;34m\u001b[0m\u001b[0;34m\u001b[0m\u001b[0m\n\u001b[1;32m   1102\u001b[0m                 \u001b[0;32mreturn\u001b[0m \u001b[0mself\u001b[0m\u001b[0;34m.\u001b[0m\u001b[0m_sslobj\u001b[0m\u001b[0;34m.\u001b[0m\u001b[0mread\u001b[0m\u001b[0;34m(\u001b[0m\u001b[0mlen\u001b[0m\u001b[0;34m)\u001b[0m\u001b[0;34m\u001b[0m\u001b[0;34m\u001b[0m\u001b[0m\n",
            "\u001b[0;31mKeyboardInterrupt\u001b[0m: "
          ]
        }
      ],
      "source": [
        "cols = ['url', 'relations']\n",
        "\n",
        "completeList = []\n",
        "\n",
        "for index, row in df.iterrows():\n",
        "    \n",
        "    print(index)\n",
        "    dataset_name = row['title']['de']\n",
        "    id           = row['id']\n",
        "    \n",
        "    for col in cols:\n",
        "  \n",
        "        att_type = 'dataset'\n",
        "        att      = col\n",
        "        val      = row[col]\n",
        "\n",
        "        liste = []\n",
        "\n",
        "        if col == 'resources':\n",
        "            \n",
        "            att_type = 'resources'\n",
        "            #change att\n",
        "            print('nichts')\n",
        "\n",
        "\n",
        "        else:\n",
        "            if type(val) == str:\n",
        "                liste = checkString(val)\n",
        "            else:\n",
        "                liste = checkString(str(val))\n",
        "\n",
        "\n",
        "        if len(liste) == 0:\n",
        "            continue\n",
        "        else:\n",
        "            for elem in liste:\n",
        "                completeList.append([dataset_name, att_type, att, id, elem[0], elem[1]])\n"
      ]
    },
    {
      "cell_type": "code",
      "execution_count": null,
      "id": "47a53584",
      "metadata": {
        "id": "47a53584"
      },
      "outputs": [],
      "source": [
        "f = pd.DataFrame(completeList)\n",
        "f.columns=['title', 'type', 'attribute', 'id', 'old_link', 'new_link']\n",
        "f"
      ]
    },
    {
      "cell_type": "code",
      "execution_count": null,
      "id": "05f4ed7a",
      "metadata": {
        "id": "05f4ed7a"
      },
      "outputs": [],
      "source": [
        "f.to_csv('urlAndRelations.csv', index=False)"
      ]
    },
    {
      "cell_type": "markdown",
      "source": [
        "-------------------------------------------------------------------------------------------------------------------------------------------------------------"
      ],
      "metadata": {
        "id": "abDOZGYJJUOU"
      },
      "id": "abDOZGYJJUOU"
    },
    {
      "cell_type": "markdown",
      "source": [
        "For _resources_"
      ],
      "metadata": {
        "id": "Ur37S1TsJf_Q"
      },
      "id": "Ur37S1TsJf_Q"
    },
    {
      "cell_type": "code",
      "source": [
        "# import module\n",
        "from urllib.request import urlopen\n",
        "from urllib.error import *\n",
        " \n",
        "# try block to read URL\n",
        "\n",
        "def checkLink(link):\n",
        "\n",
        "  try:\n",
        "      html = urlopen(link)\n",
        "      \n",
        "  # except block to catch\n",
        "  # exception\n",
        "  # and identify error\n",
        "  except HTTPError as e:\n",
        "      print(\"HTTP error\", e)\n",
        "      print(link)\n",
        "      print()\n",
        "      return False\n",
        "      \n",
        "  except URLError as e:\n",
        "      print(\"Opps ! Page not found!\", e)\n",
        "      print(link)\n",
        "      print()\n",
        "      return False\n",
        "  \n",
        "  else:\n",
        "      return True"
      ],
      "metadata": {
        "id": "pHZk5t4H6AaL"
      },
      "id": "pHZk5t4H6AaL",
      "execution_count": 42,
      "outputs": []
    },
    {
      "cell_type": "code",
      "source": [
        "def getURLs(original_string, urls):\n",
        "\n",
        "    print(urls)\n",
        "    \n",
        "    links = []\n",
        "\n",
        "    badLinks       = []\n",
        "\n",
        "    adjustedString = '' \n",
        "    for s in original_string:\n",
        "      adjustedString = adjustedString + s\n",
        "\n",
        "\n",
        "    needsToBeListed = False\n",
        "\n",
        "    \n",
        "    for url in urls:\n",
        "      \n",
        "      url_modified    = ''\n",
        "      # only store links which are faulty or need a protocol update (https)\n",
        "      \n",
        "      \n",
        "      # if https already used\n",
        "      if 'https' in url:\n",
        "        working = checkLink(url)\n",
        "        \n",
        "        if not working:\n",
        "          badLinks.append([url, '-'])\n",
        "          #needsToBeListed = True\n",
        "          \n",
        "      # if https not in link\n",
        "      else:\n",
        "        \n",
        "        url_modified = addHTTPS(url)\n",
        "        working = checkLink(url_modified)\n",
        "        \n",
        "        if working:\n",
        "          needsToBeListed = True\n",
        "          # replace in adjusted_string\n",
        "          adjustedString = adjustedString.replace(url, url_modified)\n",
        "          \n",
        "        else:\n",
        "          # does not change http: urls\n",
        "          url_modified = addHTTP(url)\n",
        "          working = checkLink(url)\n",
        "          \n",
        "          if not working:\n",
        "            badLinks.append([url, '-'])\n",
        "                    \n",
        "        \n",
        "    if needsToBeListed:\n",
        "      links.append([original_string, adjustedString])\n",
        "\n",
        "    if len(badLinks) != 0:\n",
        "      links = links + badLinks\n",
        "\n",
        "\n",
        "    \n",
        "\n",
        "    return links"
      ],
      "metadata": {
        "id": "-8y64hN0tynn"
      },
      "id": "-8y64hN0tynn",
      "execution_count": 57,
      "outputs": []
    },
    {
      "cell_type": "code",
      "source": [
        "def checkDictionary(l):\n",
        "\n",
        "  resourceList = []\n",
        "  \n",
        "  for d in l:\n",
        "    print('Dictionary:')\n",
        "    print(d)\n",
        "\n",
        "    id = d['id']\n",
        "\n",
        "    print('id: ', id)\n",
        "    print('package_id: ', d['package_id'])\n",
        "\n",
        "    for key in d.keys():\n",
        "\n",
        "      #print(d)\n",
        "\n",
        "      value    = d[key]\n",
        "      isString = True\n",
        "\n",
        "      if type(value) != str:\n",
        "        isString = False\n",
        "        value    = str(d[key])\n",
        "\n",
        "\n",
        "      urls = extractor.find_urls(value)\n",
        "  \n",
        "      # first remove elements which are not actual links\n",
        "      urls = [url for url in urls if ('http' in url) or ('www' in url)]\n",
        "\n",
        "      whatToChange = []\n",
        "\n",
        "      if len(urls) != 0:\n",
        "        whatToChange = getURLs(value, urls)\n",
        "      \n",
        "      for elem in whatToChange:\n",
        "        resourceList.append([key] + [id] + elem)\n",
        "\n",
        "  return resourceList"
      ],
      "metadata": {
        "id": "3nKkx9QeSIIs"
      },
      "id": "3nKkx9QeSIIs",
      "execution_count": 76,
      "outputs": []
    },
    {
      "cell_type": "code",
      "source": [
        "d = df.iloc[40]['resources'].copy()\n",
        "res = checkDictionary(d)"
      ],
      "metadata": {
        "id": "hyFGNG0Uyy5Z",
        "outputId": "c52961c1-46c4-4f80-a352-8ac42e50dcb7",
        "colab": {
          "base_uri": "https://localhost:8080/"
        }
      },
      "id": "hyFGNG0Uyy5Z",
      "execution_count": 68,
      "outputs": [
        {
          "output_type": "stream",
          "name": "stdout",
          "text": [
            "[{'byte_size': 0, 'protocol': 'OGC:WMS', 'cache_last_updated': None, 'issued': '2016-02-25T00:00:00', 'package_id': 'a7e83e99-3ee9-4ffc-b1d5-8a792537a161', 'datastore_contains_all_records_of_source_file': False, 'datastore_active': False, 'id': 'fbefbaa8-fcd7-4030-abdc-a38641febbf5', 'size': None, 'display_name': {'fr': 'ch.bfe.windenergie-geschwindigkeit_h100', 'de': 'ch.bfe.windenergie-geschwindigkeit_h100', 'en': 'ch.bfe.windenergie-geschwindigkeit_h100', 'it': 'ch.bfe.windenergie-geschwindigkeit_h100'}, 'title': {'fr': 'ch.bfe.windenergie-geschwindigkeit_h100', 'de': 'ch.bfe.windenergie-geschwindigkeit_h100', 'en': 'ch.bfe.windenergie-geschwindigkeit_h100', 'it': 'ch.bfe.windenergie-geschwindigkeit_h100'}, 'state': 'active', 'hash': '', 'description': {'fr': 'Vitesse du vent à 100 m du sol', 'de': 'Windgeschwindigkeit 100 m Höhe', 'en': 'Wind speed 100 metres above ground', 'it': 'Velocità vento a 100 m dal suolo'}, 'format': 'WMS', 'mimetype_inner': None, 'url_type': None, 'mimetype': None, 'cache_url': None, 'name': {'fr': 'ch.bfe.windenergie-geschwindigkeit_h100', 'de': 'ch.bfe.windenergie-geschwindigkeit_h100', 'en': 'ch.bfe.windenergie-geschwindigkeit_h100', 'it': 'ch.bfe.windenergie-geschwindigkeit_h100'}, 'language': ['en', 'de', 'fr', 'it'], 'rights': 'NonCommercialAllowed-CommercialAllowed-ReferenceRequired', 'url': 'https://wms.geo.admin.ch/?SERVICE=WMS&VERSION=1.3.0&REQUEST=GetCapabilities&lang=de', 'created': '2023-03-22T04:02:13.198286', 'modified': '2019-10-23T00:00:00', 'last_modified': None, 'position': 0, 'revision_id': '2d454cc9-c05e-4943-bbd5-16aaa2e726ee', 'resource_type': None}, {'byte_size': 0, 'protocol': 'WWW:DOWNLOAD:Geopackage (ogc)', 'cache_last_updated': None, 'issued': '2016-02-25T00:00:00', 'package_id': 'a7e83e99-3ee9-4ffc-b1d5-8a792537a161', 'datastore_contains_all_records_of_source_file': False, 'datastore_active': False, 'id': '9bbd8207-1e75-44a5-ba78-89351921ea77', 'size': None, 'display_name': {'fr': '', 'de': 'Geopackage', 'en': '', 'it': ''}, 'title': {'fr': '', 'de': 'Geopackage', 'en': '', 'it': ''}, 'download_url': 'https://data.geo.admin.ch/ch.bfe.windenergie-geschwindigkeit_h100/windenergie-geschwindigkeit_h100/windenergie-geschwindigkeit_h100_2056.gpkg.zip', 'state': 'active', 'media_type': 'Geopackage (ogc)', 'hash': '', 'description': {'fr': '', 'de': 'Geopackage', 'en': '', 'it': ''}, 'format': 'GPKG', 'mimetype_inner': None, 'url_type': None, 'mimetype': None, 'cache_url': None, 'name': {'fr': '', 'de': 'Geopackage', 'en': '', 'it': ''}, 'language': ['de'], 'rights': 'NonCommercialAllowed-CommercialAllowed-ReferenceRequired', 'url': 'https://data.geo.admin.ch/ch.bfe.windenergie-geschwindigkeit_h100/windenergie-geschwindigkeit_h100/windenergie-geschwindigkeit_h100_2056.gpkg.zip', 'created': '2023-03-02T04:01:06.650875', 'modified': '2019-10-23T00:00:00', 'last_modified': None, 'position': 1, 'revision_id': '2d454cc9-c05e-4943-bbd5-16aaa2e726ee', 'resource_type': None}, {'byte_size': 0, 'protocol': 'WWW:DOWNLOAD:ESRI File Geodatabase', 'cache_last_updated': None, 'issued': '2016-02-25T00:00:00', 'package_id': 'a7e83e99-3ee9-4ffc-b1d5-8a792537a161', 'datastore_contains_all_records_of_source_file': False, 'datastore_active': False, 'id': 'f0904fec-5bb3-4189-bf2f-4d7bd4a560ab', 'size': None, 'display_name': {'fr': '', 'de': 'Filegeodatabase', 'en': '', 'it': ''}, 'title': {'fr': '', 'de': 'Filegeodatabase', 'en': '', 'it': ''}, 'download_url': 'https://data.geo.admin.ch/ch.bfe.windenergie-geschwindigkeit_h100/windenergie-geschwindigkeit_h100/windenergie-geschwindigkeit_h100_2056.fgdb.zip', 'state': 'active', 'media_type': 'ESRI File Geodatabase', 'hash': '', 'description': {'fr': '', 'de': 'Filegeodatabase', 'en': '', 'it': ''}, 'format': 'GDB', 'mimetype_inner': None, 'url_type': None, 'mimetype': None, 'cache_url': None, 'name': {'fr': '', 'de': 'Filegeodatabase', 'en': '', 'it': ''}, 'language': ['de'], 'rights': 'NonCommercialAllowed-CommercialAllowed-ReferenceRequired', 'url': 'https://data.geo.admin.ch/ch.bfe.windenergie-geschwindigkeit_h100/windenergie-geschwindigkeit_h100/windenergie-geschwindigkeit_h100_2056.fgdb.zip', 'created': '2023-03-02T04:01:06.650881', 'modified': '2019-10-23T00:00:00', 'last_modified': None, 'position': 2, 'revision_id': '2d454cc9-c05e-4943-bbd5-16aaa2e726ee', 'resource_type': None}, {'byte_size': 0, 'protocol': 'WWW:DOWNLOAD:GeoTIFF', 'cache_last_updated': None, 'issued': '2016-02-25T00:00:00', 'package_id': 'a7e83e99-3ee9-4ffc-b1d5-8a792537a161', 'datastore_contains_all_records_of_source_file': False, 'datastore_active': False, 'id': '91b1a0a4-0a91-4317-87e9-1cf5898e5d45', 'size': None, 'display_name': {'fr': '', 'de': 'GeoTIFF', 'en': '', 'it': ''}, 'title': {'fr': '', 'de': 'GeoTIFF', 'en': '', 'it': ''}, 'download_url': 'https://data.geo.admin.ch/ch.bfe.windenergie-geschwindigkeit_h100/windenergie-geschwindigkeit_h100/windenergie-geschwindigkeit_h100_2056.tif.zip', 'state': 'active', 'media_type': 'GeoTIFF', 'hash': '', 'description': {'fr': '', 'de': 'GeoTIFF', 'en': '', 'it': ''}, 'format': 'GeoTIFF', 'mimetype_inner': None, 'url_type': None, 'mimetype': None, 'cache_url': None, 'name': {'fr': '', 'de': 'GeoTIFF', 'en': '', 'it': ''}, 'language': ['de'], 'rights': 'NonCommercialAllowed-CommercialAllowed-ReferenceRequired', 'url': 'https://data.geo.admin.ch/ch.bfe.windenergie-geschwindigkeit_h100/windenergie-geschwindigkeit_h100/windenergie-geschwindigkeit_h100_2056.tif.zip', 'created': '2023-03-02T04:01:06.650883', 'modified': '2019-10-23T00:00:00', 'last_modified': None, 'position': 3, 'revision_id': '2d454cc9-c05e-4943-bbd5-16aaa2e726ee', 'resource_type': None}, {'byte_size': 0, 'protocol': 'WWW:DOWNLOAD:INTERLIS', 'cache_last_updated': None, 'issued': '2016-02-25T00:00:00', 'package_id': 'a7e83e99-3ee9-4ffc-b1d5-8a792537a161', 'datastore_contains_all_records_of_source_file': False, 'datastore_active': False, 'id': 'eca24667-7729-4fae-ba61-2795c87fd4f5', 'size': None, 'display_name': {'fr': '', 'de': 'Interlis', 'en': '', 'it': ''}, 'title': {'fr': '', 'de': 'Interlis', 'en': '', 'it': ''}, 'download_url': 'https://data.geo.admin.ch/ch.bfe.windenergie-geschwindigkeit_h100/windenergie-geschwindigkeit_h100/windenergie-geschwindigkeit_h100_2056.xtf.zip', 'state': 'active', 'media_type': 'INTERLIS', 'hash': '', 'description': {'fr': '', 'de': 'Interlis', 'en': '', 'it': ''}, 'format': 'INTERLIS', 'mimetype_inner': None, 'url_type': None, 'mimetype': None, 'cache_url': None, 'name': {'fr': '', 'de': 'Interlis', 'en': '', 'it': ''}, 'language': ['de'], 'rights': 'NonCommercialAllowed-CommercialAllowed-ReferenceRequired', 'url': 'https://data.geo.admin.ch/ch.bfe.windenergie-geschwindigkeit_h100/windenergie-geschwindigkeit_h100/windenergie-geschwindigkeit_h100_2056.xtf.zip', 'created': '2023-03-02T04:01:06.650884', 'modified': '2019-10-23T00:00:00', 'last_modified': None, 'position': 4, 'revision_id': '2d454cc9-c05e-4943-bbd5-16aaa2e726ee', 'resource_type': None}, {'byte_size': 0, 'protocol': 'MAP:Preview', 'cache_last_updated': None, 'issued': '2016-02-25T00:00:00', 'package_id': 'a7e83e99-3ee9-4ffc-b1d5-8a792537a161', 'datastore_contains_all_records_of_source_file': False, 'datastore_active': False, 'id': '6217ec04-2792-4971-97b4-27dc5b78a1eb', 'size': None, 'display_name': {'fr': 'Map (Preview)', 'de': 'Map (Preview)', 'en': 'Map (Preview)', 'it': 'Map (Preview)'}, 'title': {'fr': 'Map (Preview)', 'de': 'Map (Preview)', 'en': 'Map (Preview)', 'it': 'Map (Preview)'}, 'state': 'active', 'hash': '', 'description': {'fr': 'Géoportail thématique - map.geo.admin.ch', 'de': 'Fachportal - map.geo.admin.ch', 'en': 'Thematic geoportal - map.geo.admin.ch', 'it': 'Geoportale tematico - map.geo.admin.ch'}, 'format': 'SERVICE', 'mimetype_inner': None, 'url_type': None, 'mimetype': None, 'cache_url': None, 'name': {'fr': 'Map (Preview)', 'de': 'Map (Preview)', 'en': 'Map (Preview)', 'it': 'Map (Preview)'}, 'language': ['en', 'de', 'fr', 'it'], 'rights': 'NonCommercialAllowed-CommercialAllowed-ReferenceRequired', 'url': 'https://map.geo.admin.ch/?topic=energie&lang=de&layers=ch.bfe.windenergie-geschwindigkeit_h100', 'created': '2023-03-02T04:01:06.650886', 'modified': '2019-10-23T00:00:00', 'last_modified': None, 'position': 5, 'revision_id': '2d454cc9-c05e-4943-bbd5-16aaa2e726ee', 'resource_type': None}]\n",
            "Dictionary:\n",
            "{'byte_size': 0, 'protocol': 'OGC:WMS', 'cache_last_updated': None, 'issued': '2016-02-25T00:00:00', 'package_id': 'a7e83e99-3ee9-4ffc-b1d5-8a792537a161', 'datastore_contains_all_records_of_source_file': False, 'datastore_active': False, 'id': 'fbefbaa8-fcd7-4030-abdc-a38641febbf5', 'size': None, 'display_name': {'fr': 'ch.bfe.windenergie-geschwindigkeit_h100', 'de': 'ch.bfe.windenergie-geschwindigkeit_h100', 'en': 'ch.bfe.windenergie-geschwindigkeit_h100', 'it': 'ch.bfe.windenergie-geschwindigkeit_h100'}, 'title': {'fr': 'ch.bfe.windenergie-geschwindigkeit_h100', 'de': 'ch.bfe.windenergie-geschwindigkeit_h100', 'en': 'ch.bfe.windenergie-geschwindigkeit_h100', 'it': 'ch.bfe.windenergie-geschwindigkeit_h100'}, 'state': 'active', 'hash': '', 'description': {'fr': 'Vitesse du vent à 100 m du sol', 'de': 'Windgeschwindigkeit 100 m Höhe', 'en': 'Wind speed 100 metres above ground', 'it': 'Velocità vento a 100 m dal suolo'}, 'format': 'WMS', 'mimetype_inner': None, 'url_type': None, 'mimetype': None, 'cache_url': None, 'name': {'fr': 'ch.bfe.windenergie-geschwindigkeit_h100', 'de': 'ch.bfe.windenergie-geschwindigkeit_h100', 'en': 'ch.bfe.windenergie-geschwindigkeit_h100', 'it': 'ch.bfe.windenergie-geschwindigkeit_h100'}, 'language': ['en', 'de', 'fr', 'it'], 'rights': 'NonCommercialAllowed-CommercialAllowed-ReferenceRequired', 'url': 'https://wms.geo.admin.ch/?SERVICE=WMS&VERSION=1.3.0&REQUEST=GetCapabilities&lang=de', 'created': '2023-03-22T04:02:13.198286', 'modified': '2019-10-23T00:00:00', 'last_modified': None, 'position': 0, 'revision_id': '2d454cc9-c05e-4943-bbd5-16aaa2e726ee', 'resource_type': None}\n",
            "['https://wms.geo.admin.ch/?SERVICE=WMS&VERSION=1.3.0&REQUEST=GetCapabilities&lang=de']\n",
            "Dictionary:\n",
            "{'byte_size': 0, 'protocol': 'WWW:DOWNLOAD:Geopackage (ogc)', 'cache_last_updated': None, 'issued': '2016-02-25T00:00:00', 'package_id': 'a7e83e99-3ee9-4ffc-b1d5-8a792537a161', 'datastore_contains_all_records_of_source_file': False, 'datastore_active': False, 'id': '9bbd8207-1e75-44a5-ba78-89351921ea77', 'size': None, 'display_name': {'fr': '', 'de': 'Geopackage', 'en': '', 'it': ''}, 'title': {'fr': '', 'de': 'Geopackage', 'en': '', 'it': ''}, 'download_url': 'https://data.geo.admin.ch/ch.bfe.windenergie-geschwindigkeit_h100/windenergie-geschwindigkeit_h100/windenergie-geschwindigkeit_h100_2056.gpkg.zip', 'state': 'active', 'media_type': 'Geopackage (ogc)', 'hash': '', 'description': {'fr': '', 'de': 'Geopackage', 'en': '', 'it': ''}, 'format': 'GPKG', 'mimetype_inner': None, 'url_type': None, 'mimetype': None, 'cache_url': None, 'name': {'fr': '', 'de': 'Geopackage', 'en': '', 'it': ''}, 'language': ['de'], 'rights': 'NonCommercialAllowed-CommercialAllowed-ReferenceRequired', 'url': 'https://data.geo.admin.ch/ch.bfe.windenergie-geschwindigkeit_h100/windenergie-geschwindigkeit_h100/windenergie-geschwindigkeit_h100_2056.gpkg.zip', 'created': '2023-03-02T04:01:06.650875', 'modified': '2019-10-23T00:00:00', 'last_modified': None, 'position': 1, 'revision_id': '2d454cc9-c05e-4943-bbd5-16aaa2e726ee', 'resource_type': None}\n",
            "['https://data.geo.admin.ch/ch.bfe.windenergie-geschwindigkeit_h100/windenergie-geschwindigkeit_h100/windenergie-geschwindigkeit_h100_2056.gpkg.zip']\n",
            "['https://data.geo.admin.ch/ch.bfe.windenergie-geschwindigkeit_h100/windenergie-geschwindigkeit_h100/windenergie-geschwindigkeit_h100_2056.gpkg.zip']\n",
            "Dictionary:\n",
            "{'byte_size': 0, 'protocol': 'WWW:DOWNLOAD:ESRI File Geodatabase', 'cache_last_updated': None, 'issued': '2016-02-25T00:00:00', 'package_id': 'a7e83e99-3ee9-4ffc-b1d5-8a792537a161', 'datastore_contains_all_records_of_source_file': False, 'datastore_active': False, 'id': 'f0904fec-5bb3-4189-bf2f-4d7bd4a560ab', 'size': None, 'display_name': {'fr': '', 'de': 'Filegeodatabase', 'en': '', 'it': ''}, 'title': {'fr': '', 'de': 'Filegeodatabase', 'en': '', 'it': ''}, 'download_url': 'https://data.geo.admin.ch/ch.bfe.windenergie-geschwindigkeit_h100/windenergie-geschwindigkeit_h100/windenergie-geschwindigkeit_h100_2056.fgdb.zip', 'state': 'active', 'media_type': 'ESRI File Geodatabase', 'hash': '', 'description': {'fr': '', 'de': 'Filegeodatabase', 'en': '', 'it': ''}, 'format': 'GDB', 'mimetype_inner': None, 'url_type': None, 'mimetype': None, 'cache_url': None, 'name': {'fr': '', 'de': 'Filegeodatabase', 'en': '', 'it': ''}, 'language': ['de'], 'rights': 'NonCommercialAllowed-CommercialAllowed-ReferenceRequired', 'url': 'https://data.geo.admin.ch/ch.bfe.windenergie-geschwindigkeit_h100/windenergie-geschwindigkeit_h100/windenergie-geschwindigkeit_h100_2056.fgdb.zip', 'created': '2023-03-02T04:01:06.650881', 'modified': '2019-10-23T00:00:00', 'last_modified': None, 'position': 2, 'revision_id': '2d454cc9-c05e-4943-bbd5-16aaa2e726ee', 'resource_type': None}\n",
            "['https://data.geo.admin.ch/ch.bfe.windenergie-geschwindigkeit_h100/windenergie-geschwindigkeit_h100/windenergie-geschwindigkeit_h100_2056.fgdb.zip']\n",
            "HTTP error HTTP Error 404: Not Found\n",
            "https://data.geo.admin.ch/ch.bfe.windenergie-geschwindigkeit_h100/windenergie-geschwindigkeit_h100/windenergie-geschwindigkeit_h100_2056.fgdb.zip\n",
            "\n",
            "['https://data.geo.admin.ch/ch.bfe.windenergie-geschwindigkeit_h100/windenergie-geschwindigkeit_h100/windenergie-geschwindigkeit_h100_2056.fgdb.zip']\n",
            "HTTP error HTTP Error 404: Not Found\n",
            "https://data.geo.admin.ch/ch.bfe.windenergie-geschwindigkeit_h100/windenergie-geschwindigkeit_h100/windenergie-geschwindigkeit_h100_2056.fgdb.zip\n",
            "\n",
            "Dictionary:\n",
            "{'byte_size': 0, 'protocol': 'WWW:DOWNLOAD:GeoTIFF', 'cache_last_updated': None, 'issued': '2016-02-25T00:00:00', 'package_id': 'a7e83e99-3ee9-4ffc-b1d5-8a792537a161', 'datastore_contains_all_records_of_source_file': False, 'datastore_active': False, 'id': '91b1a0a4-0a91-4317-87e9-1cf5898e5d45', 'size': None, 'display_name': {'fr': '', 'de': 'GeoTIFF', 'en': '', 'it': ''}, 'title': {'fr': '', 'de': 'GeoTIFF', 'en': '', 'it': ''}, 'download_url': 'https://data.geo.admin.ch/ch.bfe.windenergie-geschwindigkeit_h100/windenergie-geschwindigkeit_h100/windenergie-geschwindigkeit_h100_2056.tif.zip', 'state': 'active', 'media_type': 'GeoTIFF', 'hash': '', 'description': {'fr': '', 'de': 'GeoTIFF', 'en': '', 'it': ''}, 'format': 'GeoTIFF', 'mimetype_inner': None, 'url_type': None, 'mimetype': None, 'cache_url': None, 'name': {'fr': '', 'de': 'GeoTIFF', 'en': '', 'it': ''}, 'language': ['de'], 'rights': 'NonCommercialAllowed-CommercialAllowed-ReferenceRequired', 'url': 'https://data.geo.admin.ch/ch.bfe.windenergie-geschwindigkeit_h100/windenergie-geschwindigkeit_h100/windenergie-geschwindigkeit_h100_2056.tif.zip', 'created': '2023-03-02T04:01:06.650883', 'modified': '2019-10-23T00:00:00', 'last_modified': None, 'position': 3, 'revision_id': '2d454cc9-c05e-4943-bbd5-16aaa2e726ee', 'resource_type': None}\n",
            "['https://data.geo.admin.ch/ch.bfe.windenergie-geschwindigkeit_h100/windenergie-geschwindigkeit_h100/windenergie-geschwindigkeit_h100_2056.tif.zip']\n",
            "['https://data.geo.admin.ch/ch.bfe.windenergie-geschwindigkeit_h100/windenergie-geschwindigkeit_h100/windenergie-geschwindigkeit_h100_2056.tif.zip']\n",
            "Dictionary:\n",
            "{'byte_size': 0, 'protocol': 'WWW:DOWNLOAD:INTERLIS', 'cache_last_updated': None, 'issued': '2016-02-25T00:00:00', 'package_id': 'a7e83e99-3ee9-4ffc-b1d5-8a792537a161', 'datastore_contains_all_records_of_source_file': False, 'datastore_active': False, 'id': 'eca24667-7729-4fae-ba61-2795c87fd4f5', 'size': None, 'display_name': {'fr': '', 'de': 'Interlis', 'en': '', 'it': ''}, 'title': {'fr': '', 'de': 'Interlis', 'en': '', 'it': ''}, 'download_url': 'https://data.geo.admin.ch/ch.bfe.windenergie-geschwindigkeit_h100/windenergie-geschwindigkeit_h100/windenergie-geschwindigkeit_h100_2056.xtf.zip', 'state': 'active', 'media_type': 'INTERLIS', 'hash': '', 'description': {'fr': '', 'de': 'Interlis', 'en': '', 'it': ''}, 'format': 'INTERLIS', 'mimetype_inner': None, 'url_type': None, 'mimetype': None, 'cache_url': None, 'name': {'fr': '', 'de': 'Interlis', 'en': '', 'it': ''}, 'language': ['de'], 'rights': 'NonCommercialAllowed-CommercialAllowed-ReferenceRequired', 'url': 'https://data.geo.admin.ch/ch.bfe.windenergie-geschwindigkeit_h100/windenergie-geschwindigkeit_h100/windenergie-geschwindigkeit_h100_2056.xtf.zip', 'created': '2023-03-02T04:01:06.650884', 'modified': '2019-10-23T00:00:00', 'last_modified': None, 'position': 4, 'revision_id': '2d454cc9-c05e-4943-bbd5-16aaa2e726ee', 'resource_type': None}\n",
            "['https://data.geo.admin.ch/ch.bfe.windenergie-geschwindigkeit_h100/windenergie-geschwindigkeit_h100/windenergie-geschwindigkeit_h100_2056.xtf.zip']\n",
            "['https://data.geo.admin.ch/ch.bfe.windenergie-geschwindigkeit_h100/windenergie-geschwindigkeit_h100/windenergie-geschwindigkeit_h100_2056.xtf.zip']\n",
            "Dictionary:\n",
            "{'byte_size': 0, 'protocol': 'MAP:Preview', 'cache_last_updated': None, 'issued': '2016-02-25T00:00:00', 'package_id': 'a7e83e99-3ee9-4ffc-b1d5-8a792537a161', 'datastore_contains_all_records_of_source_file': False, 'datastore_active': False, 'id': '6217ec04-2792-4971-97b4-27dc5b78a1eb', 'size': None, 'display_name': {'fr': 'Map (Preview)', 'de': 'Map (Preview)', 'en': 'Map (Preview)', 'it': 'Map (Preview)'}, 'title': {'fr': 'Map (Preview)', 'de': 'Map (Preview)', 'en': 'Map (Preview)', 'it': 'Map (Preview)'}, 'state': 'active', 'hash': '', 'description': {'fr': 'Géoportail thématique - map.geo.admin.ch', 'de': 'Fachportal - map.geo.admin.ch', 'en': 'Thematic geoportal - map.geo.admin.ch', 'it': 'Geoportale tematico - map.geo.admin.ch'}, 'format': 'SERVICE', 'mimetype_inner': None, 'url_type': None, 'mimetype': None, 'cache_url': None, 'name': {'fr': 'Map (Preview)', 'de': 'Map (Preview)', 'en': 'Map (Preview)', 'it': 'Map (Preview)'}, 'language': ['en', 'de', 'fr', 'it'], 'rights': 'NonCommercialAllowed-CommercialAllowed-ReferenceRequired', 'url': 'https://map.geo.admin.ch/?topic=energie&lang=de&layers=ch.bfe.windenergie-geschwindigkeit_h100', 'created': '2023-03-02T04:01:06.650886', 'modified': '2019-10-23T00:00:00', 'last_modified': None, 'position': 5, 'revision_id': '2d454cc9-c05e-4943-bbd5-16aaa2e726ee', 'resource_type': None}\n",
            "['https://map.geo.admin.ch/?topic=energie&lang=de&layers=ch.bfe.windenergie-geschwindigkeit_h100']\n"
          ]
        }
      ]
    },
    {
      "cell_type": "code",
      "source": [
        "for r in res:\n",
        "  print(r)"
      ],
      "metadata": {
        "id": "P2T7C-5ry-j4",
        "outputId": "a3d61cff-a823-4c9e-abf8-5be08f8ff2d3",
        "colab": {
          "base_uri": "https://localhost:8080/"
        }
      },
      "id": "P2T7C-5ry-j4",
      "execution_count": 64,
      "outputs": [
        {
          "output_type": "stream",
          "name": "stdout",
          "text": [
            "['download_url', 'f0904fec-5bb3-4189-bf2f-4d7bd4a560ab', 'https://data.geo.admin.ch/ch.bfe.windenergie-geschwindigkeit_h100/windenergie-geschwindigkeit_h100/windenergie-geschwindigkeit_h100_2056.fgdb.zip', '-']\n",
            "['url', 'f0904fec-5bb3-4189-bf2f-4d7bd4a560ab', 'https://data.geo.admin.ch/ch.bfe.windenergie-geschwindigkeit_h100/windenergie-geschwindigkeit_h100/windenergie-geschwindigkeit_h100_2056.fgdb.zip', '-']\n"
          ]
        }
      ]
    },
    {
      "cell_type": "code",
      "source": [
        "completeList = []\n",
        "\n",
        "for index, row in df.iloc[90:95].iterrows():\n",
        "  \n",
        "  print(index)\n",
        "  dataset_name = row['title']['de']\n",
        "    \n",
        "  att_type = 'resources'\n",
        "  val      = row[att_type]\n",
        "\n",
        "  liste = checkDictionary(val)\n",
        "    \n",
        "  if len(liste) != 0:\n",
        "    for elem in liste:\n",
        "      completeList.append([dataset_name] + [att_type] + elem)\n"
      ],
      "metadata": {
        "colab": {
          "base_uri": "https://localhost:8080/"
        },
        "id": "bRHYjF5GaiKm",
        "outputId": "6b1c9a80-ebd1-47eb-be36-10d16aab1866"
      },
      "id": "bRHYjF5GaiKm",
      "execution_count": 78,
      "outputs": [
        {
          "output_type": "stream",
          "name": "stdout",
          "text": [
            "90\n",
            "1c1afd74-493d-4c94-a35a-fd3a5bef9d15\n",
            "Dictionary:\n",
            "{'byte_size': 0, 'coverage': '', 'cache_last_updated': None, 'issued': '2017-12-12T00:00:00', 'package_id': '1c1afd74-493d-4c94-a35a-fd3a5bef9d15', 'datastore_contains_all_records_of_source_file': False, 'datastore_active': False, 'id': '435add39-0f46-4baa-b9d4-19cd330a2f18', 'size': None, 'license': '', 'display_name': {'fr': '', 'de': '', 'en': '', 'it': ''}, 'title': {'fr': '', 'de': '', 'en': '', 'it': ''}, 'download_url': '', 'state': 'active', 'media_type': '', 'hash': '', 'description': {'fr': '', 'de': '', 'en': '', 'it': ''}, 'format': 'SERVICE', 'mimetype_inner': None, 'url_type': None, 'mimetype': None, 'cache_url': None, 'name': {'fr': '', 'de': '', 'en': '', 'it': ''}, 'language': [], 'rights': 'NonCommercialAllowed-CommercialAllowed-ReferenceRequired', 'url': 'http://www.bfe.admin.ch/ogd37', 'created': '2017-12-12T16:18:37.119420', 'modified': '', 'last_modified': None, 'position': 0, 'revision_id': '9fce1239-3612-4fea-a45f-e6fc19172e57', 'identifier': '', 'resource_type': None}\n",
            "id:  435add39-0f46-4baa-b9d4-19cd330a2f18\n",
            "package_id:  1c1afd74-493d-4c94-a35a-fd3a5bef9d15\n",
            "['http://www.bfe.admin.ch/ogd37']\n",
            "91\n",
            "fb59a755-aa03-40e6-b693-b81c2b0315cb\n",
            "Dictionary:\n",
            "{'byte_size': 0, 'coverage': '', 'cache_last_updated': None, 'issued': '2017-12-12T00:00:00', 'package_id': 'fb59a755-aa03-40e6-b693-b81c2b0315cb', 'datastore_contains_all_records_of_source_file': False, 'datastore_active': False, 'id': '968a88c3-c434-4a2f-b4f3-4afd6ea4bf30', 'size': None, 'license': '', 'display_name': {'fr': '', 'de': '', 'en': '', 'it': ''}, 'title': {'fr': '', 'de': '', 'en': '', 'it': ''}, 'download_url': '', 'state': 'active', 'media_type': '', 'hash': '', 'description': {'fr': '', 'de': '', 'en': '', 'it': ''}, 'format': 'SERVICE', 'mimetype_inner': None, 'url_type': None, 'mimetype': None, 'cache_url': None, 'name': {'fr': '', 'de': '', 'en': '', 'it': ''}, 'language': [], 'rights': 'NonCommercialAllowed-CommercialAllowed-ReferenceRequired', 'url': 'http://www.bfe.admin.ch/ogd38', 'created': '2017-12-12T16:20:10.297680', 'modified': '', 'last_modified': None, 'position': 0, 'revision_id': 'e68a83f6-3fe6-4218-b51a-6fc0a39a9716', 'identifier': '', 'resource_type': None}\n",
            "id:  968a88c3-c434-4a2f-b4f3-4afd6ea4bf30\n",
            "package_id:  fb59a755-aa03-40e6-b693-b81c2b0315cb\n",
            "['http://www.bfe.admin.ch/ogd38']\n",
            "92\n",
            "cad2a885-739a-4ada-9e3c-e545fe277c4c\n",
            "Dictionary:\n",
            "{'byte_size': 0, 'coverage': '', 'cache_last_updated': None, 'issued': '2017-12-12T00:00:00', 'package_id': 'cad2a885-739a-4ada-9e3c-e545fe277c4c', 'datastore_contains_all_records_of_source_file': False, 'datastore_active': False, 'id': '1178b595-b69a-44d6-b374-a754242c1ffc', 'size': None, 'license': '', 'display_name': {'fr': '', 'de': '', 'en': '', 'it': ''}, 'title': {'fr': '', 'de': '', 'en': '', 'it': ''}, 'download_url': '', 'state': 'active', 'media_type': '', 'hash': '', 'description': {'fr': '', 'de': '', 'en': '', 'it': ''}, 'format': 'SERVICE', 'mimetype_inner': None, 'url_type': None, 'mimetype': None, 'cache_url': None, 'name': {'fr': '', 'de': '', 'en': '', 'it': ''}, 'language': [], 'rights': 'NonCommercialAllowed-CommercialAllowed-ReferenceRequired', 'url': 'http://www.bfe.admin.ch/ogd39', 'created': '2017-12-12T16:22:08.070003', 'modified': '', 'last_modified': None, 'position': 0, 'revision_id': '8be36bc5-2890-4265-9bed-ff3d7cf21179', 'identifier': '', 'resource_type': None}\n",
            "id:  1178b595-b69a-44d6-b374-a754242c1ffc\n",
            "package_id:  cad2a885-739a-4ada-9e3c-e545fe277c4c\n",
            "['http://www.bfe.admin.ch/ogd39']\n",
            "93\n",
            "2b686dde-97a2-4b72-8ae5-2ce5ba4f975f\n",
            "Dictionary:\n",
            "{'byte_size': 0, 'coverage': '', 'cache_last_updated': None, 'issued': '2017-12-12T00:00:00', 'package_id': '2b686dde-97a2-4b72-8ae5-2ce5ba4f975f', 'datastore_contains_all_records_of_source_file': False, 'datastore_active': False, 'id': 'f17a517c-0967-403a-b43b-f2aedd0407c1', 'size': None, 'license': '', 'display_name': {'fr': '', 'de': '', 'en': '', 'it': ''}, 'title': {'fr': '', 'de': '', 'en': '', 'it': ''}, 'download_url': '', 'state': 'active', 'media_type': '', 'hash': '', 'description': {'fr': '', 'de': '', 'en': '', 'it': ''}, 'format': 'SERVICE', 'mimetype_inner': None, 'url_type': None, 'mimetype': None, 'cache_url': None, 'name': {'fr': '', 'de': '', 'en': '', 'it': ''}, 'language': [], 'rights': 'NonCommercialAllowed-CommercialAllowed-ReferenceRequired', 'url': 'http://www.bfe.admin.ch/ogd42', 'created': '2017-12-12T16:24:08.861090', 'modified': '', 'last_modified': None, 'position': 0, 'revision_id': '3a8f413c-2494-40e5-81ce-573e0f02403c', 'identifier': '', 'resource_type': None}\n",
            "id:  f17a517c-0967-403a-b43b-f2aedd0407c1\n",
            "package_id:  2b686dde-97a2-4b72-8ae5-2ce5ba4f975f\n",
            "['http://www.bfe.admin.ch/ogd42']\n",
            "94\n",
            "4aa5f3bc-bdef-48bd-b4dc-b9b65b8c5434\n",
            "Dictionary:\n",
            "{'byte_size': 0, 'coverage': '', 'cache_last_updated': None, 'issued': '2017-12-12T00:00:00', 'package_id': '4aa5f3bc-bdef-48bd-b4dc-b9b65b8c5434', 'datastore_contains_all_records_of_source_file': False, 'datastore_active': False, 'id': '683aef8f-93c7-4885-bba3-a84e8f4019c5', 'size': None, 'license': '', 'display_name': {'fr': '', 'de': '', 'en': '', 'it': ''}, 'title': {'fr': '', 'de': '', 'en': '', 'it': ''}, 'download_url': '', 'state': 'active', 'media_type': '', 'hash': '', 'description': {'fr': '', 'de': '', 'en': '', 'it': ''}, 'format': 'SERVICE', 'mimetype_inner': None, 'url_type': None, 'mimetype': None, 'cache_url': None, 'name': {'fr': '', 'de': '', 'en': '', 'it': ''}, 'language': [], 'rights': 'NonCommercialAllowed-CommercialAllowed-ReferenceRequired', 'url': 'http://www.bfe.admin.ch/ogd43', 'created': '2017-12-12T16:27:10.440443', 'modified': '', 'last_modified': None, 'position': 0, 'revision_id': '2e521e11-1820-4c11-bbf2-7b2006267c2a', 'identifier': '', 'resource_type': None}\n",
            "id:  683aef8f-93c7-4885-bba3-a84e8f4019c5\n",
            "package_id:  4aa5f3bc-bdef-48bd-b4dc-b9b65b8c5434\n",
            "['http://www.bfe.admin.ch/ogd43']\n"
          ]
        }
      ]
    },
    {
      "cell_type": "code",
      "source": [
        "completeList"
      ],
      "metadata": {
        "id": "kLunQ_wzYfzT",
        "outputId": "eed102e3-5a02-4207-b0db-07235561d051",
        "colab": {
          "base_uri": "https://localhost:8080/"
        }
      },
      "id": "kLunQ_wzYfzT",
      "execution_count": 73,
      "outputs": [
        {
          "output_type": "execute_result",
          "data": {
            "text/plain": [
              "[['Schweizerische Holzenergiestatistik',\n",
              "  'resources',\n",
              "  'url',\n",
              "  '435add39-0f46-4baa-b9d4-19cd330a2f18',\n",
              "  'http://www.bfe.admin.ch/ogd37',\n",
              "  'https://www.bfe.admin.ch/ogd37'],\n",
              " ['Schweizerische Statistik der erneuerbaren Energien',\n",
              "  'resources',\n",
              "  'url',\n",
              "  '968a88c3-c434-4a2f-b4f3-4afd6ea4bf30',\n",
              "  'http://www.bfe.admin.ch/ogd38',\n",
              "  'https://www.bfe.admin.ch/ogd38'],\n",
              " ['Stand der Energiepolitik in den Kantonen',\n",
              "  'resources',\n",
              "  'url',\n",
              "  '1178b595-b69a-44d6-b374-a754242c1ffc',\n",
              "  'http://www.bfe.admin.ch/ogd39',\n",
              "  'https://www.bfe.admin.ch/ogd39'],\n",
              " ['Strom-Marktpreis gemäss Art. 3 b bis, Abs. 2 und 3, EnV',\n",
              "  'resources',\n",
              "  'url',\n",
              "  'f17a517c-0967-403a-b43b-f2aedd0407c1',\n",
              "  'http://www.bfe.admin.ch/ogd42',\n",
              "  'https://www.bfe.admin.ch/ogd42'],\n",
              " ['Strom-Marktpreis gemäss Art. 3 f, Abs. 3 EnV',\n",
              "  'resources',\n",
              "  'url',\n",
              "  '683aef8f-93c7-4885-bba3-a84e8f4019c5',\n",
              "  'http://www.bfe.admin.ch/ogd43',\n",
              "  'https://www.bfe.admin.ch/ogd43']]"
            ]
          },
          "metadata": {},
          "execution_count": 73
        }
      ]
    },
    {
      "cell_type": "code",
      "source": [
        "\n",
        "for index, row in df.iterrows():\n",
        "  string = str(row['resources'])\n",
        "\n",
        "  if 'http:' in string:\n",
        "    print(index)\n",
        "    print"
      ],
      "metadata": {
        "id": "u_u82VgpxCKj",
        "outputId": "6453769b-63b0-4498-fe18-a20e10575e84",
        "colab": {
          "base_uri": "https://localhost:8080/"
        }
      },
      "id": "u_u82VgpxCKj",
      "execution_count": 55,
      "outputs": [
        {
          "output_type": "stream",
          "name": "stdout",
          "text": [
            "20\n",
            "23\n",
            "24\n",
            "55\n",
            "56\n",
            "63\n",
            "67\n",
            "68\n",
            "69\n",
            "70\n",
            "71\n",
            "72\n",
            "73\n",
            "74\n",
            "75\n",
            "76\n",
            "77\n",
            "78\n",
            "79\n",
            "80\n",
            "81\n",
            "82\n",
            "83\n",
            "84\n",
            "85\n",
            "86\n",
            "87\n",
            "88\n",
            "89\n",
            "90\n",
            "91\n",
            "92\n",
            "93\n",
            "94\n",
            "95\n",
            "96\n",
            "97\n",
            "98\n",
            "99\n",
            "100\n"
          ]
        }
      ]
    },
    {
      "cell_type": "code",
      "source": [
        "completeList"
      ],
      "metadata": {
        "colab": {
          "base_uri": "https://localhost:8080/"
        },
        "id": "lFC865iIaiSD",
        "outputId": "8d54eadc-0845-4674-c706-83ee0652f14f"
      },
      "id": "lFC865iIaiSD",
      "execution_count": null,
      "outputs": [
        {
          "output_type": "execute_result",
          "data": {
            "text/plain": [
              "[]"
            ]
          },
          "metadata": {},
          "execution_count": 46
        }
      ]
    },
    {
      "cell_type": "code",
      "source": [],
      "metadata": {
        "id": "t0ozCvtAaiUl"
      },
      "id": "t0ozCvtAaiUl",
      "execution_count": null,
      "outputs": []
    },
    {
      "cell_type": "code",
      "source": [],
      "metadata": {
        "id": "CGAN28HCaiXk"
      },
      "id": "CGAN28HCaiXk",
      "execution_count": null,
      "outputs": []
    },
    {
      "cell_type": "code",
      "source": [],
      "metadata": {
        "id": "J-o8Hx1caiaO"
      },
      "id": "J-o8Hx1caiaO",
      "execution_count": null,
      "outputs": []
    },
    {
      "cell_type": "code",
      "execution_count": null,
      "id": "9b217f36",
      "metadata": {
        "colab": {
          "base_uri": "https://localhost:8080/",
          "height": 312
        },
        "id": "9b217f36",
        "outputId": "faf08b21-ffa7-4400-db8e-4fc991d9057c"
      },
      "outputs": [
        {
          "output_type": "error",
          "ename": "KeyboardInterrupt",
          "evalue": "ignored",
          "traceback": [
            "\u001b[0;31m---------------------------------------------------------------------------\u001b[0m",
            "\u001b[0;31mKeyboardInterrupt\u001b[0m                         Traceback (most recent call last)",
            "\u001b[0;32m<ipython-input-73-334b2853d057>\u001b[0m in \u001b[0;36m<cell line: 1>\u001b[0;34m()\u001b[0m\n\u001b[0;32m----> 1\u001b[0;31m \u001b[0mcheck_url\u001b[0m\u001b[0;34m(\u001b[0m\u001b[0;34m'https://data.geo.admin.ch/ch.bfe.solarenergie-eignung-daecher/solarenergie-eignung-daecher/solarenergie-eignung-daecher_2056_monthlydata.gpkg.zip'\u001b[0m\u001b[0;34m)\u001b[0m\u001b[0;34m\u001b[0m\u001b[0;34m\u001b[0m\u001b[0m\n\u001b[0m",
            "\u001b[0;32m<ipython-input-71-04a1120667a2>\u001b[0m in \u001b[0;36mcheck_url\u001b[0;34m(url)\u001b[0m\n\u001b[1;32m      8\u001b[0m             \u001b[0;32mreturn\u001b[0m \u001b[0;32mTrue\u001b[0m\u001b[0;34m\u001b[0m\u001b[0;34m\u001b[0m\u001b[0m\n\u001b[1;32m      9\u001b[0m \u001b[0;34m\u001b[0m\u001b[0m\n\u001b[0;32m---> 10\u001b[0;31m         \u001b[0mget\u001b[0m \u001b[0;34m=\u001b[0m \u001b[0mrequests\u001b[0m\u001b[0;34m.\u001b[0m\u001b[0mget\u001b[0m\u001b[0;34m(\u001b[0m\u001b[0murl\u001b[0m\u001b[0;34m,\u001b[0m \u001b[0mtimeout\u001b[0m\u001b[0;34m=\u001b[0m\u001b[0;36m1\u001b[0m\u001b[0;34m)\u001b[0m\u001b[0;34m\u001b[0m\u001b[0;34m\u001b[0m\u001b[0m\n\u001b[0m\u001b[1;32m     11\u001b[0m \u001b[0;34m\u001b[0m\u001b[0m\n\u001b[1;32m     12\u001b[0m         \u001b[0;32mif\u001b[0m \u001b[0mget\u001b[0m\u001b[0;34m.\u001b[0m\u001b[0mstatus_code\u001b[0m \u001b[0;34m<\u001b[0m \u001b[0;36m400\u001b[0m\u001b[0;34m:\u001b[0m\u001b[0;34m\u001b[0m\u001b[0;34m\u001b[0m\u001b[0m\n",
            "\u001b[0;32m/usr/local/lib/python3.9/dist-packages/requests/api.py\u001b[0m in \u001b[0;36mget\u001b[0;34m(url, params, **kwargs)\u001b[0m\n\u001b[1;32m     73\u001b[0m     \"\"\"\n\u001b[1;32m     74\u001b[0m \u001b[0;34m\u001b[0m\u001b[0m\n\u001b[0;32m---> 75\u001b[0;31m     \u001b[0;32mreturn\u001b[0m \u001b[0mrequest\u001b[0m\u001b[0;34m(\u001b[0m\u001b[0;34m'get'\u001b[0m\u001b[0;34m,\u001b[0m \u001b[0murl\u001b[0m\u001b[0;34m,\u001b[0m \u001b[0mparams\u001b[0m\u001b[0;34m=\u001b[0m\u001b[0mparams\u001b[0m\u001b[0;34m,\u001b[0m \u001b[0;34m**\u001b[0m\u001b[0mkwargs\u001b[0m\u001b[0;34m)\u001b[0m\u001b[0;34m\u001b[0m\u001b[0;34m\u001b[0m\u001b[0m\n\u001b[0m\u001b[1;32m     76\u001b[0m \u001b[0;34m\u001b[0m\u001b[0m\n\u001b[1;32m     77\u001b[0m \u001b[0;34m\u001b[0m\u001b[0m\n",
            "\u001b[0;32m/usr/local/lib/python3.9/dist-packages/requests/api.py\u001b[0m in \u001b[0;36mrequest\u001b[0;34m(method, url, **kwargs)\u001b[0m\n\u001b[1;32m     59\u001b[0m     \u001b[0;31m# cases, and look like a memory leak in others.\u001b[0m\u001b[0;34m\u001b[0m\u001b[0;34m\u001b[0m\u001b[0m\n\u001b[1;32m     60\u001b[0m     \u001b[0;32mwith\u001b[0m \u001b[0msessions\u001b[0m\u001b[0;34m.\u001b[0m\u001b[0mSession\u001b[0m\u001b[0;34m(\u001b[0m\u001b[0;34m)\u001b[0m \u001b[0;32mas\u001b[0m \u001b[0msession\u001b[0m\u001b[0;34m:\u001b[0m\u001b[0;34m\u001b[0m\u001b[0;34m\u001b[0m\u001b[0m\n\u001b[0;32m---> 61\u001b[0;31m         \u001b[0;32mreturn\u001b[0m \u001b[0msession\u001b[0m\u001b[0;34m.\u001b[0m\u001b[0mrequest\u001b[0m\u001b[0;34m(\u001b[0m\u001b[0mmethod\u001b[0m\u001b[0;34m=\u001b[0m\u001b[0mmethod\u001b[0m\u001b[0;34m,\u001b[0m \u001b[0murl\u001b[0m\u001b[0;34m=\u001b[0m\u001b[0murl\u001b[0m\u001b[0;34m,\u001b[0m \u001b[0;34m**\u001b[0m\u001b[0mkwargs\u001b[0m\u001b[0;34m)\u001b[0m\u001b[0;34m\u001b[0m\u001b[0;34m\u001b[0m\u001b[0m\n\u001b[0m\u001b[1;32m     62\u001b[0m \u001b[0;34m\u001b[0m\u001b[0m\n\u001b[1;32m     63\u001b[0m \u001b[0;34m\u001b[0m\u001b[0m\n",
            "\u001b[0;32m/usr/local/lib/python3.9/dist-packages/requests/sessions.py\u001b[0m in \u001b[0;36mrequest\u001b[0;34m(self, method, url, params, data, headers, cookies, files, auth, timeout, allow_redirects, proxies, hooks, stream, verify, cert, json)\u001b[0m\n\u001b[1;32m    527\u001b[0m         }\n\u001b[1;32m    528\u001b[0m         \u001b[0msend_kwargs\u001b[0m\u001b[0;34m.\u001b[0m\u001b[0mupdate\u001b[0m\u001b[0;34m(\u001b[0m\u001b[0msettings\u001b[0m\u001b[0;34m)\u001b[0m\u001b[0;34m\u001b[0m\u001b[0;34m\u001b[0m\u001b[0m\n\u001b[0;32m--> 529\u001b[0;31m         \u001b[0mresp\u001b[0m \u001b[0;34m=\u001b[0m \u001b[0mself\u001b[0m\u001b[0;34m.\u001b[0m\u001b[0msend\u001b[0m\u001b[0;34m(\u001b[0m\u001b[0mprep\u001b[0m\u001b[0;34m,\u001b[0m \u001b[0;34m**\u001b[0m\u001b[0msend_kwargs\u001b[0m\u001b[0;34m)\u001b[0m\u001b[0;34m\u001b[0m\u001b[0;34m\u001b[0m\u001b[0m\n\u001b[0m\u001b[1;32m    530\u001b[0m \u001b[0;34m\u001b[0m\u001b[0m\n\u001b[1;32m    531\u001b[0m         \u001b[0;32mreturn\u001b[0m \u001b[0mresp\u001b[0m\u001b[0;34m\u001b[0m\u001b[0;34m\u001b[0m\u001b[0m\n",
            "\u001b[0;32m/usr/local/lib/python3.9/dist-packages/requests/sessions.py\u001b[0m in \u001b[0;36msend\u001b[0;34m(self, request, **kwargs)\u001b[0m\n\u001b[1;32m    685\u001b[0m \u001b[0;34m\u001b[0m\u001b[0m\n\u001b[1;32m    686\u001b[0m         \u001b[0;32mif\u001b[0m \u001b[0;32mnot\u001b[0m \u001b[0mstream\u001b[0m\u001b[0;34m:\u001b[0m\u001b[0;34m\u001b[0m\u001b[0;34m\u001b[0m\u001b[0m\n\u001b[0;32m--> 687\u001b[0;31m             \u001b[0mr\u001b[0m\u001b[0;34m.\u001b[0m\u001b[0mcontent\u001b[0m\u001b[0;34m\u001b[0m\u001b[0;34m\u001b[0m\u001b[0m\n\u001b[0m\u001b[1;32m    688\u001b[0m \u001b[0;34m\u001b[0m\u001b[0m\n\u001b[1;32m    689\u001b[0m         \u001b[0;32mreturn\u001b[0m \u001b[0mr\u001b[0m\u001b[0;34m\u001b[0m\u001b[0;34m\u001b[0m\u001b[0m\n",
            "\u001b[0;32m/usr/local/lib/python3.9/dist-packages/requests/models.py\u001b[0m in \u001b[0;36mcontent\u001b[0;34m(self)\u001b[0m\n\u001b[1;32m    836\u001b[0m                 \u001b[0mself\u001b[0m\u001b[0;34m.\u001b[0m\u001b[0m_content\u001b[0m \u001b[0;34m=\u001b[0m \u001b[0;32mNone\u001b[0m\u001b[0;34m\u001b[0m\u001b[0;34m\u001b[0m\u001b[0m\n\u001b[1;32m    837\u001b[0m             \u001b[0;32melse\u001b[0m\u001b[0;34m:\u001b[0m\u001b[0;34m\u001b[0m\u001b[0;34m\u001b[0m\u001b[0m\n\u001b[0;32m--> 838\u001b[0;31m                 \u001b[0mself\u001b[0m\u001b[0;34m.\u001b[0m\u001b[0m_content\u001b[0m \u001b[0;34m=\u001b[0m \u001b[0;34mb''\u001b[0m\u001b[0;34m.\u001b[0m\u001b[0mjoin\u001b[0m\u001b[0;34m(\u001b[0m\u001b[0mself\u001b[0m\u001b[0;34m.\u001b[0m\u001b[0miter_content\u001b[0m\u001b[0;34m(\u001b[0m\u001b[0mCONTENT_CHUNK_SIZE\u001b[0m\u001b[0;34m)\u001b[0m\u001b[0;34m)\u001b[0m \u001b[0;32mor\u001b[0m \u001b[0;34mb''\u001b[0m\u001b[0;34m\u001b[0m\u001b[0;34m\u001b[0m\u001b[0m\n\u001b[0m\u001b[1;32m    839\u001b[0m \u001b[0;34m\u001b[0m\u001b[0m\n\u001b[1;32m    840\u001b[0m         \u001b[0mself\u001b[0m\u001b[0;34m.\u001b[0m\u001b[0m_content_consumed\u001b[0m \u001b[0;34m=\u001b[0m \u001b[0;32mTrue\u001b[0m\u001b[0;34m\u001b[0m\u001b[0;34m\u001b[0m\u001b[0m\n",
            "\u001b[0;32m/usr/local/lib/python3.9/dist-packages/requests/models.py\u001b[0m in \u001b[0;36mgenerate\u001b[0;34m()\u001b[0m\n\u001b[1;32m    758\u001b[0m             \u001b[0;32mif\u001b[0m \u001b[0mhasattr\u001b[0m\u001b[0;34m(\u001b[0m\u001b[0mself\u001b[0m\u001b[0;34m.\u001b[0m\u001b[0mraw\u001b[0m\u001b[0;34m,\u001b[0m \u001b[0;34m'stream'\u001b[0m\u001b[0;34m)\u001b[0m\u001b[0;34m:\u001b[0m\u001b[0;34m\u001b[0m\u001b[0;34m\u001b[0m\u001b[0m\n\u001b[1;32m    759\u001b[0m                 \u001b[0;32mtry\u001b[0m\u001b[0;34m:\u001b[0m\u001b[0;34m\u001b[0m\u001b[0;34m\u001b[0m\u001b[0m\n\u001b[0;32m--> 760\u001b[0;31m                     \u001b[0;32mfor\u001b[0m \u001b[0mchunk\u001b[0m \u001b[0;32min\u001b[0m \u001b[0mself\u001b[0m\u001b[0;34m.\u001b[0m\u001b[0mraw\u001b[0m\u001b[0;34m.\u001b[0m\u001b[0mstream\u001b[0m\u001b[0;34m(\u001b[0m\u001b[0mchunk_size\u001b[0m\u001b[0;34m,\u001b[0m \u001b[0mdecode_content\u001b[0m\u001b[0;34m=\u001b[0m\u001b[0;32mTrue\u001b[0m\u001b[0;34m)\u001b[0m\u001b[0;34m:\u001b[0m\u001b[0;34m\u001b[0m\u001b[0;34m\u001b[0m\u001b[0m\n\u001b[0m\u001b[1;32m    761\u001b[0m                         \u001b[0;32myield\u001b[0m \u001b[0mchunk\u001b[0m\u001b[0;34m\u001b[0m\u001b[0;34m\u001b[0m\u001b[0m\n\u001b[1;32m    762\u001b[0m                 \u001b[0;32mexcept\u001b[0m \u001b[0mProtocolError\u001b[0m \u001b[0;32mas\u001b[0m \u001b[0me\u001b[0m\u001b[0;34m:\u001b[0m\u001b[0;34m\u001b[0m\u001b[0;34m\u001b[0m\u001b[0m\n",
            "\u001b[0;32m/usr/local/lib/python3.9/dist-packages/urllib3/response.py\u001b[0m in \u001b[0;36mstream\u001b[0;34m(self, amt, decode_content)\u001b[0m\n\u001b[1;32m    626\u001b[0m         \u001b[0;32melse\u001b[0m\u001b[0;34m:\u001b[0m\u001b[0;34m\u001b[0m\u001b[0;34m\u001b[0m\u001b[0m\n\u001b[1;32m    627\u001b[0m             \u001b[0;32mwhile\u001b[0m \u001b[0;32mnot\u001b[0m \u001b[0mis_fp_closed\u001b[0m\u001b[0;34m(\u001b[0m\u001b[0mself\u001b[0m\u001b[0;34m.\u001b[0m\u001b[0m_fp\u001b[0m\u001b[0;34m)\u001b[0m\u001b[0;34m:\u001b[0m\u001b[0;34m\u001b[0m\u001b[0;34m\u001b[0m\u001b[0m\n\u001b[0;32m--> 628\u001b[0;31m                 \u001b[0mdata\u001b[0m \u001b[0;34m=\u001b[0m \u001b[0mself\u001b[0m\u001b[0;34m.\u001b[0m\u001b[0mread\u001b[0m\u001b[0;34m(\u001b[0m\u001b[0mamt\u001b[0m\u001b[0;34m=\u001b[0m\u001b[0mamt\u001b[0m\u001b[0;34m,\u001b[0m \u001b[0mdecode_content\u001b[0m\u001b[0;34m=\u001b[0m\u001b[0mdecode_content\u001b[0m\u001b[0;34m)\u001b[0m\u001b[0;34m\u001b[0m\u001b[0;34m\u001b[0m\u001b[0m\n\u001b[0m\u001b[1;32m    629\u001b[0m \u001b[0;34m\u001b[0m\u001b[0m\n\u001b[1;32m    630\u001b[0m                 \u001b[0;32mif\u001b[0m \u001b[0mdata\u001b[0m\u001b[0;34m:\u001b[0m\u001b[0;34m\u001b[0m\u001b[0;34m\u001b[0m\u001b[0m\n",
            "\u001b[0;32m/usr/local/lib/python3.9/dist-packages/urllib3/response.py\u001b[0m in \u001b[0;36mread\u001b[0;34m(self, amt, decode_content, cache_content)\u001b[0m\n\u001b[1;32m    565\u001b[0m \u001b[0;34m\u001b[0m\u001b[0m\n\u001b[1;32m    566\u001b[0m         \u001b[0;32mwith\u001b[0m \u001b[0mself\u001b[0m\u001b[0;34m.\u001b[0m\u001b[0m_error_catcher\u001b[0m\u001b[0;34m(\u001b[0m\u001b[0;34m)\u001b[0m\u001b[0;34m:\u001b[0m\u001b[0;34m\u001b[0m\u001b[0;34m\u001b[0m\u001b[0m\n\u001b[0;32m--> 567\u001b[0;31m             \u001b[0mdata\u001b[0m \u001b[0;34m=\u001b[0m \u001b[0mself\u001b[0m\u001b[0;34m.\u001b[0m\u001b[0m_fp_read\u001b[0m\u001b[0;34m(\u001b[0m\u001b[0mamt\u001b[0m\u001b[0;34m)\u001b[0m \u001b[0;32mif\u001b[0m \u001b[0;32mnot\u001b[0m \u001b[0mfp_closed\u001b[0m \u001b[0;32melse\u001b[0m \u001b[0;34mb\"\"\u001b[0m\u001b[0;34m\u001b[0m\u001b[0;34m\u001b[0m\u001b[0m\n\u001b[0m\u001b[1;32m    568\u001b[0m             \u001b[0;32mif\u001b[0m \u001b[0mamt\u001b[0m \u001b[0;32mis\u001b[0m \u001b[0;32mNone\u001b[0m\u001b[0;34m:\u001b[0m\u001b[0;34m\u001b[0m\u001b[0;34m\u001b[0m\u001b[0m\n\u001b[1;32m    569\u001b[0m                 \u001b[0mflush_decoder\u001b[0m \u001b[0;34m=\u001b[0m \u001b[0;32mTrue\u001b[0m\u001b[0;34m\u001b[0m\u001b[0;34m\u001b[0m\u001b[0m\n",
            "\u001b[0;32m/usr/local/lib/python3.9/dist-packages/urllib3/response.py\u001b[0m in \u001b[0;36m_fp_read\u001b[0;34m(self, amt)\u001b[0m\n\u001b[1;32m    523\u001b[0m                 \u001b[0;32melse\u001b[0m\u001b[0;34m:\u001b[0m\u001b[0;34m\u001b[0m\u001b[0;34m\u001b[0m\u001b[0m\n\u001b[1;32m    524\u001b[0m                     \u001b[0mchunk_amt\u001b[0m \u001b[0;34m=\u001b[0m \u001b[0mmax_chunk_amt\u001b[0m\u001b[0;34m\u001b[0m\u001b[0;34m\u001b[0m\u001b[0m\n\u001b[0;32m--> 525\u001b[0;31m                 \u001b[0mdata\u001b[0m \u001b[0;34m=\u001b[0m \u001b[0mself\u001b[0m\u001b[0;34m.\u001b[0m\u001b[0m_fp\u001b[0m\u001b[0;34m.\u001b[0m\u001b[0mread\u001b[0m\u001b[0;34m(\u001b[0m\u001b[0mchunk_amt\u001b[0m\u001b[0;34m)\u001b[0m\u001b[0;34m\u001b[0m\u001b[0;34m\u001b[0m\u001b[0m\n\u001b[0m\u001b[1;32m    526\u001b[0m                 \u001b[0;32mif\u001b[0m \u001b[0;32mnot\u001b[0m \u001b[0mdata\u001b[0m\u001b[0;34m:\u001b[0m\u001b[0;34m\u001b[0m\u001b[0;34m\u001b[0m\u001b[0m\n\u001b[1;32m    527\u001b[0m                     \u001b[0;32mbreak\u001b[0m\u001b[0;34m\u001b[0m\u001b[0;34m\u001b[0m\u001b[0m\n",
            "\u001b[0;32m/usr/lib/python3.9/http/client.py\u001b[0m in \u001b[0;36mread\u001b[0;34m(self, amt)\u001b[0m\n\u001b[1;32m    461\u001b[0m             \u001b[0;31m# Amount is given, implement using readinto\u001b[0m\u001b[0;34m\u001b[0m\u001b[0;34m\u001b[0m\u001b[0m\n\u001b[1;32m    462\u001b[0m             \u001b[0mb\u001b[0m \u001b[0;34m=\u001b[0m \u001b[0mbytearray\u001b[0m\u001b[0;34m(\u001b[0m\u001b[0mamt\u001b[0m\u001b[0;34m)\u001b[0m\u001b[0;34m\u001b[0m\u001b[0;34m\u001b[0m\u001b[0m\n\u001b[0;32m--> 463\u001b[0;31m             \u001b[0mn\u001b[0m \u001b[0;34m=\u001b[0m \u001b[0mself\u001b[0m\u001b[0;34m.\u001b[0m\u001b[0mreadinto\u001b[0m\u001b[0;34m(\u001b[0m\u001b[0mb\u001b[0m\u001b[0;34m)\u001b[0m\u001b[0;34m\u001b[0m\u001b[0;34m\u001b[0m\u001b[0m\n\u001b[0m\u001b[1;32m    464\u001b[0m             \u001b[0;32mreturn\u001b[0m \u001b[0mmemoryview\u001b[0m\u001b[0;34m(\u001b[0m\u001b[0mb\u001b[0m\u001b[0;34m)\u001b[0m\u001b[0;34m[\u001b[0m\u001b[0;34m:\u001b[0m\u001b[0mn\u001b[0m\u001b[0;34m]\u001b[0m\u001b[0;34m.\u001b[0m\u001b[0mtobytes\u001b[0m\u001b[0;34m(\u001b[0m\u001b[0;34m)\u001b[0m\u001b[0;34m\u001b[0m\u001b[0;34m\u001b[0m\u001b[0m\n\u001b[1;32m    465\u001b[0m         \u001b[0;32melse\u001b[0m\u001b[0;34m:\u001b[0m\u001b[0;34m\u001b[0m\u001b[0;34m\u001b[0m\u001b[0m\n",
            "\u001b[0;32m/usr/lib/python3.9/http/client.py\u001b[0m in \u001b[0;36mreadinto\u001b[0;34m(self, b)\u001b[0m\n\u001b[1;32m    505\u001b[0m         \u001b[0;31m# connection, and the user is reading more bytes than will be provided\u001b[0m\u001b[0;34m\u001b[0m\u001b[0;34m\u001b[0m\u001b[0m\n\u001b[1;32m    506\u001b[0m         \u001b[0;31m# (for example, reading in 1k chunks)\u001b[0m\u001b[0;34m\u001b[0m\u001b[0;34m\u001b[0m\u001b[0m\n\u001b[0;32m--> 507\u001b[0;31m         \u001b[0mn\u001b[0m \u001b[0;34m=\u001b[0m \u001b[0mself\u001b[0m\u001b[0;34m.\u001b[0m\u001b[0mfp\u001b[0m\u001b[0;34m.\u001b[0m\u001b[0mreadinto\u001b[0m\u001b[0;34m(\u001b[0m\u001b[0mb\u001b[0m\u001b[0;34m)\u001b[0m\u001b[0;34m\u001b[0m\u001b[0;34m\u001b[0m\u001b[0m\n\u001b[0m\u001b[1;32m    508\u001b[0m         \u001b[0;32mif\u001b[0m \u001b[0;32mnot\u001b[0m \u001b[0mn\u001b[0m \u001b[0;32mand\u001b[0m \u001b[0mb\u001b[0m\u001b[0;34m:\u001b[0m\u001b[0;34m\u001b[0m\u001b[0;34m\u001b[0m\u001b[0m\n\u001b[1;32m    509\u001b[0m             \u001b[0;31m# Ideally, we would raise IncompleteRead if the content-length\u001b[0m\u001b[0;34m\u001b[0m\u001b[0;34m\u001b[0m\u001b[0m\n",
            "\u001b[0;32m/usr/lib/python3.9/socket.py\u001b[0m in \u001b[0;36mreadinto\u001b[0;34m(self, b)\u001b[0m\n\u001b[1;32m    702\u001b[0m         \u001b[0;32mwhile\u001b[0m \u001b[0;32mTrue\u001b[0m\u001b[0;34m:\u001b[0m\u001b[0;34m\u001b[0m\u001b[0;34m\u001b[0m\u001b[0m\n\u001b[1;32m    703\u001b[0m             \u001b[0;32mtry\u001b[0m\u001b[0;34m:\u001b[0m\u001b[0;34m\u001b[0m\u001b[0;34m\u001b[0m\u001b[0m\n\u001b[0;32m--> 704\u001b[0;31m                 \u001b[0;32mreturn\u001b[0m \u001b[0mself\u001b[0m\u001b[0;34m.\u001b[0m\u001b[0m_sock\u001b[0m\u001b[0;34m.\u001b[0m\u001b[0mrecv_into\u001b[0m\u001b[0;34m(\u001b[0m\u001b[0mb\u001b[0m\u001b[0;34m)\u001b[0m\u001b[0;34m\u001b[0m\u001b[0;34m\u001b[0m\u001b[0m\n\u001b[0m\u001b[1;32m    705\u001b[0m             \u001b[0;32mexcept\u001b[0m \u001b[0mtimeout\u001b[0m\u001b[0;34m:\u001b[0m\u001b[0;34m\u001b[0m\u001b[0;34m\u001b[0m\u001b[0m\n\u001b[1;32m    706\u001b[0m                 \u001b[0mself\u001b[0m\u001b[0;34m.\u001b[0m\u001b[0m_timeout_occurred\u001b[0m \u001b[0;34m=\u001b[0m \u001b[0;32mTrue\u001b[0m\u001b[0;34m\u001b[0m\u001b[0;34m\u001b[0m\u001b[0m\n",
            "\u001b[0;32m/usr/lib/python3.9/ssl.py\u001b[0m in \u001b[0;36mrecv_into\u001b[0;34m(self, buffer, nbytes, flags)\u001b[0m\n\u001b[1;32m   1240\u001b[0m                   \u001b[0;34m\"non-zero flags not allowed in calls to recv_into() on %s\"\u001b[0m \u001b[0;34m%\u001b[0m\u001b[0;34m\u001b[0m\u001b[0;34m\u001b[0m\u001b[0m\n\u001b[1;32m   1241\u001b[0m                   self.__class__)\n\u001b[0;32m-> 1242\u001b[0;31m             \u001b[0;32mreturn\u001b[0m \u001b[0mself\u001b[0m\u001b[0;34m.\u001b[0m\u001b[0mread\u001b[0m\u001b[0;34m(\u001b[0m\u001b[0mnbytes\u001b[0m\u001b[0;34m,\u001b[0m \u001b[0mbuffer\u001b[0m\u001b[0;34m)\u001b[0m\u001b[0;34m\u001b[0m\u001b[0;34m\u001b[0m\u001b[0m\n\u001b[0m\u001b[1;32m   1243\u001b[0m         \u001b[0;32melse\u001b[0m\u001b[0;34m:\u001b[0m\u001b[0;34m\u001b[0m\u001b[0;34m\u001b[0m\u001b[0m\n\u001b[1;32m   1244\u001b[0m             \u001b[0;32mreturn\u001b[0m \u001b[0msuper\u001b[0m\u001b[0;34m(\u001b[0m\u001b[0;34m)\u001b[0m\u001b[0;34m.\u001b[0m\u001b[0mrecv_into\u001b[0m\u001b[0;34m(\u001b[0m\u001b[0mbuffer\u001b[0m\u001b[0;34m,\u001b[0m \u001b[0mnbytes\u001b[0m\u001b[0;34m,\u001b[0m \u001b[0mflags\u001b[0m\u001b[0;34m)\u001b[0m\u001b[0;34m\u001b[0m\u001b[0;34m\u001b[0m\u001b[0m\n",
            "\u001b[0;32m/usr/lib/python3.9/ssl.py\u001b[0m in \u001b[0;36mread\u001b[0;34m(self, len, buffer)\u001b[0m\n\u001b[1;32m   1098\u001b[0m         \u001b[0;32mtry\u001b[0m\u001b[0;34m:\u001b[0m\u001b[0;34m\u001b[0m\u001b[0;34m\u001b[0m\u001b[0m\n\u001b[1;32m   1099\u001b[0m             \u001b[0;32mif\u001b[0m \u001b[0mbuffer\u001b[0m \u001b[0;32mis\u001b[0m \u001b[0;32mnot\u001b[0m \u001b[0;32mNone\u001b[0m\u001b[0;34m:\u001b[0m\u001b[0;34m\u001b[0m\u001b[0;34m\u001b[0m\u001b[0m\n\u001b[0;32m-> 1100\u001b[0;31m                 \u001b[0;32mreturn\u001b[0m \u001b[0mself\u001b[0m\u001b[0;34m.\u001b[0m\u001b[0m_sslobj\u001b[0m\u001b[0;34m.\u001b[0m\u001b[0mread\u001b[0m\u001b[0;34m(\u001b[0m\u001b[0mlen\u001b[0m\u001b[0;34m,\u001b[0m \u001b[0mbuffer\u001b[0m\u001b[0;34m)\u001b[0m\u001b[0;34m\u001b[0m\u001b[0;34m\u001b[0m\u001b[0m\n\u001b[0m\u001b[1;32m   1101\u001b[0m             \u001b[0;32melse\u001b[0m\u001b[0;34m:\u001b[0m\u001b[0;34m\u001b[0m\u001b[0;34m\u001b[0m\u001b[0m\n\u001b[1;32m   1102\u001b[0m                 \u001b[0;32mreturn\u001b[0m \u001b[0mself\u001b[0m\u001b[0;34m.\u001b[0m\u001b[0m_sslobj\u001b[0m\u001b[0;34m.\u001b[0m\u001b[0mread\u001b[0m\u001b[0;34m(\u001b[0m\u001b[0mlen\u001b[0m\u001b[0;34m)\u001b[0m\u001b[0;34m\u001b[0m\u001b[0;34m\u001b[0m\u001b[0m\n",
            "\u001b[0;31mKeyboardInterrupt\u001b[0m: "
          ]
        }
      ],
      "source": [
        "check_url('https://data.geo.admin.ch/ch.bfe.solarenergie-eignung-daecher/solarenergie-eignung-daecher/solarenergie-eignung-daecher_2056_monthlydata.gpkg.zip')"
      ]
    },
    {
      "cell_type": "code",
      "execution_count": null,
      "id": "01af42a1",
      "metadata": {
        "id": "01af42a1",
        "outputId": "afba4f9a-014c-46cb-d358-74c8e7b1a4a8"
      },
      "outputs": [
        {
          "data": {
            "text/plain": [
              "<Response [200]>"
            ]
          },
          "execution_count": 40,
          "metadata": {},
          "output_type": "execute_result"
        }
      ],
      "source": [
        "requests.get('https://www.bfe.admin.ch/waerme-und-kaelteangebot')"
      ]
    },
    {
      "cell_type": "code",
      "execution_count": null,
      "id": "9539a0dd",
      "metadata": {
        "id": "9539a0dd"
      },
      "outputs": [],
      "source": []
    }
  ],
  "metadata": {
    "kernelspec": {
      "display_name": "Python 3 (ipykernel)",
      "language": "python",
      "name": "python3"
    },
    "language_info": {
      "codemirror_mode": {
        "name": "ipython",
        "version": 3
      },
      "file_extension": ".py",
      "mimetype": "text/x-python",
      "name": "python",
      "nbconvert_exporter": "python",
      "pygments_lexer": "ipython3",
      "version": "3.8.10"
    },
    "colab": {
      "provenance": []
    }
  },
  "nbformat": 4,
  "nbformat_minor": 5
}