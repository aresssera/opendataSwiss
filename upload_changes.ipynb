{
 "cells": [
  {
   "cell_type": "markdown",
   "metadata": {},
   "source": [
    "Get all datasets and the according attribute values which contain (at least) one link without _https_ which also works with the replaced protocol."
   ]
  },
  {
   "cell_type": "code",
   "execution_count": null,
   "metadata": {},
   "outputs": [],
   "source": [
    "! pip install urlextract"
   ]
  },
  {
   "cell_type": "code",
   "execution_count": 1,
   "metadata": {},
   "outputs": [],
   "source": [
    "import requests     # 2.18.4\n",
    "import json         # 2.0.9\n",
    "import pandas as pd # 0.23.0\n",
    "import numpy as np\n",
    "import ast"
   ]
  },
  {
   "cell_type": "code",
   "execution_count": 3,
   "metadata": {},
   "outputs": [
    {
     "data": {
      "text/plain": [
       "<Response [403]>"
      ]
     },
     "execution_count": 3,
     "metadata": {},
     "output_type": "execute_result"
    }
   ],
   "source": [
    "response = requests.get('https://portal.collab.admin.ch/sites/805-EA/RP%20GI/BFE-D-0103_old.xlsx')\n",
    "response"
   ]
  },
  {
   "cell_type": "code",
   "execution_count": 4,
   "metadata": {},
   "outputs": [
    {
     "data": {
      "text/html": [
       "<div>\n",
       "<style scoped>\n",
       "    .dataframe tbody tr th:only-of-type {\n",
       "        vertical-align: middle;\n",
       "    }\n",
       "\n",
       "    .dataframe tbody tr th {\n",
       "        vertical-align: top;\n",
       "    }\n",
       "\n",
       "    .dataframe thead th {\n",
       "        text-align: right;\n",
       "    }\n",
       "</style>\n",
       "<table border=\"1\" class=\"dataframe\">\n",
       "  <thead>\n",
       "    <tr style=\"text-align: right;\">\n",
       "      <th></th>\n",
       "      <th>Stromtyp</th>\n",
       "      <th>Spannung</th>\n",
       "      <th>Leitung</th>\n",
       "      <th>Laenge</th>\n",
       "      <th>Datum</th>\n",
       "    </tr>\n",
       "  </thead>\n",
       "  <tbody>\n",
       "    <tr>\n",
       "      <th>0</th>\n",
       "      <td>Allgemeinstrom</td>\n",
       "      <td>S110kV</td>\n",
       "      <td>Freileitung</td>\n",
       "      <td>232323</td>\n",
       "      <td>12.12.2020</td>\n",
       "    </tr>\n",
       "    <tr>\n",
       "      <th>1</th>\n",
       "      <td>Allgemeinstrom</td>\n",
       "      <td>S110kV</td>\n",
       "      <td>Kabelleitung</td>\n",
       "      <td>100</td>\n",
       "      <td>12.12.2020</td>\n",
       "    </tr>\n",
       "    <tr>\n",
       "      <th>2</th>\n",
       "      <td>Allgemeinstrom</td>\n",
       "      <td>S20kV</td>\n",
       "      <td>Freileitung</td>\n",
       "      <td>5</td>\n",
       "      <td>12.12.2020</td>\n",
       "    </tr>\n",
       "    <tr>\n",
       "      <th>3</th>\n",
       "      <td>Allgemeinstrom</td>\n",
       "      <td>S20kV</td>\n",
       "      <td>Kabelleitung</td>\n",
       "      <td>7</td>\n",
       "      <td>12.12.2020</td>\n",
       "    </tr>\n",
       "  </tbody>\n",
       "</table>\n",
       "</div>"
      ],
      "text/plain": [
       "         Stromtyp Spannung       Leitung  Laenge       Datum\n",
       "0  Allgemeinstrom   S110kV   Freileitung  232323  12.12.2020\n",
       "1  Allgemeinstrom   S110kV  Kabelleitung     100  12.12.2020\n",
       "2  Allgemeinstrom    S20kV   Freileitung       5  12.12.2020\n",
       "3  Allgemeinstrom    S20kV  Kabelleitung       7  12.12.2020"
      ]
     },
     "execution_count": 4,
     "metadata": {},
     "output_type": "execute_result"
    }
   ],
   "source": [
    "a = [['Allgemeinstrom', 'S110kV', 'Freileitung', 232323, '12.12.2020'],\n",
    "     ['Allgemeinstrom', 'S110kV', 'Kabelleitung', 100, '12.12.2020'],\n",
    "     ['Allgemeinstrom', 'S20kV', 'Freileitung', 5, '12.12.2020'],\n",
    "     ['Allgemeinstrom', 'S20kV', 'Kabelleitung', 7, '12.12.2020']]\n",
    "\n",
    "dfLeistungKPI = pd.DataFrame(a, columns=['Stromtyp', 'Spannung', 'Leitung', 'Laenge', 'Datum'])\n",
    "dfLeistungKPI"
   ]
  },
  {
   "cell_type": "code",
   "execution_count": 24,
   "metadata": {},
   "outputs": [],
   "source": [
    "colNames = []\n",
    "values   = []\n",
    "\n",
    "for current in dfLeistungKPI['Spannung'].unique():\n",
    "    \n",
    "    # get all information about a current in a small frame\n",
    "    tmp = dfLeistungKPI[dfLeistungKPI.Spannung == current]\n",
    "    \n",
    "    # get the value for 'Kabelleitung'\n",
    "    colNames.append(current + '_Kabel')\n",
    "    kabelleitung = tmp[tmp.Leitung == 'Kabelleitung']['Laenge'].values[0]\n",
    "    values.append(kabelleitung)\n",
    "    \n",
    "    # get the sum of both types\n",
    "    colNames.append(current + '_Total')\n",
    "    sumOfBoth = tmp['Laenge'].sum()\n",
    "    values.append(sumOfBoth)\n",
    "\n",
    "    \n",
    "dfResults = pd.DataFrame(values).T\n",
    "dfResults.columns = colNames\n",
    "df"
   ]
  },
  {
   "cell_type": "code",
   "execution_count": 25,
   "metadata": {},
   "outputs": [
    {
     "data": {
      "text/plain": [
       "[100, 232423, 7, 12]"
      ]
     },
     "execution_count": 25,
     "metadata": {},
     "output_type": "execute_result"
    }
   ],
   "source": [
    "values"
   ]
  },
  {
   "cell_type": "code",
   "execution_count": 29,
   "metadata": {},
   "outputs": [
    {
     "data": {
      "text/html": [
       "<div>\n",
       "<style scoped>\n",
       "    .dataframe tbody tr th:only-of-type {\n",
       "        vertical-align: middle;\n",
       "    }\n",
       "\n",
       "    .dataframe tbody tr th {\n",
       "        vertical-align: top;\n",
       "    }\n",
       "\n",
       "    .dataframe thead th {\n",
       "        text-align: right;\n",
       "    }\n",
       "</style>\n",
       "<table border=\"1\" class=\"dataframe\">\n",
       "  <thead>\n",
       "    <tr style=\"text-align: right;\">\n",
       "      <th></th>\n",
       "      <th>S110kV_Kabel</th>\n",
       "      <th>S110kV_Total</th>\n",
       "      <th>S20kV_Kabel</th>\n",
       "      <th>S20kV_Total</th>\n",
       "    </tr>\n",
       "  </thead>\n",
       "  <tbody>\n",
       "    <tr>\n",
       "      <th>0</th>\n",
       "      <td>100</td>\n",
       "      <td>232423</td>\n",
       "      <td>7</td>\n",
       "      <td>12</td>\n",
       "    </tr>\n",
       "  </tbody>\n",
       "</table>\n",
       "</div>"
      ],
      "text/plain": [
       "   S110kV_Kabel  S110kV_Total  S20kV_Kabel  S20kV_Total\n",
       "0           100        232423            7           12"
      ]
     },
     "execution_count": 29,
     "metadata": {},
     "output_type": "execute_result"
    }
   ],
   "source": [
    "df = pd.DataFrame(values).T\n",
    "df.columns = colNames\n",
    "df"
   ]
  },
  {
   "cell_type": "code",
   "execution_count": 13,
   "metadata": {},
   "outputs": [
    {
     "data": {
      "text/plain": [
       "[         Stromtyp Spannung       Leitung  Laenge       Datum\n",
       " 1  Allgemeinstrom   S110kV  Kabelleitung     100  12.12.2020,\n",
       " 232423,\n",
       "          Stromtyp Spannung       Leitung  Laenge       Datum\n",
       " 3  Allgemeinstrom    S20kV  Kabelleitung       7  12.12.2020,\n",
       " 12]"
      ]
     },
     "execution_count": 13,
     "metadata": {},
     "output_type": "execute_result"
    }
   ],
   "source": [
    "values"
   ]
  },
  {
   "cell_type": "code",
   "execution_count": null,
   "metadata": {},
   "outputs": [],
   "source": []
  },
  {
   "cell_type": "code",
   "execution_count": null,
   "metadata": {},
   "outputs": [],
   "source": []
  },
  {
   "cell_type": "code",
   "execution_count": 11,
   "metadata": {},
   "outputs": [
    {
     "data": {
      "text/plain": [
       "['abc',\n",
       " 'abc',\n",
       " 'abc',\n",
       " 'abc',\n",
       " 'abc',\n",
       " 'abc',\n",
       " 'abc',\n",
       " 'abc',\n",
       " 'abc',\n",
       " 'abc',\n",
       " 'abc',\n",
       " 'abc',\n",
       " 'abc',\n",
       " 'abc',\n",
       " 'abc',\n",
       " 'abc',\n",
       " 'abc']"
      ]
     },
     "execution_count": 11,
     "metadata": {},
     "output_type": "execute_result"
    }
   ],
   "source": [
    "d = len(cols) * ['abc']\n",
    "d"
   ]
  },
  {
   "cell_type": "code",
   "execution_count": 17,
   "metadata": {},
   "outputs": [
    {
     "data": {
      "text/html": [
       "<div>\n",
       "<style scoped>\n",
       "    .dataframe tbody tr th:only-of-type {\n",
       "        vertical-align: middle;\n",
       "    }\n",
       "\n",
       "    .dataframe tbody tr th {\n",
       "        vertical-align: top;\n",
       "    }\n",
       "\n",
       "    .dataframe thead th {\n",
       "        text-align: right;\n",
       "    }\n",
       "</style>\n",
       "<table border=\"1\" class=\"dataframe\">\n",
       "  <thead>\n",
       "    <tr style=\"text-align: right;\">\n",
       "      <th></th>\n",
       "      <th>ID</th>\n",
       "      <th>Titel</th>\n",
       "      <th>Beschreibung</th>\n",
       "      <th>Organisationseinheit</th>\n",
       "      <th>Kontakt</th>\n",
       "      <th>Publikationsdatum</th>\n",
       "      <th>Schlüsselworte</th>\n",
       "      <th>Aktualisierungsintervall</th>\n",
       "      <th>Letze_Aktualisierung</th>\n",
       "      <th>Dateninhaber</th>\n",
       "      <th>Status</th>\n",
       "      <th>Klassifizierung</th>\n",
       "      <th>Offenheit</th>\n",
       "      <th>Personendaten</th>\n",
       "      <th>Stammdaten</th>\n",
       "      <th>Referenzdaten</th>\n",
       "      <th>Datentyp</th>\n",
       "    </tr>\n",
       "  </thead>\n",
       "  <tbody>\n",
       "    <tr>\n",
       "      <th>0</th>\n",
       "      <td>abc</td>\n",
       "      <td>abc</td>\n",
       "      <td>abc</td>\n",
       "      <td>abc</td>\n",
       "      <td>abc</td>\n",
       "      <td>abc</td>\n",
       "      <td>abc</td>\n",
       "      <td>abc</td>\n",
       "      <td>abc</td>\n",
       "      <td>abc</td>\n",
       "      <td>abc</td>\n",
       "      <td>abc</td>\n",
       "      <td>abc</td>\n",
       "      <td>abc</td>\n",
       "      <td>abc</td>\n",
       "      <td>abc</td>\n",
       "      <td>abc</td>\n",
       "    </tr>\n",
       "  </tbody>\n",
       "</table>\n",
       "</div>"
      ],
      "text/plain": [
       "    ID Titel Beschreibung Organisationseinheit Kontakt Publikationsdatum  \\\n",
       "0  abc   abc          abc                  abc     abc               abc   \n",
       "\n",
       "  Schlüsselworte Aktualisierungsintervall Letze_Aktualisierung Dateninhaber  \\\n",
       "0            abc                      abc                  abc          abc   \n",
       "\n",
       "  Status Klassifizierung Offenheit Personendaten Stammdaten Referenzdaten  \\\n",
       "0    abc             abc       abc           abc        abc           abc   \n",
       "\n",
       "  Datentyp  \n",
       "0      abc  "
      ]
     },
     "execution_count": 17,
     "metadata": {},
     "output_type": "execute_result"
    }
   ],
   "source": [
    "df = pd.DataFrame(d).T\n",
    "df.columns = cols\n",
    "df"
   ]
  },
  {
   "cell_type": "code",
   "execution_count": 18,
   "metadata": {},
   "outputs": [],
   "source": [
    "df.to_json('outputs/json_test.json', orient='records')"
   ]
  },
  {
   "cell_type": "code",
   "execution_count": null,
   "metadata": {},
   "outputs": [],
   "source": []
  },
  {
   "cell_type": "code",
   "execution_count": null,
   "metadata": {},
   "outputs": [],
   "source": []
  },
  {
   "cell_type": "code",
   "execution_count": null,
   "metadata": {},
   "outputs": [],
   "source": []
  },
  {
   "cell_type": "code",
   "execution_count": null,
   "metadata": {},
   "outputs": [],
   "source": []
  },
  {
   "cell_type": "code",
   "execution_count": 12,
   "metadata": {},
   "outputs": [
    {
     "ename": "ValueError",
     "evalue": "Shape of passed values is (17, 1), indices imply (17, 17)",
     "output_type": "error",
     "traceback": [
      "\u001b[1;31m---------------------------------------------------------------------------\u001b[0m",
      "\u001b[1;31mValueError\u001b[0m                                Traceback (most recent call last)",
      "\u001b[1;32mC:\\Program Files\\ArcGIS\\Pro\\bin\\Python\\envs\\arcgispro-py3\\lib\\site-packages\\pandas\\core\\internals\\managers.py\u001b[0m in \u001b[0;36mcreate_block_manager_from_blocks\u001b[1;34m(blocks, axes)\u001b[0m\n\u001b[0;32m   1675\u001b[0m                     make_block(\n\u001b[1;32m-> 1676\u001b[1;33m                         \u001b[0mvalues\u001b[0m\u001b[1;33m=\u001b[0m\u001b[0mblocks\u001b[0m\u001b[1;33m[\u001b[0m\u001b[1;36m0\u001b[0m\u001b[1;33m]\u001b[0m\u001b[1;33m,\u001b[0m \u001b[0mplacement\u001b[0m\u001b[1;33m=\u001b[0m\u001b[0mslice\u001b[0m\u001b[1;33m(\u001b[0m\u001b[1;36m0\u001b[0m\u001b[1;33m,\u001b[0m \u001b[0mlen\u001b[0m\u001b[1;33m(\u001b[0m\u001b[0maxes\u001b[0m\u001b[1;33m[\u001b[0m\u001b[1;36m0\u001b[0m\u001b[1;33m]\u001b[0m\u001b[1;33m)\u001b[0m\u001b[1;33m)\u001b[0m\u001b[1;33m,\u001b[0m \u001b[0mndim\u001b[0m\u001b[1;33m=\u001b[0m\u001b[1;36m2\u001b[0m\u001b[1;33m\u001b[0m\u001b[1;33m\u001b[0m\u001b[0m\n\u001b[0m\u001b[0;32m   1677\u001b[0m                     )\n",
      "\u001b[1;32mC:\\Program Files\\ArcGIS\\Pro\\bin\\Python\\envs\\arcgispro-py3\\lib\\site-packages\\pandas\\core\\internals\\blocks.py\u001b[0m in \u001b[0;36mmake_block\u001b[1;34m(values, placement, klass, ndim, dtype)\u001b[0m\n\u001b[0;32m   2731\u001b[0m \u001b[1;33m\u001b[0m\u001b[0m\n\u001b[1;32m-> 2732\u001b[1;33m     \u001b[1;32mreturn\u001b[0m \u001b[0mklass\u001b[0m\u001b[1;33m(\u001b[0m\u001b[0mvalues\u001b[0m\u001b[1;33m,\u001b[0m \u001b[0mndim\u001b[0m\u001b[1;33m=\u001b[0m\u001b[0mndim\u001b[0m\u001b[1;33m,\u001b[0m \u001b[0mplacement\u001b[0m\u001b[1;33m=\u001b[0m\u001b[0mplacement\u001b[0m\u001b[1;33m)\u001b[0m\u001b[1;33m\u001b[0m\u001b[1;33m\u001b[0m\u001b[0m\n\u001b[0m\u001b[0;32m   2733\u001b[0m \u001b[1;33m\u001b[0m\u001b[0m\n",
      "\u001b[1;32mC:\\Program Files\\ArcGIS\\Pro\\bin\\Python\\envs\\arcgispro-py3\\lib\\site-packages\\pandas\\core\\internals\\blocks.py\u001b[0m in \u001b[0;36m__init__\u001b[1;34m(self, values, placement, ndim)\u001b[0m\n\u001b[0;32m    142\u001b[0m             raise ValueError(\n\u001b[1;32m--> 143\u001b[1;33m                 \u001b[1;34mf\"Wrong number of items passed {len(self.values)}, \"\u001b[0m\u001b[1;33m\u001b[0m\u001b[1;33m\u001b[0m\u001b[0m\n\u001b[0m\u001b[0;32m    144\u001b[0m                 \u001b[1;34mf\"placement implies {len(self.mgr_locs)}\"\u001b[0m\u001b[1;33m\u001b[0m\u001b[1;33m\u001b[0m\u001b[0m\n",
      "\u001b[1;31mValueError\u001b[0m: Wrong number of items passed 1, placement implies 17",
      "\nDuring handling of the above exception, another exception occurred:\n",
      "\u001b[1;31mValueError\u001b[0m                                Traceback (most recent call last)",
      "\u001b[1;32m<ipython-input-12-5395398d2190>\u001b[0m in \u001b[0;36m<module>\u001b[1;34m\u001b[0m\n\u001b[0;32m      2\u001b[0m                            \u001b[1;34m'Publikationsdatum'\u001b[0m\u001b[1;33m,\u001b[0m \u001b[1;34m'Schlüsselworte'\u001b[0m\u001b[1;33m,\u001b[0m \u001b[1;34m'Aktualisierungsintervall'\u001b[0m\u001b[1;33m,\u001b[0m\u001b[1;33m\u001b[0m\u001b[1;33m\u001b[0m\u001b[0m\n\u001b[0;32m      3\u001b[0m                            \u001b[1;34m'Letze_Aktualisierung'\u001b[0m\u001b[1;33m,\u001b[0m \u001b[1;34m'Dateninhaber'\u001b[0m\u001b[1;33m,\u001b[0m \u001b[1;34m'Status'\u001b[0m\u001b[1;33m,\u001b[0m \u001b[1;34m'Klassifizierung'\u001b[0m\u001b[1;33m,\u001b[0m\u001b[1;33m\u001b[0m\u001b[1;33m\u001b[0m\u001b[0m\n\u001b[1;32m----> 4\u001b[1;33m                            'Offenheit', 'Personendaten', 'Stammdaten', 'Referenzdaten', 'Datentyp'])\n\u001b[0m\u001b[0;32m      5\u001b[0m \u001b[0mdf\u001b[0m\u001b[1;33m\u001b[0m\u001b[1;33m\u001b[0m\u001b[0m\n",
      "\u001b[1;32mC:\\Program Files\\ArcGIS\\Pro\\bin\\Python\\envs\\arcgispro-py3\\lib\\site-packages\\pandas\\core\\frame.py\u001b[0m in \u001b[0;36m__init__\u001b[1;34m(self, data, index, columns, dtype, copy)\u001b[0m\n\u001b[0;32m    582\u001b[0m                     \u001b[0mmgr\u001b[0m \u001b[1;33m=\u001b[0m \u001b[0marrays_to_mgr\u001b[0m\u001b[1;33m(\u001b[0m\u001b[0marrays\u001b[0m\u001b[1;33m,\u001b[0m \u001b[0mcolumns\u001b[0m\u001b[1;33m,\u001b[0m \u001b[0mindex\u001b[0m\u001b[1;33m,\u001b[0m \u001b[0mcolumns\u001b[0m\u001b[1;33m,\u001b[0m \u001b[0mdtype\u001b[0m\u001b[1;33m=\u001b[0m\u001b[0mdtype\u001b[0m\u001b[1;33m)\u001b[0m\u001b[1;33m\u001b[0m\u001b[1;33m\u001b[0m\u001b[0m\n\u001b[0;32m    583\u001b[0m                 \u001b[1;32melse\u001b[0m\u001b[1;33m:\u001b[0m\u001b[1;33m\u001b[0m\u001b[1;33m\u001b[0m\u001b[0m\n\u001b[1;32m--> 584\u001b[1;33m                     \u001b[0mmgr\u001b[0m \u001b[1;33m=\u001b[0m \u001b[0minit_ndarray\u001b[0m\u001b[1;33m(\u001b[0m\u001b[0mdata\u001b[0m\u001b[1;33m,\u001b[0m \u001b[0mindex\u001b[0m\u001b[1;33m,\u001b[0m \u001b[0mcolumns\u001b[0m\u001b[1;33m,\u001b[0m \u001b[0mdtype\u001b[0m\u001b[1;33m=\u001b[0m\u001b[0mdtype\u001b[0m\u001b[1;33m,\u001b[0m \u001b[0mcopy\u001b[0m\u001b[1;33m=\u001b[0m\u001b[0mcopy\u001b[0m\u001b[1;33m)\u001b[0m\u001b[1;33m\u001b[0m\u001b[1;33m\u001b[0m\u001b[0m\n\u001b[0m\u001b[0;32m    585\u001b[0m             \u001b[1;32melse\u001b[0m\u001b[1;33m:\u001b[0m\u001b[1;33m\u001b[0m\u001b[1;33m\u001b[0m\u001b[0m\n\u001b[0;32m    586\u001b[0m                 \u001b[0mmgr\u001b[0m \u001b[1;33m=\u001b[0m \u001b[0minit_dict\u001b[0m\u001b[1;33m(\u001b[0m\u001b[1;33m{\u001b[0m\u001b[1;33m}\u001b[0m\u001b[1;33m,\u001b[0m \u001b[0mindex\u001b[0m\u001b[1;33m,\u001b[0m \u001b[0mcolumns\u001b[0m\u001b[1;33m,\u001b[0m \u001b[0mdtype\u001b[0m\u001b[1;33m=\u001b[0m\u001b[0mdtype\u001b[0m\u001b[1;33m)\u001b[0m\u001b[1;33m\u001b[0m\u001b[1;33m\u001b[0m\u001b[0m\n",
      "\u001b[1;32mC:\\Program Files\\ArcGIS\\Pro\\bin\\Python\\envs\\arcgispro-py3\\lib\\site-packages\\pandas\\core\\internals\\construction.py\u001b[0m in \u001b[0;36minit_ndarray\u001b[1;34m(values, index, columns, dtype, copy)\u001b[0m\n\u001b[0;32m    236\u001b[0m         \u001b[0mblock_values\u001b[0m \u001b[1;33m=\u001b[0m \u001b[1;33m[\u001b[0m\u001b[0mvalues\u001b[0m\u001b[1;33m]\u001b[0m\u001b[1;33m\u001b[0m\u001b[1;33m\u001b[0m\u001b[0m\n\u001b[0;32m    237\u001b[0m \u001b[1;33m\u001b[0m\u001b[0m\n\u001b[1;32m--> 238\u001b[1;33m     \u001b[1;32mreturn\u001b[0m \u001b[0mcreate_block_manager_from_blocks\u001b[0m\u001b[1;33m(\u001b[0m\u001b[0mblock_values\u001b[0m\u001b[1;33m,\u001b[0m \u001b[1;33m[\u001b[0m\u001b[0mcolumns\u001b[0m\u001b[1;33m,\u001b[0m \u001b[0mindex\u001b[0m\u001b[1;33m]\u001b[0m\u001b[1;33m)\u001b[0m\u001b[1;33m\u001b[0m\u001b[1;33m\u001b[0m\u001b[0m\n\u001b[0m\u001b[0;32m    239\u001b[0m \u001b[1;33m\u001b[0m\u001b[0m\n\u001b[0;32m    240\u001b[0m \u001b[1;33m\u001b[0m\u001b[0m\n",
      "\u001b[1;32mC:\\Program Files\\ArcGIS\\Pro\\bin\\Python\\envs\\arcgispro-py3\\lib\\site-packages\\pandas\\core\\internals\\managers.py\u001b[0m in \u001b[0;36mcreate_block_manager_from_blocks\u001b[1;34m(blocks, axes)\u001b[0m\n\u001b[0;32m   1685\u001b[0m         \u001b[0mblocks\u001b[0m \u001b[1;33m=\u001b[0m \u001b[1;33m[\u001b[0m\u001b[0mgetattr\u001b[0m\u001b[1;33m(\u001b[0m\u001b[0mb\u001b[0m\u001b[1;33m,\u001b[0m \u001b[1;34m\"values\"\u001b[0m\u001b[1;33m,\u001b[0m \u001b[0mb\u001b[0m\u001b[1;33m)\u001b[0m \u001b[1;32mfor\u001b[0m \u001b[0mb\u001b[0m \u001b[1;32min\u001b[0m \u001b[0mblocks\u001b[0m\u001b[1;33m]\u001b[0m\u001b[1;33m\u001b[0m\u001b[1;33m\u001b[0m\u001b[0m\n\u001b[0;32m   1686\u001b[0m         \u001b[0mtot_items\u001b[0m \u001b[1;33m=\u001b[0m \u001b[0msum\u001b[0m\u001b[1;33m(\u001b[0m\u001b[0mb\u001b[0m\u001b[1;33m.\u001b[0m\u001b[0mshape\u001b[0m\u001b[1;33m[\u001b[0m\u001b[1;36m0\u001b[0m\u001b[1;33m]\u001b[0m \u001b[1;32mfor\u001b[0m \u001b[0mb\u001b[0m \u001b[1;32min\u001b[0m \u001b[0mblocks\u001b[0m\u001b[1;33m)\u001b[0m\u001b[1;33m\u001b[0m\u001b[1;33m\u001b[0m\u001b[0m\n\u001b[1;32m-> 1687\u001b[1;33m         \u001b[1;32mraise\u001b[0m \u001b[0mconstruction_error\u001b[0m\u001b[1;33m(\u001b[0m\u001b[0mtot_items\u001b[0m\u001b[1;33m,\u001b[0m \u001b[0mblocks\u001b[0m\u001b[1;33m[\u001b[0m\u001b[1;36m0\u001b[0m\u001b[1;33m]\u001b[0m\u001b[1;33m.\u001b[0m\u001b[0mshape\u001b[0m\u001b[1;33m[\u001b[0m\u001b[1;36m1\u001b[0m\u001b[1;33m:\u001b[0m\u001b[1;33m]\u001b[0m\u001b[1;33m,\u001b[0m \u001b[0maxes\u001b[0m\u001b[1;33m,\u001b[0m \u001b[0me\u001b[0m\u001b[1;33m)\u001b[0m\u001b[1;33m\u001b[0m\u001b[1;33m\u001b[0m\u001b[0m\n\u001b[0m\u001b[0;32m   1688\u001b[0m \u001b[1;33m\u001b[0m\u001b[0m\n\u001b[0;32m   1689\u001b[0m \u001b[1;33m\u001b[0m\u001b[0m\n",
      "\u001b[1;31mValueError\u001b[0m: Shape of passed values is (17, 1), indices imply (17, 17)"
     ]
    }
   ],
   "source": [
    "df = pd.DataFrame(d, columns=['ID', 'Titel', 'Beschreibung', 'Organisationseinheit', 'Kontakt',\n",
    "                           'Publikationsdatum', 'Schlüsselworte', 'Aktualisierungsintervall',\n",
    "                           'Letze_Aktualisierung', 'Dateninhaber', 'Status', 'Klassifizierung',\n",
    "                           'Offenheit', 'Personendaten', 'Stammdaten', 'Referenzdaten', 'Datentyp'])\n",
    "df"
   ]
  },
  {
   "cell_type": "code",
   "execution_count": 8,
   "metadata": {},
   "outputs": [
    {
     "data": {
      "text/plain": [
       "17"
      ]
     },
     "execution_count": 8,
     "metadata": {},
     "output_type": "execute_result"
    }
   ],
   "source": [
    "cols=['ID', 'Titel', 'Beschreibung', 'Organisationseinheit', 'Kontakt',\n",
    "                           'Publikationsdatum', 'Schlüsselworte', 'Aktualisierungsintervall',\n",
    "                           'Letze_Aktualisierung', 'Dateninhaber', 'Status', 'Klassifizierung',\n",
    "                           'Offenheit', 'Personendaten', 'Stammdaten', 'Referenzdaten', 'Datentyp']\n",
    "len(cols)"
   ]
  },
  {
   "cell_type": "code",
   "execution_count": 68,
   "metadata": {},
   "outputs": [],
   "source": [
    "# BFE Abnahme\n",
    "packages = 'https://ckan.ogdch-abnahme.clients.liip.ch/api/3/action/package_search?fq=organization:(bundesamt-fur-energie-bfe)&rows=500'\n",
    "\n",
    "# Make the HTTP request\n",
    "response = requests.get(packages)\n",
    "\n",
    "# Use the json module to load CKAN's response into a dictionary\n",
    "response_dict = json.loads(response.content)\n",
    "\n",
    "# Check the contents of the response\n",
    "assert response_dict['success'] is True  # make sure if response is OK\n",
    "\n",
    "# Get a list of all publications and their information (each publication is a dictionary)\n",
    "data = response_dict['result']['results'].copy()\n",
    "\n",
    "# get all upper keys\n",
    "allKeys = []\n",
    "\n",
    "# store information about each dataset in a frame\n",
    "df = pd.DataFrame(data)[['id','title','url', 'relations', 'resources']]\n",
    "df"
   ]
  },
  {
   "cell_type": "code",
   "execution_count": 69,
   "metadata": {},
   "outputs": [],
   "source": [
    "def check_url(url):\n",
    "  try:\n",
    "    get = requests.head(url)\n",
    "\n",
    "    if get.status_code < 400:\n",
    "      return True\n",
    "    else:\n",
    "      return False\n",
    "\n",
    "  except requests.exceptions.RequestException as e:\n",
    "    raise SystemExit(f\"{url}: is NOT reachable \\nErr: {e}\")"
   ]
  },
  {
   "cell_type": "code",
   "execution_count": 70,
   "metadata": {},
   "outputs": [],
   "source": [
    "def addHTTPS(url):\n",
    "  adjusted = url.replace(\"http:\", \"https:\" )\n",
    "  adjusted = adjusted.replace(\"www\", \"https://www\" )\n",
    "\n",
    "  return adjusted.replace(\"https://https://www\", \"https://www\" )"
   ]
  },
  {
   "cell_type": "code",
   "execution_count": null,
   "metadata": {},
   "outputs": [],
   "source": [
    "def addHTTP(url):\n",
    "  adjusted = url.replace(\"www\", \"http://www\")\n",
    "  \n",
    "  return adjusted.replace(\"http://http://www\", \"http://www\")"
   ]
  },
  {
   "cell_type": "code",
   "execution_count": null,
   "metadata": {},
   "outputs": [],
   "source": [
    "def getURLs(urls):\n",
    "  \n",
    "  links = []\n",
    "\n",
    "  for url in urls:\n",
    "\n",
    "    url_modified    = ''\n",
    "    # only store links which are faulty or need a protocol update (https)\n",
    "    needsToBeListed = False\n",
    "\n",
    "    if 'https' in url:\n",
    "      working = check_url(url)\n",
    "\n",
    "      if not working:\n",
    "        needsToBeListed = True\n",
    "\n",
    "\n",
    "    else:\n",
    "      \n",
    "      url_modified = addHTTPS(url)\n",
    "      working = check_url(url_modified)\n",
    "\n",
    "      if working:\n",
    "        needsToBeListed = True\n",
    "        \n",
    "      else:\n",
    "        # does not change http: urls\n",
    "        url_modified = addHTTPS(url)\n",
    "        working = check_url(url)\n",
    "\n",
    "        if not working:\n",
    "          url_modified = ''\n",
    "          needsToBeListed = True\n",
    "\n",
    "    if not needsToBeListed:\n",
    "      continue\n",
    "    \n",
    "\n",
    "    links.append([url, url_modified])\n",
    "\n",
    "  return links\n"
   ]
  },
  {
   "cell_type": "code",
   "execution_count": null,
   "metadata": {},
   "outputs": [],
   "source": []
  },
  {
   "cell_type": "code",
   "execution_count": null,
   "metadata": {},
   "outputs": [],
   "source": []
  },
  {
   "cell_type": "code",
   "execution_count": null,
   "metadata": {},
   "outputs": [],
   "source": []
  },
  {
   "cell_type": "code",
   "execution_count": null,
   "metadata": {},
   "outputs": [],
   "source": []
  },
  {
   "cell_type": "code",
   "execution_count": null,
   "metadata": {},
   "outputs": [],
   "source": []
  },
  {
   "cell_type": "code",
   "execution_count": null,
   "metadata": {},
   "outputs": [],
   "source": [
    "cols = ['url']\n",
    "\n",
    "for index, row in df.iterrows():\n",
    "\n",
    "  title = row['title']['de']\n",
    "  #print(title)\n",
    "  dataset_id = row['id']\n",
    "\n",
    "  for col in cols:\n",
    "\n",
    "    val = row[col]\n",
    "    urls = extractor.find_urls(val)\n",
    "\n",
    "    for i in urls:\n",
    "      print(i)\n",
    "      if 'https' not in i:\n",
    "        check_url(i)"
   ]
  },
  {
   "cell_type": "code",
   "execution_count": null,
   "metadata": {},
   "outputs": [],
   "source": []
  },
  {
   "cell_type": "code",
   "execution_count": null,
   "metadata": {},
   "outputs": [],
   "source": [
    "url_modified    = ''\n",
    "# only store links which are faulty or need a protocol update (https)\n",
    "needsToBeListed = False\n",
    "\n",
    "if 'https' in url:\n",
    "  working = check_url(url)\n",
    "\n",
    "  if not working:\n",
    "    needsToBeListed = True\n",
    "\n",
    "\n",
    "else:\n",
    "  \n",
    "  url_modified = addHTTPS(url)\n",
    "  working = check_url(url_modified)\n",
    "\n",
    "  if working:\n",
    "    needsToBeListed = True\n",
    "    \n",
    "  else:\n",
    "    # does not change http: urls\n",
    "    url_modified = addHTTPS(url)\n",
    "    working = check_url(url)\n",
    "\n",
    "    if not working:\n",
    "      url_modified = ''\n",
    "      needsToBeListed = True\n",
    "\n",
    "if not needsToBeListed:\n",
    "  donotign = 0\n",
    "\n",
    "#\n",
    "  "
   ]
  },
  {
   "cell_type": "code",
   "execution_count": null,
   "metadata": {},
   "outputs": [],
   "source": [
    "\n",
    "links = []\n",
    "\n",
    "for url in urls:\n",
    "\n",
    "  url_modified    = ''\n",
    "  # only store links which are faulty or need a protocol update (https)\n",
    "  needsToBeListed = False\n",
    "\n",
    "  if 'https' in url:\n",
    "    working = check_url(url)\n",
    "\n",
    "    if not working:\n",
    "      needsToBeListed = True\n",
    "\n",
    "\n",
    "  else:\n",
    "    \n",
    "    url_modified = addHTTPS(url)\n",
    "    working = check_url(url_modified)\n",
    "\n",
    "    if working:\n",
    "      needsToBeListed = True\n",
    "      \n",
    "    else:\n",
    "      # does not change http: urls\n",
    "      url_modified = addHTTPS(url)\n",
    "      working = check_url(url)\n",
    "\n",
    "      if not working:\n",
    "        url_modified = ''\n",
    "        needsToBeListed = True\n",
    "\n",
    "  if not needsToBeListed:\n",
    "    continue\n",
    "  \n",
    "\n",
    "  links.append([url, url_modified])\n"
   ]
  },
  {
   "cell_type": "code",
   "execution_count": null,
   "metadata": {},
   "outputs": [],
   "source": []
  },
  {
   "cell_type": "code",
   "execution_count": null,
   "metadata": {},
   "outputs": [],
   "source": []
  },
  {
   "cell_type": "code",
   "execution_count": null,
   "metadata": {},
   "outputs": [],
   "source": []
  },
  {
   "cell_type": "code",
   "execution_count": 71,
   "metadata": {},
   "outputs": [],
   "source": [
    "def fromDictionary(d):\n",
    "\n",
    "    changed  = False\n",
    "\n",
    "    for key in d.keys():\n",
    "\n",
    "        val      = d[key]\n",
    "        isString = True\n",
    "        \n",
    "\n",
    "        if type(val) not in [dict, str, list]:\n",
    "            continue\n",
    "        elif type(val) != str:\n",
    "            isString = False\n",
    "            val = str(val)\n",
    "\n",
    "        urls = extractor.find_urls(val)\n",
    "\n",
    "        if len(urls) == 0:\n",
    "            continue\n",
    "        else:\n",
    "            for url in urls:\n",
    "\n",
    "                working = False\n",
    "\n",
    "                if not any(prefix in url for prefix in ['www', 'http']):\n",
    "                    continue\n",
    "                elif 'https://' in url:\n",
    "                    continue\n",
    "                else:\n",
    "                    #first check if the adjusted url works, then replace it in the original\n",
    "\n",
    "                    working, adjusted_url = testAdjustedURL(url)\n",
    "\n",
    "                    if working:\n",
    "                        changed = True\n",
    "\n",
    "                        if isString:\n",
    "                            d[key] = val.replace(url, adjusted_url)\n",
    "                        else:\n",
    "                            d[key] = ast.literal_eval(val.replace(url, adjusted_url))\n",
    "\n",
    "\n",
    "    if changed:\n",
    "        return [d]\n",
    "    else:\n",
    "        return []\n"
   ]
  },
  {
   "cell_type": "code",
   "execution_count": 72,
   "metadata": {},
   "outputs": [],
   "source": [
    "def fromList(l):\n",
    "\n",
    "    changed  = False\n",
    "\n",
    "    for i in range(len(l)):\n",
    "\n",
    "        val = l[i]\n",
    "        isString = True\n",
    "\n",
    "        if type(val) not in [dict, str, list]:\n",
    "            continue\n",
    "        elif type(val) != str:\n",
    "            isString = False\n",
    "            val = str(val)\n",
    "\n",
    "        urls = extractor.find_urls(val)\n",
    "\n",
    "        if len(urls) == 0:\n",
    "            continue\n",
    "        else:\n",
    "            for url in urls:\n",
    "\n",
    "                working = False\n",
    "\n",
    "                if not any(prefix in url for prefix in ['www', 'http']):\n",
    "                    continue\n",
    "                elif 'https://' in url:\n",
    "                    continue\n",
    "                else:\n",
    "                    #first check if the adjusted url works, then replace it in the original\n",
    "\n",
    "                    working, adjusted_url = testAdjustedURL(url)\n",
    "\n",
    "                    if working:\n",
    "                        changed = True\n",
    "\n",
    "                        if isString:\n",
    "                            l[i] = val.replace(url, adjusted_url)\n",
    "                        else:\n",
    "                            l[i] = ast.literal_eval(val.replace(url, adjusted_url))\n",
    "\n",
    "\n",
    "    if changed:\n",
    "        return [l]\n",
    "    else:\n",
    "        return []\n"
   ]
  },
  {
   "cell_type": "code",
   "execution_count": 73,
   "metadata": {},
   "outputs": [],
   "source": [
    "def fromString(string):\n",
    "     \n",
    "     changed = False\n",
    "     urls = extractor.find_urls(string)\n",
    "     \n",
    "     for url in urls:\n",
    "          \n",
    "          working = False\n",
    "          \n",
    "          if not any(prefix in url for prefix in ['www', 'http']):\n",
    "               continue\n",
    "          elif 'https://' in url:\n",
    "               continue\n",
    "\n",
    "          # change to https://\n",
    "          else:\n",
    "               working, adjusted_url = testAdjustedURL(url)\n",
    "            \n",
    "          \n",
    "          if working:\n",
    "               changed = True\n",
    "               string  = string.replace(url, adjusted_url)\n",
    "               \n",
    "     \n",
    "     if changed:\n",
    "          return [string]\n",
    "     else:\n",
    "          return []"
   ]
  },
  {
   "cell_type": "code",
   "execution_count": 74,
   "metadata": {},
   "outputs": [],
   "source": [
    "def getInfo(elem):\n",
    "\n",
    "    if type(elem) == dict:\n",
    "        return fromDictionary(elem)\n",
    "\n",
    "    elif type(elem) == list:\n",
    "        return fromList(elem)\n",
    "\n",
    "    elif type(elem) == str:\n",
    "        return fromString(elem)\n",
    "\n",
    "    else:\n",
    "        return []"
   ]
  },
  {
   "cell_type": "code",
   "execution_count": 75,
   "metadata": {},
   "outputs": [],
   "source": [
    "cols = df.columns\n",
    "\n",
    "packageIDs      = []\n",
    "packageNames    = []\n",
    "attributeNames  = []\n",
    "attributeValues = []\n",
    "\n",
    "for index, row in df.iterrows():\n",
    "    for col in cols:\n",
    "\n",
    "        value = getInfo(row[col])\n",
    "\n",
    "        if value == []:\n",
    "            continue\n",
    "        \n",
    "        else:\n",
    "            packageIDs.append(row['id'])\n",
    "            packageNames.append(row['title']['de'])\n",
    "            attributeNames.append(col)\n",
    "            attributeValues = attributeValues + value"
   ]
  },
  {
   "cell_type": "code",
   "execution_count": 84,
   "metadata": {},
   "outputs": [],
   "source": [
    "frame = pd.DataFrame([packageIDs, packageNames, attributeNames, attributeValues]).T\n",
    "frame.columns = ['package_id', 'package_name', 'attribute_name', 'attribute_value']\n",
    "frame.to_csv('linkAndAttributeValues.csv', index=False)"
   ]
  }
 ],
 "metadata": {
  "kernelspec": {
   "display_name": "Python 3",
   "language": "python",
   "name": "python3"
  },
  "language_info": {
   "codemirror_mode": {
    "name": "ipython",
    "version": 3
   },
   "file_extension": ".py",
   "mimetype": "text/x-python",
   "name": "python",
   "nbconvert_exporter": "python",
   "pygments_lexer": "ipython3",
   "version": "3.7.11"
  },
  "vscode": {
   "interpreter": {
    "hash": "3ad933181bd8a04b432d3370b9dc3b0662ad032c4dfaa4e4f1596c548f763858"
   }
  }
 },
 "nbformat": 4,
 "nbformat_minor": 2
}
