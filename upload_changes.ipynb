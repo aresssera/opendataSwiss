{
  "cells": [
    {
      "cell_type": "markdown",
      "metadata": {
        "id": "DzwK27VIoOO6"
      },
      "source": [
        "Get all datasets and the according attribute values which contain (at least) one link without _https_ which also works with the replaced protocol."
      ]
    },
    {
      "cell_type": "code",
      "execution_count": null,
      "metadata": {
        "id": "pVCk8MnfoOO7"
      },
      "outputs": [],
      "source": [
        "! pip install urlextract"
      ]
    },
    {
      "cell_type": "code",
      "execution_count": 1,
      "metadata": {
        "id": "1j3rArYvoOO8"
      },
      "outputs": [],
      "source": [
        "import pandas as pd # 0.23.0\n",
        "import numpy as np\n",
        "import requests as r\n",
        "import urllib3"
      ]
    },
    {
      "cell_type": "code",
      "execution_count": 2,
      "metadata": {
        "id": "inPbQHRJoOO8",
        "outputId": "18f49322-cdd0-4d7a-8190-fb7d5368339d",
        "colab": {
          "base_uri": "https://localhost:8080/",
          "height": 424
        }
      },
      "outputs": [
        {
          "output_type": "execute_result",
          "data": {
            "text/plain": [
              "                                                 title       type  \\\n",
              "0    Aktuelle Pilot- und Demonstrationsprojekte des...  resources   \n",
              "1    Aktuelle Pilot- und Demonstrationsprojekte des...  resources   \n",
              "2    Analyse des schweizerischen Energieverbrauchs ...    dataset   \n",
              "3    Analyse des schweizerischen Energieverbrauchs ...  resources   \n",
              "4    Angebote der Innovationsförderung im Energiebe...    dataset   \n",
              "..                                                 ...        ...   \n",
              "122  Windatlas Schweiz: Jahresmittel der modelliert...  resources   \n",
              "123  Windatlas Schweiz: Jahresmittel der modelliert...  resources   \n",
              "124  Wochenstatistik Elektrizitätsbilanz - Erzeugun...    dataset   \n",
              "125  Wochenstatistik Elektrizitätsbilanz - Erzeugun...  resources   \n",
              "126  energiedashboard.ch: Stromverbrauch Prognose SDSC    dataset   \n",
              "\n",
              "        attribute                                    id  \\\n",
              "0    download_url  ff6a28fe-f691-4ee1-87df-50ef4d8decf6   \n",
              "1             url  ff6a28fe-f691-4ee1-87df-50ef4d8decf6   \n",
              "2             url  cd67848c-9051-44e1-9e72-11c153b46abb   \n",
              "3             url  d904c440-fdb6-4e98-baff-52f73b1f6a06   \n",
              "4             url  44f9dd93-6bd0-4d56-8650-e472b44b72b0   \n",
              "..            ...                                   ...   \n",
              "122  download_url  98f52d31-ed69-4634-b95d-2ba786f83cfb   \n",
              "123           url  98f52d31-ed69-4634-b95d-2ba786f83cfb   \n",
              "124           url  979f37ed-fcb5-4400-802b-be0bb2833ea4   \n",
              "125           uri  2d524296-9638-4ae5-b623-07b253540f7c   \n",
              "126           url  1bcdc4fe-3e5d-42c2-bcb7-446595653265   \n",
              "\n",
              "                                              old_link  \\\n",
              "0    https://data.geo.admin.ch/ch.bfe.energieforsch...   \n",
              "1    https://data.geo.admin.ch/ch.bfe.energieforsch...   \n",
              "2                         http://www.bfe.admin.ch/ogd3   \n",
              "3                         http://www.bfe.admin.ch/ogd3   \n",
              "4                         http://www.bfe.admin.ch/ogd4   \n",
              "..                                                 ...   \n",
              "122  https://data.geo.admin.ch/ch.bfe.windenergie-g...   \n",
              "123  https://data.geo.admin.ch/ch.bfe.windenergie-g...   \n",
              "124                      http://www.bfe.admin.ch/ogd51   \n",
              "125  https://ckan.opendata.swiss/dataset/9ab8ccdd-a...   \n",
              "126                   www.bfe.admin.ch/digitalisierung   \n",
              "\n",
              "                                     new_link  \n",
              "0                                           -  \n",
              "1                                           -  \n",
              "2               https://www.bfe.admin.ch/ogd3  \n",
              "3               https://www.bfe.admin.ch/ogd3  \n",
              "4               https://www.bfe.admin.ch/ogd4  \n",
              "..                                        ...  \n",
              "122                                         -  \n",
              "123                                         -  \n",
              "124            https://www.bfe.admin.ch/ogd51  \n",
              "125                                         -  \n",
              "126  https://www.bfe.admin.ch/digitalisierung  \n",
              "\n",
              "[127 rows x 6 columns]"
            ],
            "text/html": [
              "\n",
              "  <div id=\"df-b6238b05-f7b6-4996-8718-92df052be813\">\n",
              "    <div class=\"colab-df-container\">\n",
              "      <div>\n",
              "<style scoped>\n",
              "    .dataframe tbody tr th:only-of-type {\n",
              "        vertical-align: middle;\n",
              "    }\n",
              "\n",
              "    .dataframe tbody tr th {\n",
              "        vertical-align: top;\n",
              "    }\n",
              "\n",
              "    .dataframe thead th {\n",
              "        text-align: right;\n",
              "    }\n",
              "</style>\n",
              "<table border=\"1\" class=\"dataframe\">\n",
              "  <thead>\n",
              "    <tr style=\"text-align: right;\">\n",
              "      <th></th>\n",
              "      <th>title</th>\n",
              "      <th>type</th>\n",
              "      <th>attribute</th>\n",
              "      <th>id</th>\n",
              "      <th>old_link</th>\n",
              "      <th>new_link</th>\n",
              "    </tr>\n",
              "  </thead>\n",
              "  <tbody>\n",
              "    <tr>\n",
              "      <th>0</th>\n",
              "      <td>Aktuelle Pilot- und Demonstrationsprojekte des...</td>\n",
              "      <td>resources</td>\n",
              "      <td>download_url</td>\n",
              "      <td>ff6a28fe-f691-4ee1-87df-50ef4d8decf6</td>\n",
              "      <td>https://data.geo.admin.ch/ch.bfe.energieforsch...</td>\n",
              "      <td>-</td>\n",
              "    </tr>\n",
              "    <tr>\n",
              "      <th>1</th>\n",
              "      <td>Aktuelle Pilot- und Demonstrationsprojekte des...</td>\n",
              "      <td>resources</td>\n",
              "      <td>url</td>\n",
              "      <td>ff6a28fe-f691-4ee1-87df-50ef4d8decf6</td>\n",
              "      <td>https://data.geo.admin.ch/ch.bfe.energieforsch...</td>\n",
              "      <td>-</td>\n",
              "    </tr>\n",
              "    <tr>\n",
              "      <th>2</th>\n",
              "      <td>Analyse des schweizerischen Energieverbrauchs ...</td>\n",
              "      <td>dataset</td>\n",
              "      <td>url</td>\n",
              "      <td>cd67848c-9051-44e1-9e72-11c153b46abb</td>\n",
              "      <td>http://www.bfe.admin.ch/ogd3</td>\n",
              "      <td>https://www.bfe.admin.ch/ogd3</td>\n",
              "    </tr>\n",
              "    <tr>\n",
              "      <th>3</th>\n",
              "      <td>Analyse des schweizerischen Energieverbrauchs ...</td>\n",
              "      <td>resources</td>\n",
              "      <td>url</td>\n",
              "      <td>d904c440-fdb6-4e98-baff-52f73b1f6a06</td>\n",
              "      <td>http://www.bfe.admin.ch/ogd3</td>\n",
              "      <td>https://www.bfe.admin.ch/ogd3</td>\n",
              "    </tr>\n",
              "    <tr>\n",
              "      <th>4</th>\n",
              "      <td>Angebote der Innovationsförderung im Energiebe...</td>\n",
              "      <td>dataset</td>\n",
              "      <td>url</td>\n",
              "      <td>44f9dd93-6bd0-4d56-8650-e472b44b72b0</td>\n",
              "      <td>http://www.bfe.admin.ch/ogd4</td>\n",
              "      <td>https://www.bfe.admin.ch/ogd4</td>\n",
              "    </tr>\n",
              "    <tr>\n",
              "      <th>...</th>\n",
              "      <td>...</td>\n",
              "      <td>...</td>\n",
              "      <td>...</td>\n",
              "      <td>...</td>\n",
              "      <td>...</td>\n",
              "      <td>...</td>\n",
              "    </tr>\n",
              "    <tr>\n",
              "      <th>122</th>\n",
              "      <td>Windatlas Schweiz: Jahresmittel der modelliert...</td>\n",
              "      <td>resources</td>\n",
              "      <td>download_url</td>\n",
              "      <td>98f52d31-ed69-4634-b95d-2ba786f83cfb</td>\n",
              "      <td>https://data.geo.admin.ch/ch.bfe.windenergie-g...</td>\n",
              "      <td>-</td>\n",
              "    </tr>\n",
              "    <tr>\n",
              "      <th>123</th>\n",
              "      <td>Windatlas Schweiz: Jahresmittel der modelliert...</td>\n",
              "      <td>resources</td>\n",
              "      <td>url</td>\n",
              "      <td>98f52d31-ed69-4634-b95d-2ba786f83cfb</td>\n",
              "      <td>https://data.geo.admin.ch/ch.bfe.windenergie-g...</td>\n",
              "      <td>-</td>\n",
              "    </tr>\n",
              "    <tr>\n",
              "      <th>124</th>\n",
              "      <td>Wochenstatistik Elektrizitätsbilanz - Erzeugun...</td>\n",
              "      <td>dataset</td>\n",
              "      <td>url</td>\n",
              "      <td>979f37ed-fcb5-4400-802b-be0bb2833ea4</td>\n",
              "      <td>http://www.bfe.admin.ch/ogd51</td>\n",
              "      <td>https://www.bfe.admin.ch/ogd51</td>\n",
              "    </tr>\n",
              "    <tr>\n",
              "      <th>125</th>\n",
              "      <td>Wochenstatistik Elektrizitätsbilanz - Erzeugun...</td>\n",
              "      <td>resources</td>\n",
              "      <td>uri</td>\n",
              "      <td>2d524296-9638-4ae5-b623-07b253540f7c</td>\n",
              "      <td>https://ckan.opendata.swiss/dataset/9ab8ccdd-a...</td>\n",
              "      <td>-</td>\n",
              "    </tr>\n",
              "    <tr>\n",
              "      <th>126</th>\n",
              "      <td>energiedashboard.ch: Stromverbrauch Prognose SDSC</td>\n",
              "      <td>dataset</td>\n",
              "      <td>url</td>\n",
              "      <td>1bcdc4fe-3e5d-42c2-bcb7-446595653265</td>\n",
              "      <td>www.bfe.admin.ch/digitalisierung</td>\n",
              "      <td>https://www.bfe.admin.ch/digitalisierung</td>\n",
              "    </tr>\n",
              "  </tbody>\n",
              "</table>\n",
              "<p>127 rows × 6 columns</p>\n",
              "</div>\n",
              "      <button class=\"colab-df-convert\" onclick=\"convertToInteractive('df-b6238b05-f7b6-4996-8718-92df052be813')\"\n",
              "              title=\"Convert this dataframe to an interactive table.\"\n",
              "              style=\"display:none;\">\n",
              "        \n",
              "  <svg xmlns=\"http://www.w3.org/2000/svg\" height=\"24px\"viewBox=\"0 0 24 24\"\n",
              "       width=\"24px\">\n",
              "    <path d=\"M0 0h24v24H0V0z\" fill=\"none\"/>\n",
              "    <path d=\"M18.56 5.44l.94 2.06.94-2.06 2.06-.94-2.06-.94-.94-2.06-.94 2.06-2.06.94zm-11 1L8.5 8.5l.94-2.06 2.06-.94-2.06-.94L8.5 2.5l-.94 2.06-2.06.94zm10 10l.94 2.06.94-2.06 2.06-.94-2.06-.94-.94-2.06-.94 2.06-2.06.94z\"/><path d=\"M17.41 7.96l-1.37-1.37c-.4-.4-.92-.59-1.43-.59-.52 0-1.04.2-1.43.59L10.3 9.45l-7.72 7.72c-.78.78-.78 2.05 0 2.83L4 21.41c.39.39.9.59 1.41.59.51 0 1.02-.2 1.41-.59l7.78-7.78 2.81-2.81c.8-.78.8-2.07 0-2.86zM5.41 20L4 18.59l7.72-7.72 1.47 1.35L5.41 20z\"/>\n",
              "  </svg>\n",
              "      </button>\n",
              "      \n",
              "  <style>\n",
              "    .colab-df-container {\n",
              "      display:flex;\n",
              "      flex-wrap:wrap;\n",
              "      gap: 12px;\n",
              "    }\n",
              "\n",
              "    .colab-df-convert {\n",
              "      background-color: #E8F0FE;\n",
              "      border: none;\n",
              "      border-radius: 50%;\n",
              "      cursor: pointer;\n",
              "      display: none;\n",
              "      fill: #1967D2;\n",
              "      height: 32px;\n",
              "      padding: 0 0 0 0;\n",
              "      width: 32px;\n",
              "    }\n",
              "\n",
              "    .colab-df-convert:hover {\n",
              "      background-color: #E2EBFA;\n",
              "      box-shadow: 0px 1px 2px rgba(60, 64, 67, 0.3), 0px 1px 3px 1px rgba(60, 64, 67, 0.15);\n",
              "      fill: #174EA6;\n",
              "    }\n",
              "\n",
              "    [theme=dark] .colab-df-convert {\n",
              "      background-color: #3B4455;\n",
              "      fill: #D2E3FC;\n",
              "    }\n",
              "\n",
              "    [theme=dark] .colab-df-convert:hover {\n",
              "      background-color: #434B5C;\n",
              "      box-shadow: 0px 1px 3px 1px rgba(0, 0, 0, 0.15);\n",
              "      filter: drop-shadow(0px 1px 2px rgba(0, 0, 0, 0.3));\n",
              "      fill: #FFFFFF;\n",
              "    }\n",
              "  </style>\n",
              "\n",
              "      <script>\n",
              "        const buttonEl =\n",
              "          document.querySelector('#df-b6238b05-f7b6-4996-8718-92df052be813 button.colab-df-convert');\n",
              "        buttonEl.style.display =\n",
              "          google.colab.kernel.accessAllowed ? 'block' : 'none';\n",
              "\n",
              "        async function convertToInteractive(key) {\n",
              "          const element = document.querySelector('#df-b6238b05-f7b6-4996-8718-92df052be813');\n",
              "          const dataTable =\n",
              "            await google.colab.kernel.invokeFunction('convertToInteractive',\n",
              "                                                     [key], {});\n",
              "          if (!dataTable) return;\n",
              "\n",
              "          const docLinkHtml = 'Like what you see? Visit the ' +\n",
              "            '<a target=\"_blank\" href=https://colab.research.google.com/notebooks/data_table.ipynb>data table notebook</a>'\n",
              "            + ' to learn more about interactive tables.';\n",
              "          element.innerHTML = '';\n",
              "          dataTable['output_type'] = 'display_data';\n",
              "          await google.colab.output.renderOutput(dataTable, element);\n",
              "          const docLink = document.createElement('div');\n",
              "          docLink.innerHTML = docLinkHtml;\n",
              "          element.appendChild(docLink);\n",
              "        }\n",
              "      </script>\n",
              "    </div>\n",
              "  </div>\n",
              "  "
            ]
          },
          "metadata": {},
          "execution_count": 2
        }
      ],
      "source": [
        "df = pd.read_csv('file.csv')\n",
        "df"
      ]
    },
    {
      "cell_type": "code",
      "execution_count": 4,
      "metadata": {
        "id": "pS0phPuioOO9",
        "outputId": "54fbfee9-a64f-4273-f404-c9baecc8d4ae",
        "colab": {
          "base_uri": "https://localhost:8080/",
          "height": 219
        }
      },
      "outputs": [
        {
          "output_type": "execute_result",
          "data": {
            "text/plain": [
              "                                                 title       type  \\\n",
              "103  Thermische Netze (Nahwärme, Fernwärme, Fernkälte)  resources   \n",
              "104  Thermische Netze (Nahwärme, Fernwärme, Fernkälte)  resources   \n",
              "105  Thermische Netze (Nahwärme, Fernwärme, Fernkälte)  resources   \n",
              "106  Thermische Netze (Nahwärme, Fernwärme, Fernkälte)  resources   \n",
              "\n",
              "        attribute                                    id  \\\n",
              "103  download_url  be78136d-fc98-4447-8a10-96cce2c3f260   \n",
              "104  download_url  2b0c3950-a415-43be-a18d-680f92dc71d2   \n",
              "105           url  be78136d-fc98-4447-8a10-96cce2c3f260   \n",
              "106           url  2b0c3950-a415-43be-a18d-680f92dc71d2   \n",
              "\n",
              "                                              old_link  \\\n",
              "103  http://data.geo.admin.ch/ch.bfe.thermische-net...   \n",
              "104  http://data.geo.admin.ch/ch.bfe.thermische-net...   \n",
              "105  http://data.geo.admin.ch/ch.bfe.thermische-net...   \n",
              "106  http://data.geo.admin.ch/ch.bfe.thermische-net...   \n",
              "\n",
              "                                              new_link  \n",
              "103  https://data.geo.admin.ch/ch.bfe.thermische-ne...  \n",
              "104  https://data.geo.admin.ch/ch.bfe.thermische-ne...  \n",
              "105  https://data.geo.admin.ch/ch.bfe.thermische-ne...  \n",
              "106  https://data.geo.admin.ch/ch.bfe.thermische-ne...  "
            ],
            "text/html": [
              "\n",
              "  <div id=\"df-ad8adab0-b232-4a0c-88ea-33919540bf25\">\n",
              "    <div class=\"colab-df-container\">\n",
              "      <div>\n",
              "<style scoped>\n",
              "    .dataframe tbody tr th:only-of-type {\n",
              "        vertical-align: middle;\n",
              "    }\n",
              "\n",
              "    .dataframe tbody tr th {\n",
              "        vertical-align: top;\n",
              "    }\n",
              "\n",
              "    .dataframe thead th {\n",
              "        text-align: right;\n",
              "    }\n",
              "</style>\n",
              "<table border=\"1\" class=\"dataframe\">\n",
              "  <thead>\n",
              "    <tr style=\"text-align: right;\">\n",
              "      <th></th>\n",
              "      <th>title</th>\n",
              "      <th>type</th>\n",
              "      <th>attribute</th>\n",
              "      <th>id</th>\n",
              "      <th>old_link</th>\n",
              "      <th>new_link</th>\n",
              "    </tr>\n",
              "  </thead>\n",
              "  <tbody>\n",
              "    <tr>\n",
              "      <th>103</th>\n",
              "      <td>Thermische Netze (Nahwärme, Fernwärme, Fernkälte)</td>\n",
              "      <td>resources</td>\n",
              "      <td>download_url</td>\n",
              "      <td>be78136d-fc98-4447-8a10-96cce2c3f260</td>\n",
              "      <td>http://data.geo.admin.ch/ch.bfe.thermische-net...</td>\n",
              "      <td>https://data.geo.admin.ch/ch.bfe.thermische-ne...</td>\n",
              "    </tr>\n",
              "    <tr>\n",
              "      <th>104</th>\n",
              "      <td>Thermische Netze (Nahwärme, Fernwärme, Fernkälte)</td>\n",
              "      <td>resources</td>\n",
              "      <td>download_url</td>\n",
              "      <td>2b0c3950-a415-43be-a18d-680f92dc71d2</td>\n",
              "      <td>http://data.geo.admin.ch/ch.bfe.thermische-net...</td>\n",
              "      <td>https://data.geo.admin.ch/ch.bfe.thermische-ne...</td>\n",
              "    </tr>\n",
              "    <tr>\n",
              "      <th>105</th>\n",
              "      <td>Thermische Netze (Nahwärme, Fernwärme, Fernkälte)</td>\n",
              "      <td>resources</td>\n",
              "      <td>url</td>\n",
              "      <td>be78136d-fc98-4447-8a10-96cce2c3f260</td>\n",
              "      <td>http://data.geo.admin.ch/ch.bfe.thermische-net...</td>\n",
              "      <td>https://data.geo.admin.ch/ch.bfe.thermische-ne...</td>\n",
              "    </tr>\n",
              "    <tr>\n",
              "      <th>106</th>\n",
              "      <td>Thermische Netze (Nahwärme, Fernwärme, Fernkälte)</td>\n",
              "      <td>resources</td>\n",
              "      <td>url</td>\n",
              "      <td>2b0c3950-a415-43be-a18d-680f92dc71d2</td>\n",
              "      <td>http://data.geo.admin.ch/ch.bfe.thermische-net...</td>\n",
              "      <td>https://data.geo.admin.ch/ch.bfe.thermische-ne...</td>\n",
              "    </tr>\n",
              "  </tbody>\n",
              "</table>\n",
              "</div>\n",
              "      <button class=\"colab-df-convert\" onclick=\"convertToInteractive('df-ad8adab0-b232-4a0c-88ea-33919540bf25')\"\n",
              "              title=\"Convert this dataframe to an interactive table.\"\n",
              "              style=\"display:none;\">\n",
              "        \n",
              "  <svg xmlns=\"http://www.w3.org/2000/svg\" height=\"24px\"viewBox=\"0 0 24 24\"\n",
              "       width=\"24px\">\n",
              "    <path d=\"M0 0h24v24H0V0z\" fill=\"none\"/>\n",
              "    <path d=\"M18.56 5.44l.94 2.06.94-2.06 2.06-.94-2.06-.94-.94-2.06-.94 2.06-2.06.94zm-11 1L8.5 8.5l.94-2.06 2.06-.94-2.06-.94L8.5 2.5l-.94 2.06-2.06.94zm10 10l.94 2.06.94-2.06 2.06-.94-2.06-.94-.94-2.06-.94 2.06-2.06.94z\"/><path d=\"M17.41 7.96l-1.37-1.37c-.4-.4-.92-.59-1.43-.59-.52 0-1.04.2-1.43.59L10.3 9.45l-7.72 7.72c-.78.78-.78 2.05 0 2.83L4 21.41c.39.39.9.59 1.41.59.51 0 1.02-.2 1.41-.59l7.78-7.78 2.81-2.81c.8-.78.8-2.07 0-2.86zM5.41 20L4 18.59l7.72-7.72 1.47 1.35L5.41 20z\"/>\n",
              "  </svg>\n",
              "      </button>\n",
              "      \n",
              "  <style>\n",
              "    .colab-df-container {\n",
              "      display:flex;\n",
              "      flex-wrap:wrap;\n",
              "      gap: 12px;\n",
              "    }\n",
              "\n",
              "    .colab-df-convert {\n",
              "      background-color: #E8F0FE;\n",
              "      border: none;\n",
              "      border-radius: 50%;\n",
              "      cursor: pointer;\n",
              "      display: none;\n",
              "      fill: #1967D2;\n",
              "      height: 32px;\n",
              "      padding: 0 0 0 0;\n",
              "      width: 32px;\n",
              "    }\n",
              "\n",
              "    .colab-df-convert:hover {\n",
              "      background-color: #E2EBFA;\n",
              "      box-shadow: 0px 1px 2px rgba(60, 64, 67, 0.3), 0px 1px 3px 1px rgba(60, 64, 67, 0.15);\n",
              "      fill: #174EA6;\n",
              "    }\n",
              "\n",
              "    [theme=dark] .colab-df-convert {\n",
              "      background-color: #3B4455;\n",
              "      fill: #D2E3FC;\n",
              "    }\n",
              "\n",
              "    [theme=dark] .colab-df-convert:hover {\n",
              "      background-color: #434B5C;\n",
              "      box-shadow: 0px 1px 3px 1px rgba(0, 0, 0, 0.15);\n",
              "      filter: drop-shadow(0px 1px 2px rgba(0, 0, 0, 0.3));\n",
              "      fill: #FFFFFF;\n",
              "    }\n",
              "  </style>\n",
              "\n",
              "      <script>\n",
              "        const buttonEl =\n",
              "          document.querySelector('#df-ad8adab0-b232-4a0c-88ea-33919540bf25 button.colab-df-convert');\n",
              "        buttonEl.style.display =\n",
              "          google.colab.kernel.accessAllowed ? 'block' : 'none';\n",
              "\n",
              "        async function convertToInteractive(key) {\n",
              "          const element = document.querySelector('#df-ad8adab0-b232-4a0c-88ea-33919540bf25');\n",
              "          const dataTable =\n",
              "            await google.colab.kernel.invokeFunction('convertToInteractive',\n",
              "                                                     [key], {});\n",
              "          if (!dataTable) return;\n",
              "\n",
              "          const docLinkHtml = 'Like what you see? Visit the ' +\n",
              "            '<a target=\"_blank\" href=https://colab.research.google.com/notebooks/data_table.ipynb>data table notebook</a>'\n",
              "            + ' to learn more about interactive tables.';\n",
              "          element.innerHTML = '';\n",
              "          dataTable['output_type'] = 'display_data';\n",
              "          await google.colab.output.renderOutput(dataTable, element);\n",
              "          const docLink = document.createElement('div');\n",
              "          docLink.innerHTML = docLinkHtml;\n",
              "          element.appendChild(docLink);\n",
              "        }\n",
              "      </script>\n",
              "    </div>\n",
              "  </div>\n",
              "  "
            ]
          },
          "metadata": {},
          "execution_count": 4
        }
      ],
      "source": [
        "df[df.title == 'Thermische Netze (Nahwärme, Fernwärme, Fernkälte)']"
      ]
    },
    {
      "cell_type": "code",
      "source": [
        "tmp = df[df['id'] == '979f37ed-fcb5-4400-802b-be0bb2833ea4']\n",
        "print(tmp['title'])"
      ],
      "metadata": {
        "id": "G0T4bMl9rbFi",
        "outputId": "5386bb2f-d81a-48c7-e661-8709bc019463",
        "colab": {
          "base_uri": "https://localhost:8080/"
        }
      },
      "execution_count": 23,
      "outputs": [
        {
          "output_type": "stream",
          "name": "stdout",
          "text": [
            "124    Wochenstatistik Elektrizitätsbilanz - Erzeugun...\n",
            "Name: title, dtype: object\n"
          ]
        }
      ]
    },
    {
      "cell_type": "code",
      "execution_count": 6,
      "metadata": {
        "id": "Nqup0qnkoOPC"
      },
      "outputs": [],
      "source": [
        "urllib3.disable_warnings(urllib3.exceptions.InsecureRequestWarning)\n",
        "\n",
        "s = r.Session()\n",
        "\n",
        "proxies = None\n",
        "\n",
        "private_api_key = 'cc1c806e-1fd9-4180-a6bf-7a5304ca503a'"
      ]
    },
    {
      "cell_type": "code",
      "execution_count": 13,
      "metadata": {
        "id": "LvSHl1WgoOPC"
      },
      "outputs": [],
      "source": [
        "patch_url = 'https://ckan.ogdch-abnahme.clients.liip.ch/api/3/action/package_patch'"
      ]
    },
    {
      "cell_type": "code",
      "source": [
        "header = {'Authorization': private_api_key}"
      ],
      "metadata": {
        "id": "kRmVxkFGsELh"
      },
      "execution_count": 14,
      "outputs": []
    },
    {
      "cell_type": "code",
      "source": [
        "data = {'id': str(tmp['id'].values[0]),\n",
        "        tmp['attribute'].values[0] : str(tmp['new_link'].values[0])}\n",
        "    \n",
        "print(data)\n",
        "    \n",
        "x = s.post(patch_url,data=data,proxies=proxies,headers=header,verify=False)\n",
        "print(x.status_code)"
      ],
      "metadata": {
        "id": "Q_fxRM8wsIdC",
        "outputId": "1fce76a8-c3dc-427f-9912-e4e81b8b9f16",
        "colab": {
          "base_uri": "https://localhost:8080/"
        }
      },
      "execution_count": 21,
      "outputs": [
        {
          "output_type": "stream",
          "name": "stdout",
          "text": [
            "{'id': '979f37ed-fcb5-4400-802b-be0bb2833ea4', 'url': 'https://www.bfe.admin.ch/ogd51'}\n",
            "200\n"
          ]
        }
      ]
    },
    {
      "cell_type": "code",
      "source": [
        "tmp['attribute'].values[0]"
      ],
      "metadata": {
        "id": "OHWQezFasnJc",
        "outputId": "8ba5261e-282e-4233-d23c-60ead1e58d24",
        "colab": {
          "base_uri": "https://localhost:8080/",
          "height": 35
        }
      },
      "execution_count": 20,
      "outputs": [
        {
          "output_type": "execute_result",
          "data": {
            "text/plain": [
              "'url'"
            ],
            "application/vnd.google.colaboratory.intrinsic+json": {
              "type": "string"
            }
          },
          "metadata": {},
          "execution_count": 20
        }
      ]
    },
    {
      "cell_type": "code",
      "source": [
        "tmp['id'].values[0]"
      ],
      "metadata": {
        "id": "UyKjOragsuPK",
        "outputId": "babd3dfd-a17a-4409-f7ee-1c01ac63f0a7",
        "colab": {
          "base_uri": "https://localhost:8080/",
          "height": 35
        }
      },
      "execution_count": 19,
      "outputs": [
        {
          "output_type": "execute_result",
          "data": {
            "text/plain": [
              "'979f37ed-fcb5-4400-802b-be0bb2833ea4'"
            ],
            "application/vnd.google.colaboratory.intrinsic+json": {
              "type": "string"
            }
          },
          "metadata": {},
          "execution_count": 19
        }
      ]
    },
    {
      "cell_type": "code",
      "source": [],
      "metadata": {
        "id": "G8TwOMgMsxzp"
      },
      "execution_count": null,
      "outputs": []
    }
  ],
  "metadata": {
    "kernelspec": {
      "display_name": "Python 3",
      "language": "python",
      "name": "python3"
    },
    "language_info": {
      "codemirror_mode": {
        "name": "ipython",
        "version": 3
      },
      "file_extension": ".py",
      "mimetype": "text/x-python",
      "name": "python",
      "nbconvert_exporter": "python",
      "pygments_lexer": "ipython3",
      "version": "3.7.11"
    },
    "vscode": {
      "interpreter": {
        "hash": "3ad933181bd8a04b432d3370b9dc3b0662ad032c4dfaa4e4f1596c548f763858"
      }
    },
    "colab": {
      "provenance": []
    }
  },
  "nbformat": 4,
  "nbformat_minor": 0
}